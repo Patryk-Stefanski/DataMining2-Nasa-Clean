{
 "cells": [
  {
   "cell_type": "markdown",
   "id": "3f848ab5-dd86-45c1-afc4-772289075d48",
   "metadata": {},
   "source": [
    "# NASA Defects - Model Building"
   ]
  },
  {
   "cell_type": "markdown",
   "id": "ebdaa343-b73f-46ef-b88c-197b0f8f4cb6",
   "metadata": {},
   "source": [
    "## Setup"
   ]
  },
  {
   "cell_type": "code",
   "execution_count": 1,
   "id": "4f42632f-3813-4391-b2aa-897fe1f5fca9",
   "metadata": {},
   "outputs": [],
   "source": [
    "import pandas as pd\n",
    "import numpy as np\n",
    "import matplotlib.pyplot as plt\n",
    "import seaborn as sns\n",
    "\n",
    "from IPython.display import display, Markdown\n",
    "plt.style.use(\"seaborn-darkgrid\")\n",
    "pd.set_option('display.max_columns', None)  \n",
    "\n",
    "import sys, os, yaml\n",
    "\n",
    "DATASET = \"US_Churn\"\n",
    "\n",
    "COLAB = 'google.colab' in sys.modules\n",
    "if COLAB:\n",
    "    ROOT = f\"/content/gdrive/MyDrive/datasets/{DATASET.replace(' ','_')}/\"\n",
    "else:\n",
    "    ROOT = \"./\"\n",
    "\n",
    "DEBUG = False\n",
    "SEED = 1612"
   ]
  },
  {
   "cell_type": "code",
   "execution_count": 2,
   "id": "fc2e8543-7ba1-430d-b17a-0c3a973be31a",
   "metadata": {},
   "outputs": [],
   "source": [
    "if COLAB:\n",
    "    from google.colab import drive\n",
    "    if not os.path.isdir(\"/content/gdrive\"):\n",
    "        drive.mount(\"/content/gdrive\")\n",
    "        d = \"/content/gdrive/MyDrive/datasets\"\n",
    "        if not os.path.isdir(d): os.makedirs(d)\n",
    "        if not os.path.isdir(ROOT): os.makedirs(ROOT)\n",
    "\n",
    "def makedirs(d):\n",
    "    if COLAB:\n",
    "        if not os.path.isdir(ROOT+d): os.makedirs(ROOT+d)\n",
    "    else:\n",
    "        if not os.path.isdir(ROOT+d): os.makedirs(ROOT+d, mode=0o777, exist_ok=True)\n",
    "\n",
    "for d in ['orig','data','output']: makedirs(d)"
   ]
  },
  {
   "cell_type": "markdown",
   "id": "1d96cb74-d89f-470b-9d81-d5a7a9cd5805",
   "metadata": {},
   "source": [
    "## Dataset"
   ]
  },
  {
   "cell_type": "code",
   "execution_count": 3,
   "id": "8f7514cd-c4e3-4a45-89ba-5fd6627eb548",
   "metadata": {},
   "outputs": [
    {
     "name": "stdout",
     "output_type": "stream",
     "text": [
      "(933, 37)\n"
     ]
    },
    {
     "data": {
      "text/html": [
       "<div>\n",
       "<style scoped>\n",
       "    .dataframe tbody tr th:only-of-type {\n",
       "        vertical-align: middle;\n",
       "    }\n",
       "\n",
       "    .dataframe tbody tr th {\n",
       "        vertical-align: top;\n",
       "    }\n",
       "\n",
       "    .dataframe thead th {\n",
       "        text-align: right;\n",
       "    }\n",
       "</style>\n",
       "<table border=\"1\" class=\"dataframe\">\n",
       "  <thead>\n",
       "    <tr style=\"text-align: right;\">\n",
       "      <th></th>\n",
       "      <th>BRANCH_COUNT</th>\n",
       "      <th>CALL_PAIRS</th>\n",
       "      <th>LOC_CODE_AND_COMMENT</th>\n",
       "      <th>LOC_COMMENTS</th>\n",
       "      <th>CONDITION_COUNT</th>\n",
       "      <th>CYCLOMATIC_COMPLEXITY</th>\n",
       "      <th>CYCLOMATIC_DENSITY</th>\n",
       "      <th>DECISION_COUNT</th>\n",
       "      <th>DECISION_DENSITY</th>\n",
       "      <th>DESIGN_COMPLEXITY</th>\n",
       "      <th>DESIGN_DENSITY</th>\n",
       "      <th>EDGE_COUNT</th>\n",
       "      <th>ESSENTIAL_COMPLEXITY</th>\n",
       "      <th>ESSENTIAL_DENSITY</th>\n",
       "      <th>LOC_EXECUTABLE</th>\n",
       "      <th>PARAMETER_COUNT</th>\n",
       "      <th>HALSTEAD_CONTENT</th>\n",
       "      <th>HALSTEAD_DIFFICULTY</th>\n",
       "      <th>HALSTEAD_EFFORT</th>\n",
       "      <th>HALSTEAD_ERROR_EST</th>\n",
       "      <th>HALSTEAD_LENGTH</th>\n",
       "      <th>HALSTEAD_LEVEL</th>\n",
       "      <th>HALSTEAD_PROG_TIME</th>\n",
       "      <th>HALSTEAD_VOLUME</th>\n",
       "      <th>MAINTENANCE_SEVERITY</th>\n",
       "      <th>MODIFIED_CONDITION_COUNT</th>\n",
       "      <th>MULTIPLE_CONDITION_COUNT</th>\n",
       "      <th>NODE_COUNT</th>\n",
       "      <th>NORMALIZED_CYLOMATIC_COMPLEXITY</th>\n",
       "      <th>NUM_OPERANDS</th>\n",
       "      <th>NUM_OPERATORS</th>\n",
       "      <th>NUM_UNIQUE_OPERANDS</th>\n",
       "      <th>NUM_UNIQUE_OPERATORS</th>\n",
       "      <th>NUMBER_OF_LINES</th>\n",
       "      <th>PERCENT_COMMENTS</th>\n",
       "      <th>LOC_TOTAL</th>\n",
       "      <th>defects</th>\n",
       "    </tr>\n",
       "  </thead>\n",
       "  <tbody>\n",
       "    <tr>\n",
       "      <th>0</th>\n",
       "      <td>1.0</td>\n",
       "      <td>4.0</td>\n",
       "      <td>7.0</td>\n",
       "      <td>24.0</td>\n",
       "      <td>0.0</td>\n",
       "      <td>1.0</td>\n",
       "      <td>0.13</td>\n",
       "      <td>0.0</td>\n",
       "      <td>0.0</td>\n",
       "      <td>1.0</td>\n",
       "      <td>1.00</td>\n",
       "      <td>6.0</td>\n",
       "      <td>1.0</td>\n",
       "      <td>0.0</td>\n",
       "      <td>1.0</td>\n",
       "      <td>0.0</td>\n",
       "      <td>17.88</td>\n",
       "      <td>7.43</td>\n",
       "      <td>986.77</td>\n",
       "      <td>0.04</td>\n",
       "      <td>34.0</td>\n",
       "      <td>0.13</td>\n",
       "      <td>54.82</td>\n",
       "      <td>132.83</td>\n",
       "      <td>1.0</td>\n",
       "      <td>0.0</td>\n",
       "      <td>0.0</td>\n",
       "      <td>7.0</td>\n",
       "      <td>0.03</td>\n",
       "      <td>13.0</td>\n",
       "      <td>21.0</td>\n",
       "      <td>7.0</td>\n",
       "      <td>8.0</td>\n",
       "      <td>34.0</td>\n",
       "      <td>96.88</td>\n",
       "      <td>8.0</td>\n",
       "      <td>False</td>\n",
       "    </tr>\n",
       "    <tr>\n",
       "      <th>1</th>\n",
       "      <td>1.0</td>\n",
       "      <td>1.0</td>\n",
       "      <td>11.0</td>\n",
       "      <td>3.0</td>\n",
       "      <td>0.0</td>\n",
       "      <td>1.0</td>\n",
       "      <td>0.08</td>\n",
       "      <td>0.0</td>\n",
       "      <td>0.0</td>\n",
       "      <td>1.0</td>\n",
       "      <td>1.00</td>\n",
       "      <td>2.0</td>\n",
       "      <td>1.0</td>\n",
       "      <td>0.0</td>\n",
       "      <td>1.0</td>\n",
       "      <td>0.0</td>\n",
       "      <td>42.62</td>\n",
       "      <td>7.81</td>\n",
       "      <td>2598.31</td>\n",
       "      <td>0.11</td>\n",
       "      <td>77.0</td>\n",
       "      <td>0.13</td>\n",
       "      <td>144.35</td>\n",
       "      <td>332.79</td>\n",
       "      <td>1.0</td>\n",
       "      <td>0.0</td>\n",
       "      <td>0.0</td>\n",
       "      <td>3.0</td>\n",
       "      <td>0.06</td>\n",
       "      <td>29.0</td>\n",
       "      <td>48.0</td>\n",
       "      <td>13.0</td>\n",
       "      <td>7.0</td>\n",
       "      <td>17.0</td>\n",
       "      <td>93.33</td>\n",
       "      <td>12.0</td>\n",
       "      <td>False</td>\n",
       "    </tr>\n",
       "    <tr>\n",
       "      <th>2</th>\n",
       "      <td>5.0</td>\n",
       "      <td>1.0</td>\n",
       "      <td>9.0</td>\n",
       "      <td>10.0</td>\n",
       "      <td>6.0</td>\n",
       "      <td>3.0</td>\n",
       "      <td>0.25</td>\n",
       "      <td>2.0</td>\n",
       "      <td>3.0</td>\n",
       "      <td>2.0</td>\n",
       "      <td>0.67</td>\n",
       "      <td>9.0</td>\n",
       "      <td>3.0</td>\n",
       "      <td>1.0</td>\n",
       "      <td>3.0</td>\n",
       "      <td>3.0</td>\n",
       "      <td>15.53</td>\n",
       "      <td>18.90</td>\n",
       "      <td>5545.97</td>\n",
       "      <td>0.10</td>\n",
       "      <td>64.0</td>\n",
       "      <td>0.05</td>\n",
       "      <td>308.11</td>\n",
       "      <td>293.44</td>\n",
       "      <td>1.0</td>\n",
       "      <td>2.0</td>\n",
       "      <td>3.0</td>\n",
       "      <td>8.0</td>\n",
       "      <td>0.13</td>\n",
       "      <td>27.0</td>\n",
       "      <td>37.0</td>\n",
       "      <td>10.0</td>\n",
       "      <td>14.0</td>\n",
       "      <td>24.0</td>\n",
       "      <td>86.36</td>\n",
       "      <td>12.0</td>\n",
       "      <td>False</td>\n",
       "    </tr>\n",
       "    <tr>\n",
       "      <th>3</th>\n",
       "      <td>1.0</td>\n",
       "      <td>0.0</td>\n",
       "      <td>3.0</td>\n",
       "      <td>5.0</td>\n",
       "      <td>0.0</td>\n",
       "      <td>1.0</td>\n",
       "      <td>0.25</td>\n",
       "      <td>0.0</td>\n",
       "      <td>0.0</td>\n",
       "      <td>1.0</td>\n",
       "      <td>1.00</td>\n",
       "      <td>1.0</td>\n",
       "      <td>1.0</td>\n",
       "      <td>0.0</td>\n",
       "      <td>1.0</td>\n",
       "      <td>1.0</td>\n",
       "      <td>20.84</td>\n",
       "      <td>3.94</td>\n",
       "      <td>323.05</td>\n",
       "      <td>0.03</td>\n",
       "      <td>21.0</td>\n",
       "      <td>0.25</td>\n",
       "      <td>17.95</td>\n",
       "      <td>82.04</td>\n",
       "      <td>1.0</td>\n",
       "      <td>0.0</td>\n",
       "      <td>0.0</td>\n",
       "      <td>2.0</td>\n",
       "      <td>0.09</td>\n",
       "      <td>9.0</td>\n",
       "      <td>12.0</td>\n",
       "      <td>8.0</td>\n",
       "      <td>7.0</td>\n",
       "      <td>11.0</td>\n",
       "      <td>88.89</td>\n",
       "      <td>4.0</td>\n",
       "      <td>False</td>\n",
       "    </tr>\n",
       "    <tr>\n",
       "      <th>4</th>\n",
       "      <td>3.0</td>\n",
       "      <td>0.0</td>\n",
       "      <td>1.0</td>\n",
       "      <td>0.0</td>\n",
       "      <td>4.0</td>\n",
       "      <td>2.0</td>\n",
       "      <td>1.00</td>\n",
       "      <td>2.0</td>\n",
       "      <td>2.0</td>\n",
       "      <td>1.0</td>\n",
       "      <td>0.50</td>\n",
       "      <td>7.0</td>\n",
       "      <td>1.0</td>\n",
       "      <td>0.0</td>\n",
       "      <td>1.0</td>\n",
       "      <td>3.0</td>\n",
       "      <td>11.42</td>\n",
       "      <td>6.67</td>\n",
       "      <td>507.65</td>\n",
       "      <td>0.03</td>\n",
       "      <td>20.0</td>\n",
       "      <td>0.15</td>\n",
       "      <td>28.20</td>\n",
       "      <td>76.15</td>\n",
       "      <td>0.5</td>\n",
       "      <td>1.0</td>\n",
       "      <td>2.0</td>\n",
       "      <td>7.0</td>\n",
       "      <td>0.50</td>\n",
       "      <td>10.0</td>\n",
       "      <td>10.0</td>\n",
       "      <td>6.0</td>\n",
       "      <td>8.0</td>\n",
       "      <td>4.0</td>\n",
       "      <td>50.00</td>\n",
       "      <td>2.0</td>\n",
       "      <td>False</td>\n",
       "    </tr>\n",
       "  </tbody>\n",
       "</table>\n",
       "</div>"
      ],
      "text/plain": [
       "   BRANCH_COUNT  CALL_PAIRS  LOC_CODE_AND_COMMENT  LOC_COMMENTS  \\\n",
       "0           1.0         4.0                   7.0          24.0   \n",
       "1           1.0         1.0                  11.0           3.0   \n",
       "2           5.0         1.0                   9.0          10.0   \n",
       "3           1.0         0.0                   3.0           5.0   \n",
       "4           3.0         0.0                   1.0           0.0   \n",
       "\n",
       "   CONDITION_COUNT  CYCLOMATIC_COMPLEXITY  CYCLOMATIC_DENSITY  DECISION_COUNT  \\\n",
       "0              0.0                    1.0                0.13             0.0   \n",
       "1              0.0                    1.0                0.08             0.0   \n",
       "2              6.0                    3.0                0.25             2.0   \n",
       "3              0.0                    1.0                0.25             0.0   \n",
       "4              4.0                    2.0                1.00             2.0   \n",
       "\n",
       "   DECISION_DENSITY  DESIGN_COMPLEXITY  DESIGN_DENSITY  EDGE_COUNT  \\\n",
       "0               0.0                1.0            1.00         6.0   \n",
       "1               0.0                1.0            1.00         2.0   \n",
       "2               3.0                2.0            0.67         9.0   \n",
       "3               0.0                1.0            1.00         1.0   \n",
       "4               2.0                1.0            0.50         7.0   \n",
       "\n",
       "   ESSENTIAL_COMPLEXITY  ESSENTIAL_DENSITY  LOC_EXECUTABLE  PARAMETER_COUNT  \\\n",
       "0                   1.0                0.0             1.0              0.0   \n",
       "1                   1.0                0.0             1.0              0.0   \n",
       "2                   3.0                1.0             3.0              3.0   \n",
       "3                   1.0                0.0             1.0              1.0   \n",
       "4                   1.0                0.0             1.0              3.0   \n",
       "\n",
       "   HALSTEAD_CONTENT  HALSTEAD_DIFFICULTY  HALSTEAD_EFFORT  HALSTEAD_ERROR_EST  \\\n",
       "0             17.88                 7.43           986.77                0.04   \n",
       "1             42.62                 7.81          2598.31                0.11   \n",
       "2             15.53                18.90          5545.97                0.10   \n",
       "3             20.84                 3.94           323.05                0.03   \n",
       "4             11.42                 6.67           507.65                0.03   \n",
       "\n",
       "   HALSTEAD_LENGTH  HALSTEAD_LEVEL  HALSTEAD_PROG_TIME  HALSTEAD_VOLUME  \\\n",
       "0             34.0            0.13               54.82           132.83   \n",
       "1             77.0            0.13              144.35           332.79   \n",
       "2             64.0            0.05              308.11           293.44   \n",
       "3             21.0            0.25               17.95            82.04   \n",
       "4             20.0            0.15               28.20            76.15   \n",
       "\n",
       "   MAINTENANCE_SEVERITY  MODIFIED_CONDITION_COUNT  MULTIPLE_CONDITION_COUNT  \\\n",
       "0                   1.0                       0.0                       0.0   \n",
       "1                   1.0                       0.0                       0.0   \n",
       "2                   1.0                       2.0                       3.0   \n",
       "3                   1.0                       0.0                       0.0   \n",
       "4                   0.5                       1.0                       2.0   \n",
       "\n",
       "   NODE_COUNT  NORMALIZED_CYLOMATIC_COMPLEXITY  NUM_OPERANDS  NUM_OPERATORS  \\\n",
       "0         7.0                             0.03          13.0           21.0   \n",
       "1         3.0                             0.06          29.0           48.0   \n",
       "2         8.0                             0.13          27.0           37.0   \n",
       "3         2.0                             0.09           9.0           12.0   \n",
       "4         7.0                             0.50          10.0           10.0   \n",
       "\n",
       "   NUM_UNIQUE_OPERANDS  NUM_UNIQUE_OPERATORS  NUMBER_OF_LINES  \\\n",
       "0                  7.0                   8.0             34.0   \n",
       "1                 13.0                   7.0             17.0   \n",
       "2                 10.0                  14.0             24.0   \n",
       "3                  8.0                   7.0             11.0   \n",
       "4                  6.0                   8.0              4.0   \n",
       "\n",
       "   PERCENT_COMMENTS  LOC_TOTAL  defects  \n",
       "0             96.88        8.0    False  \n",
       "1             93.33       12.0    False  \n",
       "2             86.36       12.0    False  \n",
       "3             88.89        4.0    False  \n",
       "4             50.00        2.0    False  "
      ]
     },
     "execution_count": 3,
     "metadata": {},
     "output_type": "execute_result"
    }
   ],
   "source": [
    "df = pd.read_csv(f\"{ROOT}/data/pc2.csv\")\n",
    "print(df.shape)\n",
    "df.head(5)"
   ]
  },
  {
   "cell_type": "markdown",
   "id": "2a7e8d84-533a-4c44-b77c-a25efeda4505",
   "metadata": {},
   "source": [
    "## Target and Features"
   ]
  },
  {
   "cell_type": "code",
   "execution_count": 4,
   "id": "f6281ff3-38bc-4acd-bbc5-48d63bf0dcae",
   "metadata": {},
   "outputs": [
    {
     "name": "stdout",
     "output_type": "stream",
     "text": [
      "Traget: defects\n",
      "Features: ['BRANCH_COUNT', 'CALL_PAIRS', 'LOC_CODE_AND_COMMENT', 'LOC_COMMENTS', 'CONDITION_COUNT', 'CYCLOMATIC_COMPLEXITY', 'CYCLOMATIC_DENSITY', 'DECISION_COUNT', 'DECISION_DENSITY', 'DESIGN_COMPLEXITY', 'DESIGN_DENSITY', 'EDGE_COUNT', 'ESSENTIAL_COMPLEXITY', 'ESSENTIAL_DENSITY', 'LOC_EXECUTABLE', 'PARAMETER_COUNT', 'HALSTEAD_CONTENT', 'HALSTEAD_DIFFICULTY', 'HALSTEAD_EFFORT', 'HALSTEAD_ERROR_EST', 'HALSTEAD_LENGTH', 'HALSTEAD_LEVEL', 'HALSTEAD_PROG_TIME', 'HALSTEAD_VOLUME', 'MAINTENANCE_SEVERITY', 'MODIFIED_CONDITION_COUNT', 'MULTIPLE_CONDITION_COUNT', 'NODE_COUNT', 'NORMALIZED_CYLOMATIC_COMPLEXITY', 'NUM_OPERANDS', 'NUM_OPERATORS', 'NUM_UNIQUE_OPERANDS', 'NUM_UNIQUE_OPERATORS', 'NUMBER_OF_LINES', 'PERCENT_COMMENTS', 'LOC_TOTAL']\n"
     ]
    }
   ],
   "source": [
    "target = \"defects\"\n",
    "features = [c for c in df.columns if c not in target]\n",
    "\n",
    "num_features = len(features)\n",
    "\n",
    "print(f\"Traget: {target}\")\n",
    "print(f\"Features: {features}\")"
   ]
  },
  {
   "cell_type": "markdown",
   "id": "82750016-5ab5-4824-b4f7-50a80f8e49f6",
   "metadata": {},
   "source": [
    "### Check target values"
   ]
  },
  {
   "cell_type": "code",
   "execution_count": 5,
   "id": "dfad1e4e-cc21-4f13-bfb3-e2dedefd176e",
   "metadata": {},
   "outputs": [
    {
     "data": {
      "text/plain": [
       "False    0.975348\n",
       "True     0.024652\n",
       "Name: defects, dtype: float64"
      ]
     },
     "execution_count": 5,
     "metadata": {},
     "output_type": "execute_result"
    }
   ],
   "source": [
    "df[target].value_counts(normalize=True)"
   ]
  },
  {
   "cell_type": "markdown",
   "id": "6c468fa7-c760-432c-83b9-5c710ec517e3",
   "metadata": {},
   "source": [
    "##### Comments\n",
    "- From the relative frequencies above we can see clearly that the dataset is unbalanced.\n",
    "- We will attempt to use a Synthetic Minority Oversampling Technique (SMOTE) to balance out the dataset."
   ]
  },
  {
   "cell_type": "markdown",
   "id": "1967f8cb-178f-424b-8205-e10f3e2b1d23",
   "metadata": {
    "tags": []
   },
   "source": [
    "## SMOTE"
   ]
  },
  {
   "cell_type": "markdown",
   "id": "2b58eaf1-f2bb-4486-91e7-abdf9dc81203",
   "metadata": {},
   "source": [
    "### Imports for SMOTE"
   ]
  },
  {
   "cell_type": "code",
   "execution_count": 6,
   "id": "3a585ee1-2f5b-4cf6-8ca2-c712d9d02c3d",
   "metadata": {},
   "outputs": [],
   "source": [
    "from collections import Counter\n",
    "from sklearn.datasets import make_classification\n",
    "from imblearn.over_sampling import SMOTE\n",
    "from imblearn.under_sampling import RandomUnderSampler\n",
    "from imblearn.pipeline import Pipeline\n",
    "from matplotlib import pyplot\n",
    "from numpy import where"
   ]
  },
  {
   "cell_type": "markdown",
   "id": "4b2dd79b-4fe6-486f-a077-75b16c33e327",
   "metadata": {},
   "source": [
    "### Create a synthetic binary classification dataset"
   ]
  },
  {
   "cell_type": "code",
   "execution_count": 7,
   "id": "a7c70b25-8261-4ebd-a741-e109d430a357",
   "metadata": {},
   "outputs": [],
   "source": [
    "X, y = make_classification(n_samples=933, n_features=36, n_redundant=0, n_clusters_per_class=1, weights=[0.975], flip_y=0, random_state=SEED)"
   ]
  },
  {
   "cell_type": "markdown",
   "id": "d7c4799d-6f0a-46c7-b23a-cd881dba5824",
   "metadata": {},
   "source": [
    "### Summarize class distribution"
   ]
  },
  {
   "cell_type": "code",
   "execution_count": 8,
   "id": "a8924f3c-b197-41e9-b5d5-48c405a79877",
   "metadata": {},
   "outputs": [
    {
     "name": "stdout",
     "output_type": "stream",
     "text": [
      "Counter({0: 910, 1: 23})\n"
     ]
    }
   ],
   "source": [
    "counter = Counter(y)\n",
    "print(counter)"
   ]
  },
  {
   "cell_type": "code",
   "execution_count": 9,
   "id": "438a589c-638d-4006-9bda-64a0d1dcf216",
   "metadata": {},
   "outputs": [
    {
     "data": {
      "image/png": "[encoded data removed]",
      "text/plain": [
       "<Figure size 640x480 with 1 Axes>"
      ]
     },
     "metadata": {},
     "output_type": "display_data"
    }
   ],
   "source": [
    "for label, _ in counter.items():\n",
    " row_ix = where(y == label)[0]\n",
    " plt.scatter(X[row_ix, 0], X[row_ix, 1], label=str(label))\n",
    "plt.legend()\n",
    "plt.show()"
   ]
  },
  {
   "cell_type": "markdown",
   "id": "4ef5bd82-a6f8-4d0f-920c-032af7cea3bf",
   "metadata": {},
   "source": [
    "### Define pipeline"
   ]
  },
  {
   "cell_type": "code",
   "execution_count": 10,
   "id": "3b34218d-1f77-4545-91cf-0794127e8dc8",
   "metadata": {},
   "outputs": [],
   "source": [
    "over = SMOTE(sampling_strategy=0.1)\n",
    "under = RandomUnderSampler(sampling_strategy=0.5)\n",
    "steps = [('o', over), ('u', under)]\n",
    "pipeline = Pipeline(steps=steps)"
   ]
  },
  {
   "cell_type": "markdown",
   "id": "a3a8a0b1-9e3d-4c47-8e00-9a6054d79af5",
   "metadata": {},
   "source": [
    "### Transform the dataset"
   ]
  },
  {
   "cell_type": "code",
   "execution_count": 11,
   "id": "2a93fea8-6b8a-4ae9-a00d-5e79705999c4",
   "metadata": {},
   "outputs": [],
   "source": [
    "X, y = pipeline.fit_resample(X, y)"
   ]
  },
  {
   "cell_type": "markdown",
   "id": "0ca4dcfa-1774-4955-8940-196aaf4bcfc8",
   "metadata": {},
   "source": [
    "### Summarize the new class distribution"
   ]
  },
  {
   "cell_type": "code",
   "execution_count": 12,
   "id": "3ecaf0e1-5bc5-4825-bb66-c13c34091f8f",
   "metadata": {},
   "outputs": [
    {
     "name": "stdout",
     "output_type": "stream",
     "text": [
      "Counter({0: 182, 1: 91})\n"
     ]
    }
   ],
   "source": [
    "counter = Counter(y)\n",
    "print(counter)"
   ]
  },
  {
   "cell_type": "code",
   "execution_count": 13,
   "id": "dafd5e9f-5fa2-47ab-a080-511499c7a67c",
   "metadata": {},
   "outputs": [
    {
     "data": {
      "image/png": "[encoded data removed]",
      "text/plain": [
       "<Figure size 640x480 with 1 Axes>"
      ]
     },
     "metadata": {},
     "output_type": "display_data"
    }
   ],
   "source": [
    "for label, _ in counter.items():\n",
    " row_ix = where(y == label)[0]\n",
    " plt.scatter(X[row_ix, 0], X[row_ix, 1], label=str(label))\n",
    "plt.legend()\n",
    "plt.show()"
   ]
  },
  {
   "cell_type": "markdown",
   "id": "0e2d936f-4a40-4e16-afd3-0a20dc5b42b9",
   "metadata": {
    "tags": []
   },
   "source": [
    "## Feature Engineering"
   ]
  },
  {
   "cell_type": "markdown",
   "id": "8023b119-2b51-41e8-a5cf-eeeb5656c51f",
   "metadata": {
    "tags": []
   },
   "source": [
    "#### Train test split"
   ]
  },
  {
   "cell_type": "code",
   "execution_count": 14,
   "id": "c79318a3-871c-4812-881b-02726337570b",
   "metadata": {},
   "outputs": [],
   "source": [
    "from sklearn.model_selection import train_test_split\n",
    "\n",
    "df_train, df_test = train_test_split(df, stratify=df[target], test_size=.40, random_state=SEED)"
   ]
  },
  {
   "cell_type": "code",
   "execution_count": 15,
   "id": "13e753c5-2356-4d18-b292-286714002bd1",
   "metadata": {},
   "outputs": [],
   "source": [
    "from sklearn.preprocessing import StandardScaler\n",
    "\n",
    "scaler = StandardScaler()\n",
    "\n",
    "X_train = scaler.fit_transform(df_train.loc[:,features].values)\n",
    "y_train = df_train.defects.values\n",
    "\n",
    "X_test = scaler.transform(df_test.loc[:,features].values)\n",
    "y_test = df_test.defects.values"
   ]
  },
  {
   "cell_type": "markdown",
   "id": "9f5c1634-b6f9-4074-80cf-b87109d042f1",
   "metadata": {
    "tags": []
   },
   "source": [
    "#### Applying smote"
   ]
  },
  {
   "cell_type": "code",
   "execution_count": 16,
   "id": "5304cc08-f404-42bb-91f6-d4fef06ce705",
   "metadata": {},
   "outputs": [],
   "source": [
    "X_smote, y_smote = pipeline.fit_resample(X_train, y_train)"
   ]
  },
  {
   "cell_type": "code",
   "execution_count": 17,
   "id": "04e00f50-c7d0-4138-bb84-c73ef5f756df",
   "metadata": {},
   "outputs": [
    {
     "name": "stderr",
     "output_type": "stream",
     "text": [
      "/home/PStefans/.local/lib/python3.10/site-packages/seaborn/_decorators.py:36: FutureWarning: Pass the following variable as a keyword arg: x. From version 0.12, the only valid positional argument will be `data`, and passing other arguments without an explicit keyword will result in an error or misinterpretation.\n",
      "  warnings.warn(\n",
      "/home/PStefans/.local/lib/python3.10/site-packages/seaborn/_decorators.py:36: FutureWarning: Pass the following variable as a keyword arg: x. From version 0.12, the only valid positional argument will be `data`, and passing other arguments without an explicit keyword will result in an error or misinterpretation.\n",
      "  warnings.warn(\n"
     ]
    },
    {
     "data": {
      "image/png": "[encoded data removed]",
      "text/plain": [
       "<Figure size 1000x800 with 2 Axes>"
      ]
     },
     "metadata": {},
     "output_type": "display_data"
    }
   ],
   "source": [
    "plt.figure(figsize = (10, 8))\n",
    "plt.subplot(1, 2, 1)\n",
    "sns.countplot(y_train)\n",
    "plt.title('Ratio before SMOTE')\n",
    "plt.subplot(1, 2, 2)\n",
    "sns.countplot(y_smote)\n",
    "plt.title('Ratio after SMOTE')\n",
    "plt.show()"
   ]
  },
  {
   "cell_type": "markdown",
   "id": "af851d5b-50fb-42fb-a514-c764446d18c8",
   "metadata": {
    "tags": []
   },
   "source": [
    "### Model Selection"
   ]
  },
  {
   "cell_type": "code",
   "execution_count": 18,
   "id": "a0730f9e-a766-4f54-97a8-032b69a140a5",
   "metadata": {},
   "outputs": [],
   "source": [
    "from sklearn.linear_model import LogisticRegression\n",
    "from sklearn.tree import DecisionTreeClassifier\n",
    "from sklearn.neural_network import MLPClassifier\n",
    "from sklearn.neighbors import KNeighborsClassifier\n",
    "from sklearn.svm import SVC\n",
    "from sklearn.model_selection import cross_val_score\n",
    "\n",
    "\n",
    "models = {\n",
    "    \"LR\": LogisticRegression(),\n",
    "    \"DT\": DecisionTreeClassifier(),\n",
    "    \"DT(max_depth=3)\": DecisionTreeClassifier(max_depth=3),\n",
    "    \"KNN\": KNeighborsClassifier(),\n",
    "    \"SVC\": SVC(),\n",
    "}\n",
    "\n",
    "def train_models():\n",
    "    best = {'name':None, 'mean':0}\n",
    "    \n",
    "    for name,model in models.items():\n",
    "    \n",
    "        scores = cross_val_score(model, X_smote, y_smote, scoring='accuracy', cv=10)\n",
    "        mean = scores.mean()\n",
    "        std = scores.std()\n",
    "        \n",
    "        print (\"\\nModel %s\" % name)\n",
    "        print (\"\\tCV scores: \" +  \", \".join([f\"{s:.2f}\" for s in scores]))\n",
    "        print (f\"\\tmean={mean:.2%} std={std:.4f}\")\n",
    "    \n",
    "        if mean>best['mean']:\n",
    "            best = {'name':name, 'mean':mean}\n",
    "\n",
    "    print (f\"\\nBest Performing Model {best['name']} with (mean CV of) accuracy = {best['mean']:.2%}\" )\n",
    "    "
   ]
  },
  {
   "cell_type": "code",
   "execution_count": 19,
   "id": "56d65ead-b34c-42f7-b339-eed89ed24b3c",
   "metadata": {},
   "outputs": [
    {
     "name": "stdout",
     "output_type": "stream",
     "text": [
      "\n",
      "Model LR\n",
      "\tCV scores: 0.82, 0.59, 0.88, 0.75, 0.69, 0.81, 0.81, 0.94, 0.94, 1.00\n",
      "\tmean=82.24% std=0.1180\n",
      "\n",
      "Model DT\n",
      "\tCV scores: 0.94, 0.71, 0.88, 0.94, 1.00, 0.88, 1.00, 0.81, 1.00, 0.81\n",
      "\tmean=89.60% std=0.0934\n",
      "\n",
      "Model DT(max_depth=3)\n",
      "\tCV scores: 0.88, 0.76, 0.88, 0.88, 1.00, 0.88, 1.00, 0.88, 1.00, 0.94\n",
      "\tmean=90.85% std=0.0720\n",
      "\n",
      "Model KNN\n",
      "\tCV scores: 0.88, 0.65, 0.88, 0.81, 0.81, 0.81, 0.94, 1.00, 0.75, 1.00\n",
      "\tmean=85.29% std=0.1047\n",
      "\n",
      "Model SVC\n",
      "\tCV scores: 0.88, 0.65, 0.81, 0.75, 0.88, 0.81, 0.81, 0.88, 0.94, 0.88\n",
      "\tmean=82.79% std=0.0782\n",
      "\n",
      "Best Performing Model DT(max_depth=3) with (mean CV of) accuracy = 90.85%\n"
     ]
    }
   ],
   "source": [
    "train_models()"
   ]
  },
  {
   "cell_type": "markdown",
   "id": "3188a8a4-a55e-468c-8a09-463ff0af5196",
   "metadata": {
    "tags": []
   },
   "source": [
    "### Feature Selection"
   ]
  },
  {
   "cell_type": "code",
   "execution_count": 20,
   "id": "d0a59124-aa58-4820-8978-9ab3ee111d79",
   "metadata": {},
   "outputs": [
    {
     "name": "stdout",
     "output_type": "stream",
     "text": [
      "Number of features starting: 36\n"
     ]
    }
   ],
   "source": [
    "print(\"Number of features starting:\", len(features))"
   ]
  },
  {
   "cell_type": "code",
   "execution_count": 21,
   "id": "21de7740-9e77-4294-b3c5-45a67ccfae54",
   "metadata": {},
   "outputs": [
    {
     "name": "stdout",
     "output_type": "stream",
     "text": [
      "Optimal number of features : 8\n"
     ]
    },
    {
     "data": {
      "image/png": "[encoded data removed]",
      "text/plain": [
       "<Figure size 640x480 with 1 Axes>"
      ]
     },
     "metadata": {},
     "output_type": "display_data"
    }
   ],
   "source": [
    "from sklearn.model_selection import StratifiedKFold\n",
    "from sklearn.feature_selection import RFECV\n",
    "\n",
    "name = 'LR'  # use any LR, DT\n",
    "model = models[name]\n",
    "\n",
    "rfecv = RFECV(estimator=model, step=1, cv=StratifiedKFold(2), scoring=\"accuracy\")\n",
    "rfecv.fit(X_smote, y_smote)\n",
    "print(\"Optimal number of features : %d\" % rfecv.n_features_)\n",
    "\n",
    "# Plot number of features VS. cross-validation scores\n",
    "plt.figure()\n",
    "plt.title(f\"{name} with RFECV\")\n",
    "plt.xlabel(\"Number of features selected\")\n",
    "plt.ylabel(\"Cross validation score\")\n",
    "results = rfecv.cv_results_\n",
    "plt.plot(range(1, len(results['mean_test_score']) + 1), results['split0_test_score'], label='split0')\n",
    "plt.plot(range(1, len(results['mean_test_score']) + 1), results['split1_test_score'], label='split1')\n",
    "plt.plot(range(1, len(results['mean_test_score']) + 1), results['mean_test_score'], label='mean')\n",
    "plt.legend()\n",
    "plt.show()"
   ]
  },
  {
   "cell_type": "code",
   "execution_count": 22,
   "id": "19c16d52-2c39-46e2-b19b-c520dbc48d89",
   "metadata": {},
   "outputs": [
    {
     "data": {
      "text/plain": [
       "['CALL_PAIRS',\n",
       " 'CONDITION_COUNT',\n",
       " 'DECISION_COUNT',\n",
       " 'DESIGN_COMPLEXITY',\n",
       " 'LOC_EXECUTABLE',\n",
       " 'MULTIPLE_CONDITION_COUNT',\n",
       " 'NORMALIZED_CYLOMATIC_COMPLEXITY',\n",
       " 'PERCENT_COMMENTS']"
      ]
     },
     "execution_count": 22,
     "metadata": {},
     "output_type": "execute_result"
    }
   ],
   "source": [
    "if len(rfecv.support_)<len(features):\n",
    "    print(\"It looks like you have run cells out of order. Runn cells from Pre-Processing Data (2)\")\n",
    "\n",
    "features_selected = np.array(features)[rfecv.support_].tolist()\n",
    "features_selected"
   ]
  },
  {
   "cell_type": "markdown",
   "id": "4b435daa-f77c-4d49-850c-f02a4cdafb37",
   "metadata": {},
   "source": [
    "#### Comment\n",
    "- When runing this without SMOTE the optimal number of features was one (percent_comment)\n",
    "- After applying smote we can see that the optimal "
   ]
  },
  {
   "cell_type": "markdown",
   "id": "33d5f004-be47-4200-ac8a-93c71bde7900",
   "metadata": {},
   "source": [
    "#### Training - After feature selection"
   ]
  },
  {
   "cell_type": "code",
   "execution_count": 23,
   "id": "cb7da811-e148-4dee-a73b-bb5809908e1a",
   "metadata": {},
   "outputs": [
    {
     "data": {
      "text/html": [
       "<div>\n",
       "<style scoped>\n",
       "    .dataframe tbody tr th:only-of-type {\n",
       "        vertical-align: middle;\n",
       "    }\n",
       "\n",
       "    .dataframe tbody tr th {\n",
       "        vertical-align: top;\n",
       "    }\n",
       "\n",
       "    .dataframe thead th {\n",
       "        text-align: right;\n",
       "    }\n",
       "</style>\n",
       "<table border=\"1\" class=\"dataframe\">\n",
       "  <thead>\n",
       "    <tr style=\"text-align: right;\">\n",
       "      <th></th>\n",
       "      <th>CALL_PAIRS</th>\n",
       "      <th>CONDITION_COUNT</th>\n",
       "      <th>DECISION_COUNT</th>\n",
       "      <th>DESIGN_COMPLEXITY</th>\n",
       "      <th>LOC_EXECUTABLE</th>\n",
       "      <th>MULTIPLE_CONDITION_COUNT</th>\n",
       "      <th>NORMALIZED_CYLOMATIC_COMPLEXITY</th>\n",
       "      <th>PERCENT_COMMENTS</th>\n",
       "      <th>defects</th>\n",
       "    </tr>\n",
       "  </thead>\n",
       "  <tbody>\n",
       "    <tr>\n",
       "      <th>0</th>\n",
       "      <td>4.0</td>\n",
       "      <td>0.0</td>\n",
       "      <td>0.0</td>\n",
       "      <td>1.0</td>\n",
       "      <td>1.0</td>\n",
       "      <td>0.0</td>\n",
       "      <td>0.03</td>\n",
       "      <td>96.88</td>\n",
       "      <td>False</td>\n",
       "    </tr>\n",
       "  </tbody>\n",
       "</table>\n",
       "</div>"
      ],
      "text/plain": [
       "   CALL_PAIRS  CONDITION_COUNT  DECISION_COUNT  DESIGN_COMPLEXITY  \\\n",
       "0         4.0              0.0             0.0                1.0   \n",
       "\n",
       "   LOC_EXECUTABLE  MULTIPLE_CONDITION_COUNT  NORMALIZED_CYLOMATIC_COMPLEXITY  \\\n",
       "0             1.0                       0.0                             0.03   \n",
       "\n",
       "   PERCENT_COMMENTS  defects  \n",
       "0             96.88    False  "
      ]
     },
     "metadata": {},
     "output_type": "display_data"
    },
    {
     "name": "stdout",
     "output_type": "stream",
     "text": [
      "\n",
      "Model LR\n",
      "\tCV scores: 1.00, 0.76, 0.69, 0.81, 1.00, 0.88, 0.69, 0.81, 0.75, 0.75\n",
      "\tmean=81.40% std=0.1075\n",
      "\n",
      "Model DT\n",
      "\tCV scores: 0.88, 0.71, 0.69, 0.94, 0.88, 0.94, 0.81, 0.69, 0.94, 0.94\n",
      "\tmean=84.01% std=0.1031\n",
      "\n",
      "Model DT(max_depth=3)\n",
      "\tCV scores: 0.76, 0.65, 0.56, 0.88, 0.81, 1.00, 0.62, 0.69, 0.81, 0.88\n",
      "\tmean=76.62% std=0.1282\n",
      "\n",
      "Model KNN\n",
      "\tCV scores: 0.88, 0.59, 0.75, 0.81, 0.81, 0.94, 0.69, 0.69, 0.75, 0.88\n",
      "\tmean=77.83% std=0.1010\n",
      "\n",
      "Model SVC\n",
      "\tCV scores: 0.76, 0.59, 0.69, 0.88, 0.88, 1.00, 0.88, 0.69, 0.81, 0.94\n",
      "\tmean=81.03% std=0.1209\n",
      "\n",
      "Best Performing Model DT with (mean CV of) accuracy = 84.01%\n"
     ]
    }
   ],
   "source": [
    "display(df.loc[:, features_selected + [target]].head(1))\n",
    "\n",
    "# normalise \n",
    "X_train = scaler.fit_transform(df_train.loc[:,features_selected].values)\n",
    "y_train = df_train.defects.values\n",
    "X_test = scaler.fit_transform(df_test.loc[:,features_selected].values)\n",
    "y_test = df_test.defects.values\n",
    "\n",
    "# apply smote\n",
    "X_smote, y_smote = pipeline.fit_resample(X_train, y_train)\n",
    "\n",
    "train_models()"
   ]
  },
  {
   "cell_type": "code",
   "execution_count": null,
   "id": "aa6da6da-9658-4469-a51c-42d5e986a1a4",
   "metadata": {},
   "outputs": [],
   "source": []
  }
 ],
 "metadata": {
  "kernelspec": {
   "display_name": "Python 3 (ipykernel)",
   "language": "python",
   "name": "python3"
  },
  "language_info": {
   "codemirror_mode": {
    "name": "ipython",
    "version": 3
   },
   "file_extension": ".py",
   "mimetype": "text/x-python",
   "name": "python",
   "nbconvert_exporter": "python",
   "pygments_lexer": "ipython3",
   "version": "3.10.2"
  }
 },
 "nbformat": 4,
 "nbformat_minor": 5
}
