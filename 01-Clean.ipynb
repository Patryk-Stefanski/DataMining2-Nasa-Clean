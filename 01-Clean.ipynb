{
 "cells": [
  {
   "cell_type": "markdown",
   "id": "62650888-11d0-477b-b1ab-b5334ba8b235",
   "metadata": {},
   "source": [
    "# pc2 - Import"
   ]
  },
  {
   "cell_type": "markdown",
   "id": "0a2d2678-8a44-4203-a11c-80b9106c2d09",
   "metadata": {},
   "source": [
    "## Setup"
   ]
  },
  {
   "cell_type": "code",
   "execution_count": 1,
   "id": "8fbf07f6-bd74-4b22-8cc2-dbfc07169aea",
   "metadata": {},
   "outputs": [],
   "source": [
    "import pandas as pd\n",
    "import numpy as np\n",
    "import matplotlib.pyplot as plt\n",
    "import seaborn as sns\n",
    "\n",
    "from IPython.display import display, Markdown\n",
    "plt.style.use(\"seaborn-darkgrid\")\n",
    "pd.set_option('display.max_columns', None)  \n",
    "\n",
    "import sys, os, yaml\n",
    "\n",
    "DATASET = \"NASA\"\n",
    "\n",
    "COLAB = 'google.colab' in sys.modules\n",
    "if COLAB:\n",
    "    ROOT = f\"/content/gdrive/MyDrive/datasets/{DATASET.replace(' ','_')}/\"\n",
    "else:\n",
    "    ROOT = \"./\"\n",
    "\n",
    "DEBUG = False\n",
    "SEED = 1612"
   ]
  },
  {
   "cell_type": "code",
   "execution_count": 2,
   "id": "e4a7c7b4-a9bd-4d3c-9788-cbe3de20dd85",
   "metadata": {},
   "outputs": [],
   "source": [
    "if COLAB:\n",
    "    from google.colab import drive\n",
    "    if not os.path.isdir(\"/content/gdrive\"):\n",
    "        drive.mount(\"/content/gdrive\")\n",
    "        d = \"/content/gdrive/MyDrive/datasets\"\n",
    "        if not os.path.isdir(d): os.makedirs(d)\n",
    "        if not os.path.isdir(ROOT): os.makedirs(ROOT)\n",
    "\n",
    "def makedirs(d):\n",
    "    if COLAB:\n",
    "        if not os.path.isdir(ROOT+d): os.makedirs(ROOT+d)\n",
    "    else:\n",
    "        if not os.path.isdir(ROOT+d): os.makedirs(ROOT+d, mode=0o777, exist_ok=True)\n",
    "\n",
    "for d in ['orig','data','output']: makedirs(d)"
   ]
  },
  {
   "cell_type": "markdown",
   "id": "65847081-3399-4f78-b3de-0d2c0da4e8e9",
   "metadata": {},
   "source": [
    "## Dataset"
   ]
  },
  {
   "cell_type": "code",
   "execution_count": 3,
   "id": "3fe1d4cf-a381-4780-8968-ae1c06b8fb77",
   "metadata": {},
   "outputs": [
    {
     "name": "stdout",
     "output_type": "stream",
     "text": [
      "Using local copy of pc2.csv\n"
     ]
    }
   ],
   "source": [
    "filename = \"pc2.csv\"\n",
    "target = f\"{ROOT}/orig/{filename}\"\n",
    "\n",
    "if not os.path.isfile(target):\n",
    "    print (f\"Downloading remote file {filename}\", sep=\"\")\n",
    "    \n",
    "    import urllib.request\n",
    "    urllib.request.urlretrieve(\"https://setu-datamining2.github.io/live/topics/21-Assignments/01-NASA_Software_Defect_Datasets/files/pc2.csv\", target)\n",
    "    \n",
    "    #df = pd.read_csv(\"https://setu-datamining2.github.io/live/topics/21-Assignments/01-NASA_Software_Defect_Datasets/files/pc2.csv\")\n",
    "    \n",
    "else:\n",
    "    df = pd.read_csv(target)\n",
    "    print(f\"Using local copy of {filename}\")        \n"
   ]
  },
  {
   "cell_type": "code",
   "execution_count": 4,
   "id": "5d4caaa4-b33a-4dd1-bb91-ad8ddceaf971",
   "metadata": {},
   "outputs": [
    {
     "name": "stdout",
     "output_type": "stream",
     "text": [
      "(5589, 37)\n"
     ]
    },
    {
     "data": {
      "text/html": [
       "<div>\n",
       "<style scoped>\n",
       "    .dataframe tbody tr th:only-of-type {\n",
       "        vertical-align: middle;\n",
       "    }\n",
       "\n",
       "    .dataframe tbody tr th {\n",
       "        vertical-align: top;\n",
       "    }\n",
       "\n",
       "    .dataframe thead th {\n",
       "        text-align: right;\n",
       "    }\n",
       "</style>\n",
       "<table border=\"1\" class=\"dataframe\">\n",
       "  <thead>\n",
       "    <tr style=\"text-align: right;\">\n",
       "      <th></th>\n",
       "      <th>BRANCH_COUNT</th>\n",
       "      <th>CALL_PAIRS</th>\n",
       "      <th>LOC_CODE_AND_COMMENT</th>\n",
       "      <th>LOC_COMMENTS</th>\n",
       "      <th>CONDITION_COUNT</th>\n",
       "      <th>CYCLOMATIC_COMPLEXITY</th>\n",
       "      <th>CYCLOMATIC_DENSITY</th>\n",
       "      <th>DECISION_COUNT</th>\n",
       "      <th>DECISION_DENSITY</th>\n",
       "      <th>DESIGN_COMPLEXITY</th>\n",
       "      <th>DESIGN_DENSITY</th>\n",
       "      <th>EDGE_COUNT</th>\n",
       "      <th>ESSENTIAL_COMPLEXITY</th>\n",
       "      <th>ESSENTIAL_DENSITY</th>\n",
       "      <th>LOC_EXECUTABLE</th>\n",
       "      <th>PARAMETER_COUNT</th>\n",
       "      <th>HALSTEAD_CONTENT</th>\n",
       "      <th>HALSTEAD_DIFFICULTY</th>\n",
       "      <th>HALSTEAD_EFFORT</th>\n",
       "      <th>HALSTEAD_ERROR_EST</th>\n",
       "      <th>HALSTEAD_LENGTH</th>\n",
       "      <th>HALSTEAD_LEVEL</th>\n",
       "      <th>HALSTEAD_PROG_TIME</th>\n",
       "      <th>HALSTEAD_VOLUME</th>\n",
       "      <th>MAINTENANCE_SEVERITY</th>\n",
       "      <th>MODIFIED_CONDITION_COUNT</th>\n",
       "      <th>MULTIPLE_CONDITION_COUNT</th>\n",
       "      <th>NODE_COUNT</th>\n",
       "      <th>NORMALIZED_CYLOMATIC_COMPLEXITY</th>\n",
       "      <th>NUM_OPERANDS</th>\n",
       "      <th>NUM_OPERATORS</th>\n",
       "      <th>NUM_UNIQUE_OPERANDS</th>\n",
       "      <th>NUM_UNIQUE_OPERATORS</th>\n",
       "      <th>NUMBER_OF_LINES</th>\n",
       "      <th>PERCENT_COMMENTS</th>\n",
       "      <th>LOC_TOTAL</th>\n",
       "      <th>defects</th>\n",
       "    </tr>\n",
       "  </thead>\n",
       "  <tbody>\n",
       "    <tr>\n",
       "      <th>0</th>\n",
       "      <td>1.0</td>\n",
       "      <td>0.0</td>\n",
       "      <td>0.0</td>\n",
       "      <td>0.0</td>\n",
       "      <td>0.0</td>\n",
       "      <td>1.0</td>\n",
       "      <td>1.00</td>\n",
       "      <td>0.0</td>\n",
       "      <td>0.0</td>\n",
       "      <td>1.0</td>\n",
       "      <td>1.0</td>\n",
       "      <td>1.0</td>\n",
       "      <td>1.0</td>\n",
       "      <td>0.0</td>\n",
       "      <td>0.0</td>\n",
       "      <td>2.0</td>\n",
       "      <td>5.33</td>\n",
       "      <td>1.50</td>\n",
       "      <td>12.00</td>\n",
       "      <td>0.00</td>\n",
       "      <td>4.0</td>\n",
       "      <td>0.67</td>\n",
       "      <td>0.67</td>\n",
       "      <td>8.00</td>\n",
       "      <td>1.0</td>\n",
       "      <td>0.0</td>\n",
       "      <td>0.0</td>\n",
       "      <td>2.0</td>\n",
       "      <td>0.50</td>\n",
       "      <td>1.0</td>\n",
       "      <td>3.0</td>\n",
       "      <td>1.0</td>\n",
       "      <td>3.0</td>\n",
       "      <td>2.0</td>\n",
       "      <td>0.00</td>\n",
       "      <td>0.0</td>\n",
       "      <td>False</td>\n",
       "    </tr>\n",
       "    <tr>\n",
       "      <th>1</th>\n",
       "      <td>1.0</td>\n",
       "      <td>1.0</td>\n",
       "      <td>0.0</td>\n",
       "      <td>0.0</td>\n",
       "      <td>0.0</td>\n",
       "      <td>1.0</td>\n",
       "      <td>1.00</td>\n",
       "      <td>0.0</td>\n",
       "      <td>0.0</td>\n",
       "      <td>1.0</td>\n",
       "      <td>1.0</td>\n",
       "      <td>2.0</td>\n",
       "      <td>1.0</td>\n",
       "      <td>0.0</td>\n",
       "      <td>0.0</td>\n",
       "      <td>1.0</td>\n",
       "      <td>0.00</td>\n",
       "      <td>0.00</td>\n",
       "      <td>0.00</td>\n",
       "      <td>0.00</td>\n",
       "      <td>1.0</td>\n",
       "      <td>0.00</td>\n",
       "      <td>0.00</td>\n",
       "      <td>0.00</td>\n",
       "      <td>1.0</td>\n",
       "      <td>0.0</td>\n",
       "      <td>0.0</td>\n",
       "      <td>3.0</td>\n",
       "      <td>1.00</td>\n",
       "      <td>1.0</td>\n",
       "      <td>0.0</td>\n",
       "      <td>1.0</td>\n",
       "      <td>0.0</td>\n",
       "      <td>1.0</td>\n",
       "      <td>0.00</td>\n",
       "      <td>0.0</td>\n",
       "      <td>False</td>\n",
       "    </tr>\n",
       "    <tr>\n",
       "      <th>2</th>\n",
       "      <td>1.0</td>\n",
       "      <td>4.0</td>\n",
       "      <td>7.0</td>\n",
       "      <td>24.0</td>\n",
       "      <td>0.0</td>\n",
       "      <td>1.0</td>\n",
       "      <td>0.13</td>\n",
       "      <td>0.0</td>\n",
       "      <td>0.0</td>\n",
       "      <td>1.0</td>\n",
       "      <td>1.0</td>\n",
       "      <td>6.0</td>\n",
       "      <td>1.0</td>\n",
       "      <td>0.0</td>\n",
       "      <td>1.0</td>\n",
       "      <td>0.0</td>\n",
       "      <td>17.88</td>\n",
       "      <td>7.43</td>\n",
       "      <td>986.77</td>\n",
       "      <td>0.04</td>\n",
       "      <td>34.0</td>\n",
       "      <td>0.13</td>\n",
       "      <td>54.82</td>\n",
       "      <td>132.83</td>\n",
       "      <td>1.0</td>\n",
       "      <td>0.0</td>\n",
       "      <td>0.0</td>\n",
       "      <td>7.0</td>\n",
       "      <td>0.03</td>\n",
       "      <td>13.0</td>\n",
       "      <td>21.0</td>\n",
       "      <td>7.0</td>\n",
       "      <td>8.0</td>\n",
       "      <td>34.0</td>\n",
       "      <td>96.88</td>\n",
       "      <td>8.0</td>\n",
       "      <td>False</td>\n",
       "    </tr>\n",
       "    <tr>\n",
       "      <th>3</th>\n",
       "      <td>1.0</td>\n",
       "      <td>1.0</td>\n",
       "      <td>11.0</td>\n",
       "      <td>3.0</td>\n",
       "      <td>0.0</td>\n",
       "      <td>1.0</td>\n",
       "      <td>0.08</td>\n",
       "      <td>0.0</td>\n",
       "      <td>0.0</td>\n",
       "      <td>1.0</td>\n",
       "      <td>1.0</td>\n",
       "      <td>2.0</td>\n",
       "      <td>1.0</td>\n",
       "      <td>0.0</td>\n",
       "      <td>1.0</td>\n",
       "      <td>0.0</td>\n",
       "      <td>42.62</td>\n",
       "      <td>7.81</td>\n",
       "      <td>2598.31</td>\n",
       "      <td>0.11</td>\n",
       "      <td>77.0</td>\n",
       "      <td>0.13</td>\n",
       "      <td>144.35</td>\n",
       "      <td>332.79</td>\n",
       "      <td>1.0</td>\n",
       "      <td>0.0</td>\n",
       "      <td>0.0</td>\n",
       "      <td>3.0</td>\n",
       "      <td>0.06</td>\n",
       "      <td>29.0</td>\n",
       "      <td>48.0</td>\n",
       "      <td>13.0</td>\n",
       "      <td>7.0</td>\n",
       "      <td>17.0</td>\n",
       "      <td>93.33</td>\n",
       "      <td>12.0</td>\n",
       "      <td>False</td>\n",
       "    </tr>\n",
       "    <tr>\n",
       "      <th>4</th>\n",
       "      <td>1.0</td>\n",
       "      <td>1.0</td>\n",
       "      <td>0.0</td>\n",
       "      <td>0.0</td>\n",
       "      <td>0.0</td>\n",
       "      <td>1.0</td>\n",
       "      <td>1.00</td>\n",
       "      <td>0.0</td>\n",
       "      <td>0.0</td>\n",
       "      <td>1.0</td>\n",
       "      <td>1.0</td>\n",
       "      <td>2.0</td>\n",
       "      <td>1.0</td>\n",
       "      <td>0.0</td>\n",
       "      <td>1.0</td>\n",
       "      <td>3.0</td>\n",
       "      <td>33.44</td>\n",
       "      <td>0.63</td>\n",
       "      <td>13.06</td>\n",
       "      <td>0.01</td>\n",
       "      <td>9.0</td>\n",
       "      <td>1.60</td>\n",
       "      <td>0.73</td>\n",
       "      <td>20.90</td>\n",
       "      <td>1.0</td>\n",
       "      <td>0.0</td>\n",
       "      <td>0.0</td>\n",
       "      <td>3.0</td>\n",
       "      <td>0.33</td>\n",
       "      <td>5.0</td>\n",
       "      <td>4.0</td>\n",
       "      <td>4.0</td>\n",
       "      <td>1.0</td>\n",
       "      <td>3.0</td>\n",
       "      <td>0.00</td>\n",
       "      <td>1.0</td>\n",
       "      <td>False</td>\n",
       "    </tr>\n",
       "  </tbody>\n",
       "</table>\n",
       "</div>"
      ],
      "text/plain": [
       "   BRANCH_COUNT  CALL_PAIRS  LOC_CODE_AND_COMMENT  LOC_COMMENTS  \\\n",
       "0           1.0         0.0                   0.0           0.0   \n",
       "1           1.0         1.0                   0.0           0.0   \n",
       "2           1.0         4.0                   7.0          24.0   \n",
       "3           1.0         1.0                  11.0           3.0   \n",
       "4           1.0         1.0                   0.0           0.0   \n",
       "\n",
       "   CONDITION_COUNT  CYCLOMATIC_COMPLEXITY  CYCLOMATIC_DENSITY  DECISION_COUNT  \\\n",
       "0              0.0                    1.0                1.00             0.0   \n",
       "1              0.0                    1.0                1.00             0.0   \n",
       "2              0.0                    1.0                0.13             0.0   \n",
       "3              0.0                    1.0                0.08             0.0   \n",
       "4              0.0                    1.0                1.00             0.0   \n",
       "\n",
       "   DECISION_DENSITY  DESIGN_COMPLEXITY  DESIGN_DENSITY  EDGE_COUNT  \\\n",
       "0               0.0                1.0             1.0         1.0   \n",
       "1               0.0                1.0             1.0         2.0   \n",
       "2               0.0                1.0             1.0         6.0   \n",
       "3               0.0                1.0             1.0         2.0   \n",
       "4               0.0                1.0             1.0         2.0   \n",
       "\n",
       "   ESSENTIAL_COMPLEXITY  ESSENTIAL_DENSITY  LOC_EXECUTABLE  PARAMETER_COUNT  \\\n",
       "0                   1.0                0.0             0.0              2.0   \n",
       "1                   1.0                0.0             0.0              1.0   \n",
       "2                   1.0                0.0             1.0              0.0   \n",
       "3                   1.0                0.0             1.0              0.0   \n",
       "4                   1.0                0.0             1.0              3.0   \n",
       "\n",
       "   HALSTEAD_CONTENT  HALSTEAD_DIFFICULTY  HALSTEAD_EFFORT  HALSTEAD_ERROR_EST  \\\n",
       "0              5.33                 1.50            12.00                0.00   \n",
       "1              0.00                 0.00             0.00                0.00   \n",
       "2             17.88                 7.43           986.77                0.04   \n",
       "3             42.62                 7.81          2598.31                0.11   \n",
       "4             33.44                 0.63            13.06                0.01   \n",
       "\n",
       "   HALSTEAD_LENGTH  HALSTEAD_LEVEL  HALSTEAD_PROG_TIME  HALSTEAD_VOLUME  \\\n",
       "0              4.0            0.67                0.67             8.00   \n",
       "1              1.0            0.00                0.00             0.00   \n",
       "2             34.0            0.13               54.82           132.83   \n",
       "3             77.0            0.13              144.35           332.79   \n",
       "4              9.0            1.60                0.73            20.90   \n",
       "\n",
       "   MAINTENANCE_SEVERITY  MODIFIED_CONDITION_COUNT  MULTIPLE_CONDITION_COUNT  \\\n",
       "0                   1.0                       0.0                       0.0   \n",
       "1                   1.0                       0.0                       0.0   \n",
       "2                   1.0                       0.0                       0.0   \n",
       "3                   1.0                       0.0                       0.0   \n",
       "4                   1.0                       0.0                       0.0   \n",
       "\n",
       "   NODE_COUNT  NORMALIZED_CYLOMATIC_COMPLEXITY  NUM_OPERANDS  NUM_OPERATORS  \\\n",
       "0         2.0                             0.50           1.0            3.0   \n",
       "1         3.0                             1.00           1.0            0.0   \n",
       "2         7.0                             0.03          13.0           21.0   \n",
       "3         3.0                             0.06          29.0           48.0   \n",
       "4         3.0                             0.33           5.0            4.0   \n",
       "\n",
       "   NUM_UNIQUE_OPERANDS  NUM_UNIQUE_OPERATORS  NUMBER_OF_LINES  \\\n",
       "0                  1.0                   3.0              2.0   \n",
       "1                  1.0                   0.0              1.0   \n",
       "2                  7.0                   8.0             34.0   \n",
       "3                 13.0                   7.0             17.0   \n",
       "4                  4.0                   1.0              3.0   \n",
       "\n",
       "   PERCENT_COMMENTS  LOC_TOTAL  defects  \n",
       "0              0.00        0.0    False  \n",
       "1              0.00        0.0    False  \n",
       "2             96.88        8.0    False  \n",
       "3             93.33       12.0    False  \n",
       "4              0.00        1.0    False  "
      ]
     },
     "execution_count": 4,
     "metadata": {},
     "output_type": "execute_result"
    }
   ],
   "source": [
    "df = pd.read_csv(f\"orig/pc2.csv\")\n",
    "print(df.shape)\n",
    "df.head()"
   ]
  },
  {
   "cell_type": "code",
   "execution_count": 5,
   "id": "80e0a8c0-0134-4ef1-9afc-dfa3fe208aa9",
   "metadata": {},
   "outputs": [
    {
     "name": "stdout",
     "output_type": "stream",
     "text": [
      "<class 'pandas.core.frame.DataFrame'>\n",
      "RangeIndex: 5589 entries, 0 to 5588\n",
      "Data columns (total 37 columns):\n",
      " #   Column                           Non-Null Count  Dtype  \n",
      "---  ------                           --------------  -----  \n",
      " 0   BRANCH_COUNT                     5589 non-null   float64\n",
      " 1   CALL_PAIRS                       5589 non-null   float64\n",
      " 2   LOC_CODE_AND_COMMENT             5589 non-null   float64\n",
      " 3   LOC_COMMENTS                     5589 non-null   float64\n",
      " 4   CONDITION_COUNT                  5589 non-null   float64\n",
      " 5   CYCLOMATIC_COMPLEXITY            5589 non-null   float64\n",
      " 6   CYCLOMATIC_DENSITY               5589 non-null   float64\n",
      " 7   DECISION_COUNT                   5589 non-null   float64\n",
      " 8   DECISION_DENSITY                 5589 non-null   float64\n",
      " 9   DESIGN_COMPLEXITY                5589 non-null   float64\n",
      " 10  DESIGN_DENSITY                   5589 non-null   float64\n",
      " 11  EDGE_COUNT                       5589 non-null   float64\n",
      " 12  ESSENTIAL_COMPLEXITY             5589 non-null   float64\n",
      " 13  ESSENTIAL_DENSITY                5589 non-null   float64\n",
      " 14  LOC_EXECUTABLE                   5589 non-null   float64\n",
      " 15  PARAMETER_COUNT                  5589 non-null   float64\n",
      " 16  HALSTEAD_CONTENT                 5589 non-null   float64\n",
      " 17  HALSTEAD_DIFFICULTY              5589 non-null   float64\n",
      " 18  HALSTEAD_EFFORT                  5589 non-null   float64\n",
      " 19  HALSTEAD_ERROR_EST               5589 non-null   float64\n",
      " 20  HALSTEAD_LENGTH                  5589 non-null   float64\n",
      " 21  HALSTEAD_LEVEL                   5589 non-null   float64\n",
      " 22  HALSTEAD_PROG_TIME               5589 non-null   float64\n",
      " 23  HALSTEAD_VOLUME                  5589 non-null   float64\n",
      " 24  MAINTENANCE_SEVERITY             5589 non-null   float64\n",
      " 25  MODIFIED_CONDITION_COUNT         5589 non-null   float64\n",
      " 26  MULTIPLE_CONDITION_COUNT         5589 non-null   float64\n",
      " 27  NODE_COUNT                       5589 non-null   float64\n",
      " 28  NORMALIZED_CYLOMATIC_COMPLEXITY  5589 non-null   float64\n",
      " 29  NUM_OPERANDS                     5589 non-null   float64\n",
      " 30  NUM_OPERATORS                    5589 non-null   float64\n",
      " 31  NUM_UNIQUE_OPERANDS              5589 non-null   float64\n",
      " 32  NUM_UNIQUE_OPERATORS             5589 non-null   float64\n",
      " 33  NUMBER_OF_LINES                  5589 non-null   float64\n",
      " 34  PERCENT_COMMENTS                 5589 non-null   float64\n",
      " 35  LOC_TOTAL                        5589 non-null   float64\n",
      " 36  defects                          5589 non-null   bool   \n",
      "dtypes: bool(1), float64(36)\n",
      "memory usage: 1.5 MB\n"
     ]
    }
   ],
   "source": [
    "df.info()"
   ]
  },
  {
   "cell_type": "code",
   "execution_count": 6,
   "id": "a0c68011-317e-4ccf-b503-9635dc7d32f4",
   "metadata": {},
   "outputs": [
    {
     "name": "stdout",
     "output_type": "stream",
     "text": [
      "Number of cases :  5589\n",
      "Number of features :  37\n"
     ]
    }
   ],
   "source": [
    "\n",
    "print(\"Number of cases : \", df.shape[0])\n",
    "print(\"Number of features : \", df.shape[1])\n"
   ]
  },
  {
   "cell_type": "markdown",
   "id": "3c68d758-7c23-4d54-9212-bf2ab77a691e",
   "metadata": {},
   "source": [
    "## Summary statistics \n",
    " - mathcing data on table 1\n",
    " \n",
    "    -number of cases = 5589\n",
    "    -number of features = 37\n",
    "    \n",
    "- all statistics are in agree,emt with paper"
   ]
  },
  {
   "cell_type": "code",
   "execution_count": 7,
   "id": "7022c189-75bf-4929-8a8a-9a175fdfdd16",
   "metadata": {},
   "outputs": [],
   "source": [
    "#table_case_count = lambda df: df.shape[0]\n",
    "#table_feature_count = lambda df: df.shape[1]\n",
    "\n",
    "\n",
    "#messages = []\n",
    "#for m, expected, observed in [\n",
    "#    \"Number of cases:\", 5589, table_case_count,\n",
    "#    \"Number of features:\", 37, table_feature_count,\n",
    "#    ]:\n",
    "#    result = \"PASS\" if expected==observed else \"FAIL\"\n",
    "#    message.append(f\" * {m} {expected=} {observed=} {result}\")\n",
    "#    \n",
    "#display(Markdown(\"\\n\".join(messages)))"
   ]
  },
  {
   "cell_type": "markdown",
   "id": "9ae96e6d-9445-46e8-a652-f04663001711",
   "metadata": {},
   "source": [
    "## Table 1 - Comparison of versions"
   ]
  },
  {
   "cell_type": "code",
   "execution_count": 8,
   "id": "ac416e8e-5753-47d9-a000-4eb9ea2bb871",
   "metadata": {},
   "outputs": [
    {
     "data": {
      "text/html": [
       "<div>\n",
       "<style scoped>\n",
       "    .dataframe tbody tr th:only-of-type {\n",
       "        vertical-align: middle;\n",
       "    }\n",
       "\n",
       "    .dataframe tbody tr th {\n",
       "        vertical-align: top;\n",
       "    }\n",
       "\n",
       "    .dataframe thead th {\n",
       "        text-align: right;\n",
       "    }\n",
       "</style>\n",
       "<table border=\"1\" class=\"dataframe\">\n",
       "  <thead>\n",
       "    <tr style=\"text-align: right;\">\n",
       "      <th></th>\n",
       "      <th>Description</th>\n",
       "      <th>Expected</th>\n",
       "      <th>Observed</th>\n",
       "      <th>Result</th>\n",
       "    </tr>\n",
       "  </thead>\n",
       "  <tbody>\n",
       "    <tr>\n",
       "      <th>0</th>\n",
       "      <td>Number of cases:</td>\n",
       "      <td>5589</td>\n",
       "      <td>5589</td>\n",
       "      <td>PASS</td>\n",
       "    </tr>\n",
       "    <tr>\n",
       "      <th>1</th>\n",
       "      <td>Number of features:</td>\n",
       "      <td>37</td>\n",
       "      <td>37</td>\n",
       "      <td>PASS</td>\n",
       "    </tr>\n",
       "  </tbody>\n",
       "</table>\n",
       "</div>"
      ],
      "text/plain": [
       "           Description  Expected  Observed Result\n",
       "0     Number of cases:      5589      5589   PASS\n",
       "1  Number of features:        37        37   PASS"
      ]
     },
     "execution_count": 8,
     "metadata": {},
     "output_type": "execute_result"
    }
   ],
   "source": [
    "table_case_count =  df.shape[0]\n",
    "table_feature_count =  df.shape[1]\n",
    "\n",
    "\n",
    "messages = []\n",
    "for m, expected, observed in [\n",
    "    (\"Number of cases:\", 5589, table_case_count),\n",
    "    (\"Number of features:\", 37, table_feature_count),\n",
    "    ]:\n",
    "    result = \"PASS\" if expected==observed else \"FAIL\"\n",
    "    messages.append([m, expected , observed, result])\n",
    "                   \n",
    "df_results = pd.DataFrame(messages, columns = [\"Description\", \"Expected\", \"Observed\", \"Result\"])\n",
    "df_results"
   ]
  },
  {
   "cell_type": "markdown",
   "id": "f15171a6-6816-4d58-a9b1-b42fe20dee57",
   "metadata": {},
   "source": [
    "## Table 2 - Issues by features"
   ]
  },
  {
   "cell_type": "markdown",
   "id": "17e784ec-09ab-4339-8662-b8d314808233",
   "metadata": {},
   "source": [
    "### Identical Features"
   ]
  },
  {
   "cell_type": "code",
   "execution_count": 9,
   "id": "63957c77-5ec3-4015-9a33-a78884de8746",
   "metadata": {},
   "outputs": [],
   "source": [
    "table_2_A = lambda df : df.T.duplicated().sum()"
   ]
  },
  {
   "cell_type": "code",
   "execution_count": 10,
   "id": "78ea57f7-b371-49f2-b6a5-7fc5c7ce9b13",
   "metadata": {},
   "outputs": [
    {
     "data": {
      "text/html": [
       "<div>\n",
       "<style scoped>\n",
       "    .dataframe tbody tr th:only-of-type {\n",
       "        vertical-align: middle;\n",
       "    }\n",
       "\n",
       "    .dataframe tbody tr th {\n",
       "        vertical-align: top;\n",
       "    }\n",
       "\n",
       "    .dataframe thead th {\n",
       "        text-align: right;\n",
       "    }\n",
       "</style>\n",
       "<table border=\"1\" class=\"dataframe\">\n",
       "  <thead>\n",
       "    <tr style=\"text-align: right;\">\n",
       "      <th></th>\n",
       "      <th>Desription</th>\n",
       "      <th>Expected</th>\n",
       "      <th>Observed</th>\n",
       "      <th>Result</th>\n",
       "    </tr>\n",
       "  </thead>\n",
       "  <tbody>\n",
       "    <tr>\n",
       "      <th>0</th>\n",
       "      <td>Identical Feautres:</td>\n",
       "      <td>0</td>\n",
       "      <td>0</td>\n",
       "      <td>True</td>\n",
       "    </tr>\n",
       "  </tbody>\n",
       "</table>\n",
       "</div>"
      ],
      "text/plain": [
       "            Desription  Expected  Observed  Result\n",
       "0  Identical Feautres:         0         0    True"
      ]
     },
     "execution_count": 10,
     "metadata": {},
     "output_type": "execute_result"
    }
   ],
   "source": [
    "messages = []\n",
    "for m, expected, observed in [\n",
    "    (\"Identical Feautres:\", 0, table_2_A(df)),\n",
    "]:\n",
    "    result = \"PASS\" if expected==observed else \"FAIL\"\n",
    "    messages.append([m,expected ,observed])\n",
    "    \n",
    "df_results = pd.DataFrame(messages, columns = [\"Desription\", \"Expected\", \"Observed\"])    \n",
    "df_results[\"Result\"] = df_results.Expected==df_results.Observed\n",
    "df_results\n",
    "    "
   ]
  },
  {
   "cell_type": "markdown",
   "id": "0034c585-dd37-43f7-be1f-d84a457c4f3e",
   "metadata": {},
   "source": [
    "### Constant Features "
   ]
  },
  {
   "cell_type": "code",
   "execution_count": 11,
   "id": "5d0467f7-1b1c-4b7c-b301-3ed3ae259cf0",
   "metadata": {},
   "outputs": [],
   "source": [
    "table_2_B = lambda df : df.nunique()[df.nunique() == 1].shape[0]"
   ]
  },
  {
   "cell_type": "code",
   "execution_count": 12,
   "id": "97567c12-9bbd-4ea7-9afe-0b3648afd9be",
   "metadata": {},
   "outputs": [
    {
     "data": {
      "text/html": [
       "<div>\n",
       "<style scoped>\n",
       "    .dataframe tbody tr th:only-of-type {\n",
       "        vertical-align: middle;\n",
       "    }\n",
       "\n",
       "    .dataframe tbody tr th {\n",
       "        vertical-align: top;\n",
       "    }\n",
       "\n",
       "    .dataframe thead th {\n",
       "        text-align: right;\n",
       "    }\n",
       "</style>\n",
       "<table border=\"1\" class=\"dataframe\">\n",
       "  <thead>\n",
       "    <tr style=\"text-align: right;\">\n",
       "      <th></th>\n",
       "      <th>Desription</th>\n",
       "      <th>Expected</th>\n",
       "      <th>Observed</th>\n",
       "      <th>Result</th>\n",
       "    </tr>\n",
       "  </thead>\n",
       "  <tbody>\n",
       "    <tr>\n",
       "      <th>0</th>\n",
       "      <td>Constant Feautres:</td>\n",
       "      <td>0</td>\n",
       "      <td>0</td>\n",
       "      <td>True</td>\n",
       "    </tr>\n",
       "  </tbody>\n",
       "</table>\n",
       "</div>"
      ],
      "text/plain": [
       "           Desription  Expected  Observed  Result\n",
       "0  Constant Feautres:         0         0    True"
      ]
     },
     "execution_count": 12,
     "metadata": {},
     "output_type": "execute_result"
    }
   ],
   "source": [
    "messages = []\n",
    "for m, expected, observed in [\n",
    "    (\"Constant Feautres:\", 0, table_2_B(df)),\n",
    "]:\n",
    "    result = \"PASS\" if expected==observed else \"FAIL\"\n",
    "    messages.append([m,expected ,observed])\n",
    "    \n",
    "df_results = pd.DataFrame(messages, columns = [\"Desription\", \"Expected\", \"Observed\"])    \n",
    "df_results[\"Result\"] = df_results.Expected==df_results.Observed\n",
    "df_results"
   ]
  },
  {
   "cell_type": "markdown",
   "id": "2f46ae3d-56a4-4650-b850-824e668c8867",
   "metadata": {},
   "source": [
    "### Features with missing values"
   ]
  },
  {
   "cell_type": "code",
   "execution_count": 13,
   "id": "25084ef4-ee71-4fcc-ad9c-345a2664dbb2",
   "metadata": {},
   "outputs": [],
   "source": [
    "table_2_C =  lambda df: df.isna().sum().sum()"
   ]
  },
  {
   "cell_type": "code",
   "execution_count": 14,
   "id": "62c08f94-6081-4836-85bd-a38d8b5541d3",
   "metadata": {},
   "outputs": [
    {
     "data": {
      "text/html": [
       "<div>\n",
       "<style scoped>\n",
       "    .dataframe tbody tr th:only-of-type {\n",
       "        vertical-align: middle;\n",
       "    }\n",
       "\n",
       "    .dataframe tbody tr th {\n",
       "        vertical-align: top;\n",
       "    }\n",
       "\n",
       "    .dataframe thead th {\n",
       "        text-align: right;\n",
       "    }\n",
       "</style>\n",
       "<table border=\"1\" class=\"dataframe\">\n",
       "  <thead>\n",
       "    <tr style=\"text-align: right;\">\n",
       "      <th></th>\n",
       "      <th>Desription</th>\n",
       "      <th>Expected</th>\n",
       "      <th>Observed</th>\n",
       "      <th>Result</th>\n",
       "    </tr>\n",
       "  </thead>\n",
       "  <tbody>\n",
       "    <tr>\n",
       "      <th>0</th>\n",
       "      <td>Feautres with missing values:</td>\n",
       "      <td>0</td>\n",
       "      <td>0</td>\n",
       "      <td>True</td>\n",
       "    </tr>\n",
       "  </tbody>\n",
       "</table>\n",
       "</div>"
      ],
      "text/plain": [
       "                      Desription  Expected  Observed  Result\n",
       "0  Feautres with missing values:         0         0    True"
      ]
     },
     "execution_count": 14,
     "metadata": {},
     "output_type": "execute_result"
    }
   ],
   "source": [
    "messages = []\n",
    "for m, expected, observed in [\n",
    "    (\"Feautres with missing values:\", 0, table_2_C(df)),\n",
    "]:\n",
    "    result = \"PASS\" if expected==observed else \"FAIL\"\n",
    "    messages.append([m,expected ,observed])\n",
    "    \n",
    "df_results = pd.DataFrame(messages, columns = [\"Desription\", \"Expected\", \"Observed\"])    \n",
    "df_results[\"Result\"] = df_results.Expected==df_results.Observed\n",
    "df_results"
   ]
  },
  {
   "cell_type": "markdown",
   "id": "2c69e664-9ff5-4e45-8669-21217a65eb7f",
   "metadata": {},
   "source": [
    "### Features with conflicting values"
   ]
  },
  {
   "cell_type": "code",
   "execution_count": 15,
   "id": "2aaebf11-ce01-4f46-9705-3d67613696d7",
   "metadata": {},
   "outputs": [],
   "source": [
    "check1 = df.query('NUMBER_OF_LINES < LOC_TOTAL')\n",
    "#check2 = df.query('NUMBER_OF_LINES >= LOC_BLANK')\n",
    "check3 = df.query('NUMBER_OF_LINES < LOC_CODE_AND_COMMENT')\n",
    "check4 = df.query('NUMBER_OF_LINES < LOC_COMMENTS')\n",
    "check5 = df.query('NUMBER_OF_LINES < LOC_EXECUTABLE')\n",
    "check6 = df.query('LOC_TOTAL < LOC_EXECUTABLE')\n",
    "check7 = df.query('LOC_TOTAL < LOC_CODE_AND_COMMENT')\n",
    "check8 = df.query('NUM_OPERANDS < NUM_UNIQUE_OPERANDS')\n",
    "check9 = df.query('NUM_OPERATORS < NUM_UNIQUE_OPERATORS')\n",
    "check10 = df.query('HALSTEAD_LENGTH != NUM_OPERATORS + NUM_OPERANDS')\n",
    "check11 = df.query('CYCLOMATIC_COMPLEXITY > NUM_OPERATORS + 1')\n",
    "check12 = df.query('CALL_PAIRS > NUM_OPERATORS')\n",
    "#check13 = df.query('HALSTEAD_VOLUME != (NUM_OPERATORS + NUM_OPERANDS) * (np.log2(NUM_UNIQUE_OPERATORS + NUM_UNIQUE_OPERANDS))')\n",
    "#check14 = df.query('HALSTEAD_LEVEL != (2/NUM_UNIQUE_OPERATORS) * (NUM_UNIQUE_OPERANDS/NUM_OPERANDS)')\n",
    "#check15 = df.query('HALSTEAD_DIFFICULTY != (NUM_UNIQUE_OPERATORS/2) * (NUM_OPERANDS/NUM_UNIQUE_OPERANDS)')\n",
    "#check16 = df.query('HALSTEAD_CONTENT != HALSTEAD_VOLUME/HALSTEAD_DIFFICULTY')\n",
    "#check17 = df.query('HALSTEAD_EFFORT != HALSTEAD_VOLUME * HALSTEAD_DIFFICULTY')\n",
    "#check18 = df.query('HALSTEAD_PROG_TIME != HALSTEAD_EFFORT/18')\n",
    "\n",
    "checks = [(check1, 'check1'), (check3,'check3'), (check4,'check4'), (check5,'check5'), (check6,'check6'), (check7,'check7'), (check8,'check8'), (check9,'check9'), (check10,'check10'),\n",
    "          (check11,'check11'), (check12,'check12')]"
   ]
  },
  {
   "cell_type": "code",
   "execution_count": 16,
   "id": "3d815ab4-ad29-4c7c-9c47-7daec3a25649",
   "metadata": {},
   "outputs": [
    {
     "data": {
      "text/html": [
       "<div>\n",
       "<style scoped>\n",
       "    .dataframe tbody tr th:only-of-type {\n",
       "        vertical-align: middle;\n",
       "    }\n",
       "\n",
       "    .dataframe tbody tr th {\n",
       "        vertical-align: top;\n",
       "    }\n",
       "\n",
       "    .dataframe thead th {\n",
       "        text-align: right;\n",
       "    }\n",
       "</style>\n",
       "<table border=\"1\" class=\"dataframe\">\n",
       "  <thead>\n",
       "    <tr style=\"text-align: right;\">\n",
       "      <th></th>\n",
       "      <th>Check</th>\n",
       "      <th>Issues</th>\n",
       "    </tr>\n",
       "  </thead>\n",
       "  <tbody>\n",
       "    <tr>\n",
       "      <th>0</th>\n",
       "      <td>check1</td>\n",
       "      <td>False</td>\n",
       "    </tr>\n",
       "    <tr>\n",
       "      <th>1</th>\n",
       "      <td>check3</td>\n",
       "      <td>False</td>\n",
       "    </tr>\n",
       "    <tr>\n",
       "      <th>2</th>\n",
       "      <td>check4</td>\n",
       "      <td>False</td>\n",
       "    </tr>\n",
       "    <tr>\n",
       "      <th>3</th>\n",
       "      <td>check5</td>\n",
       "      <td>False</td>\n",
       "    </tr>\n",
       "    <tr>\n",
       "      <th>4</th>\n",
       "      <td>check6</td>\n",
       "      <td>False</td>\n",
       "    </tr>\n",
       "    <tr>\n",
       "      <th>5</th>\n",
       "      <td>check7</td>\n",
       "      <td>False</td>\n",
       "    </tr>\n",
       "    <tr>\n",
       "      <th>6</th>\n",
       "      <td>check8</td>\n",
       "      <td>False</td>\n",
       "    </tr>\n",
       "    <tr>\n",
       "      <th>7</th>\n",
       "      <td>check9</td>\n",
       "      <td>False</td>\n",
       "    </tr>\n",
       "    <tr>\n",
       "      <th>8</th>\n",
       "      <td>check10</td>\n",
       "      <td>False</td>\n",
       "    </tr>\n",
       "    <tr>\n",
       "      <th>9</th>\n",
       "      <td>check11</td>\n",
       "      <td>False</td>\n",
       "    </tr>\n",
       "    <tr>\n",
       "      <th>10</th>\n",
       "      <td>check12</td>\n",
       "      <td>True</td>\n",
       "    </tr>\n",
       "  </tbody>\n",
       "</table>\n",
       "</div>"
      ],
      "text/plain": [
       "      Check  Issues\n",
       "0    check1   False\n",
       "1    check3   False\n",
       "2    check4   False\n",
       "3    check5   False\n",
       "4    check6   False\n",
       "5    check7   False\n",
       "6    check8   False\n",
       "7    check9   False\n",
       "8   check10   False\n",
       "9   check11   False\n",
       "10  check12    True"
      ]
     },
     "execution_count": 16,
     "metadata": {},
     "output_type": "execute_result"
    }
   ],
   "source": [
    "messages = []\n",
    "\n",
    "for c , label in checks:\n",
    "    issues = c.shape[0] > 0\n",
    "    messages.append([label , issues]) \n",
    "    \n",
    "df_results = pd.DataFrame(messages, columns = [\"Check\", \"Issues\"])    \n",
    "df_results"
   ]
  },
  {
   "cell_type": "markdown",
   "id": "287fd7ba-90de-465a-b013-040d495ae3ed",
   "metadata": {},
   "source": [
    "### Comments\n",
    " - Integrity check 2 fails as dataframe doesnt have LOC_BLANK column therefore check 2 was ignored for this run\n",
    " - All checks from check12-check18 show that they have conflicticting values\n",
    " - this means that there are possibly 11 conflicting features\n",
    " - this does not match the expected value of 2\n",
    " \n",
    " Note: While progressing through the verification of the data to be cleaned it was discovered that integrity checks 13-18 were likely ommited so to relfect this the checks were commented out to compare the expected and compared values more accurately."
   ]
  },
  {
   "cell_type": "markdown",
   "id": "97b883e5-af5a-4959-bbd3-17b8b5875f89",
   "metadata": {},
   "source": [
    "### Cases with implausible values"
   ]
  },
  {
   "cell_type": "code",
   "execution_count": 17,
   "id": "d320ea09-84cd-4ca8-a888-517dd105f301",
   "metadata": {},
   "outputs": [],
   "source": [
    "def count_implausible_columns(df):\n",
    "    total_implausible = 0\n",
    "    implausible_columns = []\n",
    "    \n",
    "    for col in df.columns:\n",
    "        if col not in implausible_columns:\n",
    "            if ((col =='LOC_TOTAL' and (df[col]== 0).any()) or\n",
    "                ((df[col] < 0).any()) or \n",
    "                ('count' in col and df[col].dtype != int)):\n",
    "                    implausible_columns.append(col)\n",
    "                    total_implausible += 1\n",
    "            \n",
    "    return total_implausible,implausible_columns"
   ]
  },
  {
   "cell_type": "code",
   "execution_count": 18,
   "id": "d6947cd8-096f-427e-8256-2ab2652dcc7d",
   "metadata": {},
   "outputs": [
    {
     "name": "stdout",
     "output_type": "stream",
     "text": [
      "                          Desription  Expected  Observed  Result\n",
      "0  Feautres with implausible values:         1         1    True\n"
     ]
    },
    {
     "data": {
      "text/plain": [
       "['LOC_TOTAL']"
      ]
     },
     "execution_count": 18,
     "metadata": {},
     "output_type": "execute_result"
    }
   ],
   "source": [
    "total_implausible,implausible_columns = count_implausible_columns(df)\n",
    "\n",
    "\n",
    "messages = []\n",
    "for m, expected, observed in [\n",
    "    (\"Feautres with implausible values:\", 1, total_implausible),\n",
    "]:\n",
    "    result = \"PASS\" if expected==observed else \"FAIL\"\n",
    "    messages.append([m,expected ,observed])\n",
    "    \n",
    "df_results = pd.DataFrame(messages, columns = [\"Desription\", \"Expected\", \"Observed\"])    \n",
    "df_results[\"Result\"] = df_results.Expected==df_results.Observed\n",
    "print(df_results)\n",
    "\n",
    "implausible_columns"
   ]
  },
  {
   "cell_type": "markdown",
   "id": "8936c7ec-c9cb-4dfe-95f7-d30bbe555622",
   "metadata": {},
   "source": [
    "### Total feature problems"
   ]
  },
  {
   "cell_type": "code",
   "execution_count": 29,
   "id": "01c19a7a-89d6-4d41-af35-2a8c18647e0f",
   "metadata": {},
   "outputs": [
    {
     "data": {
      "text/plain": [
       "1"
      ]
     },
     "execution_count": 29,
     "metadata": {},
     "output_type": "execute_result"
    }
   ],
   "source": [
    "features_before_drop = df.shape[1] \n",
    "\n",
    "df_total_features= df.copy()\n",
    "\n",
    "\n",
    "# Drop features that fail a check\n",
    "\n",
    "        \n",
    "# Drop Feautres that have implausible values\n",
    "for col in df_total_features.columns :\n",
    "            if ((col =='LOC_TOTAL' and (df[col]== 0).any()) or\n",
    "                ((df[col] < 0).any()) or \n",
    "                ('count' in col and df[col].dtype != int)):\n",
    "                    df_total_features=df.drop(columns=col)\n",
    "\n",
    "total_problem_features = features_before_drop - df_total_features.shape[1]\n",
    "total_problem_features"
   ]
  },
  {
   "cell_type": "markdown",
   "id": "f777f626-1602-40cd-8ee6-5d83305ff836",
   "metadata": {},
   "source": [
    "### Comment\n",
    "- The only feature issues that were found were with integrity checks and implausiblie values\n",
    "- Integrity checks:\n",
    "    - Since checks 12-19 all failed this left os with a list of  11 features with problems [CALL_PAIRS,NUM_OPERATORS,HALSTEAD_LEVEL,NUM_UNIQUE_OPERATORS,NUM_UNIQUE_OPERANDS,NUM_OPERANDS,HALSTEAD_DIFFICULTY,HALSTEAD_CONTENT,HALSTEAD_VOLUME,HALSTEAD_EFFORT,HALSTEAD_PROG_TIME]\n",
    "- Implausible values:\n",
    "    - The only column to fail any of the implausible value checks was LOC_TOTAL\n",
    "    - This means we have a total of 12 feautures with issues"
   ]
  },
  {
   "cell_type": "markdown",
   "id": "55f34440-0cd3-469a-92f6-fc511cd1265d",
   "metadata": {},
   "source": [
    "## Table 2 - Issues by cases"
   ]
  },
  {
   "cell_type": "markdown",
   "id": "b702247b-f2a8-4b34-bc9e-138566bdfa2d",
   "metadata": {},
   "source": [
    "### Identical cases"
   ]
  },
  {
   "cell_type": "code",
   "execution_count": null,
   "id": "ecfd4598-3680-4f73-9ff3-78b58cb8de4f",
   "metadata": {},
   "outputs": [],
   "source": [
    "table_2_G = sum(df.duplicated(keep=False))\n",
    "table_2_G"
   ]
  },
  {
   "cell_type": "code",
   "execution_count": null,
   "id": "4f1219af-b916-4547-b959-79e69e40c906",
   "metadata": {},
   "outputs": [],
   "source": [
    "messages = []\n",
    "for m, expected, observed in [\n",
    "    (\"Identical cases:\", 4621, table_2_G),\n",
    "]:\n",
    "    result = \"PASS\" if expected==observed else \"FAIL\"\n",
    "    messages.append([m,expected ,observed])\n",
    "    \n",
    "df_results = pd.DataFrame(messages, columns = [\"Desription\", \"Expected\", \"Observed\"])    \n",
    "df_results[\"Result\"] = df_results.Expected==df_results.Observed\n",
    "df_results"
   ]
  },
  {
   "cell_type": "markdown",
   "id": "61502043-7324-4d0c-992a-0a333411456e",
   "metadata": {},
   "source": [
    "### Comment \n",
    " - have to use following setting to get accurate count Keep=False  as it marks all duplicates as True not just the reoccuring"
   ]
  },
  {
   "cell_type": "markdown",
   "id": "d9174a49-28f2-4e78-86f3-261f9a0b6b7e",
   "metadata": {},
   "source": [
    "### Incosistent cases"
   ]
  },
  {
   "cell_type": "code",
   "execution_count": null,
   "id": "dca437a6-7064-4f8d-9df5-12869e768a7b",
   "metadata": {},
   "outputs": [],
   "source": [
    "grouped = df.groupby(df.columns[:-1].tolist())\n",
    "table_2_H = grouped.filter(lambda x: len(x['defects'].unique()) > 1)"
   ]
  },
  {
   "cell_type": "code",
   "execution_count": null,
   "id": "05c4c2a1-2b0d-44e1-b929-a5f469824c2b",
   "metadata": {},
   "outputs": [],
   "source": [
    "messages = []\n",
    "for m, expected, observed in [\n",
    "    (\"inconsistent  case values:\", 100, table_2_H.shape[0]),\n",
    "]:\n",
    "    result = \"PASS\" if expected==observed else \"FAIL\"\n",
    "    messages.append([m,expected ,observed])\n",
    "    \n",
    "df_results = pd.DataFrame(messages, columns = [\"Desription\", \"Expected\", \"Observed\"])    \n",
    "df_results[\"Result\"] = df_results.Expected==df_results.Observed\n",
    "df_results"
   ]
  },
  {
   "cell_type": "markdown",
   "id": "2c01b6ec-8ce1-44ea-a46f-1f0fd939719c",
   "metadata": {},
   "source": [
    "### Cases with missing values"
   ]
  },
  {
   "cell_type": "code",
   "execution_count": null,
   "id": "250735e3-3ac0-487f-acdf-df24cd53df2e",
   "metadata": {},
   "outputs": [],
   "source": [
    "table_2_I = df.isnull().any(axis=1).sum()"
   ]
  },
  {
   "cell_type": "code",
   "execution_count": null,
   "id": "2c1d671a-3a71-4f55-b7cd-48bff5ad284b",
   "metadata": {},
   "outputs": [],
   "source": [
    "messages = []\n",
    "for m, expected, observed in [\n",
    "    (\"Cases with missing values:\", 0, table_2_I),\n",
    "]:\n",
    "    result = \"PASS\" if expected==observed else \"FAIL\"\n",
    "    messages.append([m,expected ,observed])\n",
    "    \n",
    "df_results = pd.DataFrame(messages, columns = [\"Desription\", \"Expected\", \"Observed\"])    \n",
    "df_results[\"Result\"] = df_results.Expected==df_results.Observed\n",
    "df_results"
   ]
  },
  {
   "cell_type": "markdown",
   "id": "d7443660-fc74-411a-9468-022c1d44db16",
   "metadata": {},
   "source": [
    "### Cases with conflicting feature value\n",
    "  - reusing the checks from conflicting features"
   ]
  },
  {
   "cell_type": "code",
   "execution_count": null,
   "id": "85a3d542-3e45-4529-9149-7536cc923691",
   "metadata": {},
   "outputs": [],
   "source": [
    "messages = []\n",
    "for m, observed in [\n",
    "    (\"Conflicting feature values in check1:\", check1.shape[0]),\n",
    "     (\"Conflicting feature values in check3:\", check3.shape[0]),\n",
    "     (\"Conflicting feature values in  check4:\", check4.shape[0]),\n",
    "     (\"Conflicting feature values in  check5:\", check5.shape[0]),\n",
    "     (\"Conflicting feature values in  check6:\", check6.shape[0]),\n",
    "     (\"Conflicting feature values in  check7:\", check7.shape[0]),\n",
    "     (\"Conflicting feature values in  check8:\", check8.shape[0]),\n",
    "     (\"Conflicting feature values in  check9:\", check9.shape[0]),\n",
    "     (\"Conflicting feature values in  check10:\", check10.shape[0]),\n",
    "     (\"Conflicting feature values in  check11:\", check11.shape[0]),\n",
    "     (\"Conflicting feature values in  check12:\", check12.shape[0]),\n",
    "     #(\"Conflicting feature values in  check14:\", check14.shape[0]),\n",
    "     #(\"Conflicting feature values in  check15:\", check15.shape[0]),\n",
    "     #(\"Conflicting feature values in  check16:\", check16.shape[0]),\n",
    "     #(\"Conflicting feature values in  check17:\", check17.shape[0]),\n",
    "     #(\"Conflicting feature values in  check18:\", check18.shape[0]),\n",
    "    \n",
    "]:\n",
    "       messages.append([m ,observed])\n",
    "    \n",
    "conflict_feat_values_results = pd.DataFrame(messages, columns = [\"Desription\", \"Observed\"])    \n",
    "conflict_feat_values_results"
   ]
  },
  {
   "cell_type": "code",
   "execution_count": null,
   "id": "d9ff05f3-5726-4567-a2fb-75a997ad95ac",
   "metadata": {},
   "outputs": [],
   "source": [
    "table_2_J= sum([check1.shape[0],check3.shape[0],check4.shape[0],check5.shape[0],check6.shape[0],check7.shape[0],\n",
    "                check8.shape[0],check9.shape[0],check10.shape[0],check11.shape[0],check12.shape[0]])\n",
    "\n",
    "messages = []\n",
    "for m, expected, observed in [\n",
    "    (\"Cases with missing values:\", 129, table_2_J),\n",
    "]:\n",
    "    result = \"PASS\" if expected==observed else \"FAIL\"\n",
    "    messages.append([m,expected ,observed])\n",
    "    \n",
    "df_results = pd.DataFrame(messages, columns = [\"Desription\", \"Expected\", \"Observed\"])    \n",
    "df_results[\"Result\"] = df_results.Expected==df_results.Observed\n",
    "df_results"
   ]
  },
  {
   "cell_type": "markdown",
   "id": "94bdf9fc-ac77-4acb-ac0f-c171373c406c",
   "metadata": {},
   "source": [
    "### Comment\n",
    " - The number of conflicting cases is greather than expected \n",
    " - However if we just run the integrity checks from 1-12 then it gives us the expected value\n",
    " - This could mean that when the integrity checks were being checked only the first twelve were ran"
   ]
  },
  {
   "cell_type": "markdown",
   "id": "5dcf9ea8-df0d-4b68-bc01-b6fc2367de29",
   "metadata": {},
   "source": [
    "### Cases with implausible values"
   ]
  },
  {
   "cell_type": "code",
   "execution_count": null,
   "id": "9a90203c-f19f-4bdc-a28b-788e5ddfe588",
   "metadata": {},
   "outputs": [],
   "source": [
    "def count_implausible_cases(df):\n",
    "    total_implausible_cases = 0\n",
    "    \n",
    "    for col in df.columns:\n",
    "            if (col =='LOC_TOTAL'):\n",
    "                check_loc_total =  df.query(f'{col} == 0')\n",
    "                total_implausible_cases += check_loc_total.shape[0]\n",
    "            if ('count' in col):\n",
    "                check_count = df.query(f'{col}.dtype != int')\n",
    "                total_implausible_cases += check_count.shape[0]\n",
    "            else:\n",
    "                check_negative = df.query(f'{col} < 0')\n",
    "                total_implausible_cases += check_negative.shape[0]\n",
    "\n",
    "            \n",
    "    return total_implausible_cases"
   ]
  },
  {
   "cell_type": "code",
   "execution_count": null,
   "id": "78378361-fad5-43a7-b685-858f71a0c856",
   "metadata": {},
   "outputs": [],
   "source": [
    "table_2_K= count_implausible_cases(df)\n",
    "\n",
    "messages = []\n",
    "for m, expected, observed in [\n",
    "    (\"Cases with implausible values:\", 1084, table_2_K),\n",
    "]:\n",
    "    result = \"PASS\" if expected==observed else \"FAIL\"\n",
    "    messages.append([m,expected ,observed])\n",
    "    \n",
    "df_results = pd.DataFrame(messages, columns = [\"Desription\", \"Expected\", \"Observed\"])    \n",
    "df_results[\"Result\"] = df_results.Expected==df_results.Observed\n",
    "df_results"
   ]
  },
  {
   "cell_type": "markdown",
   "id": "4e2b0954-e17a-4722-8df8-419f5fc1e4e0",
   "metadata": {},
   "source": [
    "### Total problem cases DS'"
   ]
  },
  {
   "cell_type": "code",
   "execution_count": null,
   "id": "a41ca230-9a22-462f-af71-30d83efc51da",
   "metadata": {},
   "outputs": [],
   "source": [
    "cases_before_drop = df.shape[0] \n",
    "\n",
    "df_DS1= df.copy()\n",
    "\n",
    "# Drop rows that contain na values\n",
    "df_DS1=df_DS1.dropna()\n",
    "\n",
    "# Drop rows that fail any checks\n",
    "failed_rows = pd.concat([check1, check3, check4, check5, check6, check7, check8, check9, check10, check11, check12])\n",
    "df_DS1=df_DS1.drop(failed_rows.index)\n",
    "\n",
    "# Drop rows that contain implausible values\n",
    "df_DS1 = df_DS1.drop(df_DS1[df_DS1['LOC_TOTAL'] == 0].index)\n",
    "\n",
    "df_DS1 = df_DS1.drop(df_DS1[(df_DS1 < 0).any(axis=1)].index)\n",
    "\n",
    "count_columns = [col for col in df_DS1.columns if 'count' in col]\n",
    "df_DS1 = df_DS1.drop(df_DS1[~df_DS1[count_columns].applymap(lambda x: isinstance(x, int)).all(axis=1)].index)\n",
    "\n",
    "total_data_quality_problem_cases = cases_before_drop - df_DS1.shape[0]\n",
    "total_data_quality_problem_cases\n"
   ]
  },
  {
   "cell_type": "code",
   "execution_count": null,
   "id": "580f038b-e05a-4ef3-b6e6-d1ea71eba11f",
   "metadata": {},
   "outputs": [],
   "source": [
    "messages = []\n",
    "for m, expected, observed in [\n",
    "    (\"Cases with implausible values:\", 1163, total_data_quality_problem_cases),\n",
    "]:\n",
    "    result = \"PASS\" if expected==observed else \"FAIL\"\n",
    "    messages.append([m,expected ,observed])\n",
    "    \n",
    "df_results = pd.DataFrame(messages, columns = [\"Desription\", \"Expected\", \"Observed\"])    \n",
    "df_results[\"Result\"] = df_results.Expected==df_results.Observed\n",
    "df_results"
   ]
  },
  {
   "cell_type": "markdown",
   "id": "8d58c05f-3f79-4e52-811c-ff0dc7070200",
   "metadata": {},
   "source": [
    "### Comment\n",
    "   - the above result was obtained by only running checks1-12 as it was found earlier that likely how the results were obtained"
   ]
  },
  {
   "cell_type": "markdown",
   "id": "8bd400a3-d05d-40b9-a1ce-e81168925486",
   "metadata": {},
   "source": [
    "### Total problem DS''"
   ]
  },
  {
   "cell_type": "code",
   "execution_count": null,
   "id": "1d656298-18fa-4927-b52b-2166f8ff3768",
   "metadata": {},
   "outputs": [],
   "source": [
    "df_DS1 = df.copy()\n",
    "\n",
    "# Drop rows that contain duplicates\n",
    "df_DS1=df_DS2.drop_duplicates(keep = False)\n",
    "\n",
    "# Drop rows that contain Inconsitent values\n",
    "grouped = df_DS1.groupby(df_DS1.columns[:-1].tolist())\n",
    "inconsistent = grouped.filter(lambda x: len(x['defects'].unique()) > 1)\n",
    "df_DS1=df_DS1.drop(inconsistent.index)\n",
    "\n",
    "total_problem_cases = cases_before_drop - df_DS1.shape[0]\n",
    "total_problem_cases"
   ]
  },
  {
   "cell_type": "code",
   "execution_count": null,
   "id": "2f2841bf-db13-4811-9c8b-c1b38c50dfe1",
   "metadata": {},
   "outputs": [],
   "source": []
  }
 ],
 "metadata": {
  "kernelspec": {
   "display_name": "Python 3 (ipykernel)",
   "language": "python",
   "name": "python3"
  },
  "language_info": {
   "codemirror_mode": {
    "name": "ipython",
    "version": 3
   },
   "file_extension": ".py",
   "mimetype": "text/x-python",
   "name": "python",
   "nbconvert_exporter": "python",
   "pygments_lexer": "ipython3",
   "version": "3.10.2"
  }
 },
 "nbformat": 4,
 "nbformat_minor": 5
}
