{
 "cells": [
  {
   "cell_type": "markdown",
   "id": "3f848ab5-dd86-45c1-afc4-772289075d48",
   "metadata": {},
   "source": [
    "# NASA Defects - Model Building"
   ]
  },
  {
   "cell_type": "markdown",
   "id": "ebdaa343-b73f-46ef-b88c-197b0f8f4cb6",
   "metadata": {},
   "source": [
    "## Setup"
   ]
  },
  {
   "cell_type": "code",
   "execution_count": 1,
   "id": "4f42632f-3813-4391-b2aa-897fe1f5fca9",
   "metadata": {},
   "outputs": [],
   "source": [
    "import pandas as pd\n",
    "import numpy as np\n",
    "import matplotlib.pyplot as plt\n",
    "import seaborn as sns\n",
    "\n",
    "from sklearn.linear_model import LogisticRegression\n",
    "from sklearn.tree import DecisionTreeClassifier\n",
    "from sklearn.neural_network import MLPClassifier\n",
    "from sklearn.neighbors import KNeighborsClassifier\n",
    "from sklearn.svm import SVC\n",
    "from sklearn.model_selection import cross_val_score\n",
    "from sklearn.ensemble import RandomForestClassifier\n",
    "from sklearn.ensemble import AdaBoostClassifier\n",
    "\n",
    "\n",
    "\n",
    "from sklearn.model_selection import StratifiedKFold\n",
    "from sklearn.feature_selection import RFECV\n",
    "\n",
    "from IPython.display import display, Markdown\n",
    "plt.style.use(\"seaborn-darkgrid\")\n",
    "pd.set_option('display.max_columns', None)  \n",
    "\n",
    "import sys, os, yaml\n",
    "\n",
    "DATASET = \"US_Churn\"\n",
    "\n",
    "COLAB = 'google.colab' in sys.modules\n",
    "if COLAB:\n",
    "    ROOT = f\"/content/gdrive/MyDrive/datasets/{DATASET.replace(' ','_')}/\"\n",
    "else:\n",
    "    ROOT = \"./\"\n",
    "\n",
    "DEBUG = False\n",
    "SEED = 1612"
   ]
  },
  {
   "cell_type": "code",
   "execution_count": 2,
   "id": "fc2e8543-7ba1-430d-b17a-0c3a973be31a",
   "metadata": {},
   "outputs": [],
   "source": [
    "if COLAB:\n",
    "    from google.colab import drive\n",
    "    if not os.path.isdir(\"/content/gdrive\"):\n",
    "        drive.mount(\"/content/gdrive\")\n",
    "        d = \"/content/gdrive/MyDrive/datasets\"\n",
    "        if not os.path.isdir(d): os.makedirs(d)\n",
    "        if not os.path.isdir(ROOT): os.makedirs(ROOT)\n",
    "\n",
    "def makedirs(d):\n",
    "    if COLAB:\n",
    "        if not os.path.isdir(ROOT+d): os.makedirs(ROOT+d)\n",
    "    else:\n",
    "        if not os.path.isdir(ROOT+d): os.makedirs(ROOT+d, mode=0o777, exist_ok=True)\n",
    "\n",
    "for d in ['orig','data','output']: makedirs(d)"
   ]
  },
  {
   "cell_type": "markdown",
   "id": "1d96cb74-d89f-470b-9d81-d5a7a9cd5805",
   "metadata": {},
   "source": [
    "## Dataset"
   ]
  },
  {
   "cell_type": "code",
   "execution_count": 3,
   "id": "8f7514cd-c4e3-4a45-89ba-5fd6627eb548",
   "metadata": {},
   "outputs": [
    {
     "name": "stdout",
     "output_type": "stream",
     "text": [
      "(933, 37)\n"
     ]
    },
    {
     "data": {
      "text/html": [
       "<div>\n",
       "<style scoped>\n",
       "    .dataframe tbody tr th:only-of-type {\n",
       "        vertical-align: middle;\n",
       "    }\n",
       "\n",
       "    .dataframe tbody tr th {\n",
       "        vertical-align: top;\n",
       "    }\n",
       "\n",
       "    .dataframe thead th {\n",
       "        text-align: right;\n",
       "    }\n",
       "</style>\n",
       "<table border=\"1\" class=\"dataframe\">\n",
       "  <thead>\n",
       "    <tr style=\"text-align: right;\">\n",
       "      <th></th>\n",
       "      <th>BRANCH_COUNT</th>\n",
       "      <th>CALL_PAIRS</th>\n",
       "      <th>LOC_CODE_AND_COMMENT</th>\n",
       "      <th>LOC_COMMENTS</th>\n",
       "      <th>CONDITION_COUNT</th>\n",
       "      <th>CYCLOMATIC_COMPLEXITY</th>\n",
       "      <th>CYCLOMATIC_DENSITY</th>\n",
       "      <th>DECISION_COUNT</th>\n",
       "      <th>DECISION_DENSITY</th>\n",
       "      <th>DESIGN_COMPLEXITY</th>\n",
       "      <th>DESIGN_DENSITY</th>\n",
       "      <th>EDGE_COUNT</th>\n",
       "      <th>ESSENTIAL_COMPLEXITY</th>\n",
       "      <th>ESSENTIAL_DENSITY</th>\n",
       "      <th>LOC_EXECUTABLE</th>\n",
       "      <th>PARAMETER_COUNT</th>\n",
       "      <th>HALSTEAD_CONTENT</th>\n",
       "      <th>HALSTEAD_DIFFICULTY</th>\n",
       "      <th>HALSTEAD_EFFORT</th>\n",
       "      <th>HALSTEAD_ERROR_EST</th>\n",
       "      <th>HALSTEAD_LENGTH</th>\n",
       "      <th>HALSTEAD_LEVEL</th>\n",
       "      <th>HALSTEAD_PROG_TIME</th>\n",
       "      <th>HALSTEAD_VOLUME</th>\n",
       "      <th>MAINTENANCE_SEVERITY</th>\n",
       "      <th>MODIFIED_CONDITION_COUNT</th>\n",
       "      <th>MULTIPLE_CONDITION_COUNT</th>\n",
       "      <th>NODE_COUNT</th>\n",
       "      <th>NORMALIZED_CYLOMATIC_COMPLEXITY</th>\n",
       "      <th>NUM_OPERANDS</th>\n",
       "      <th>NUM_OPERATORS</th>\n",
       "      <th>NUM_UNIQUE_OPERANDS</th>\n",
       "      <th>NUM_UNIQUE_OPERATORS</th>\n",
       "      <th>NUMBER_OF_LINES</th>\n",
       "      <th>PERCENT_COMMENTS</th>\n",
       "      <th>LOC_TOTAL</th>\n",
       "      <th>defects</th>\n",
       "    </tr>\n",
       "  </thead>\n",
       "  <tbody>\n",
       "    <tr>\n",
       "      <th>0</th>\n",
       "      <td>1.0</td>\n",
       "      <td>4.0</td>\n",
       "      <td>7.0</td>\n",
       "      <td>24.0</td>\n",
       "      <td>0.0</td>\n",
       "      <td>1.0</td>\n",
       "      <td>0.13</td>\n",
       "      <td>0.0</td>\n",
       "      <td>0.0</td>\n",
       "      <td>1.0</td>\n",
       "      <td>1.00</td>\n",
       "      <td>6.0</td>\n",
       "      <td>1.0</td>\n",
       "      <td>0.0</td>\n",
       "      <td>1.0</td>\n",
       "      <td>0.0</td>\n",
       "      <td>17.88</td>\n",
       "      <td>7.43</td>\n",
       "      <td>986.77</td>\n",
       "      <td>0.04</td>\n",
       "      <td>34.0</td>\n",
       "      <td>0.13</td>\n",
       "      <td>54.82</td>\n",
       "      <td>132.83</td>\n",
       "      <td>1.0</td>\n",
       "      <td>0.0</td>\n",
       "      <td>0.0</td>\n",
       "      <td>7.0</td>\n",
       "      <td>0.03</td>\n",
       "      <td>13.0</td>\n",
       "      <td>21.0</td>\n",
       "      <td>7.0</td>\n",
       "      <td>8.0</td>\n",
       "      <td>34.0</td>\n",
       "      <td>96.88</td>\n",
       "      <td>8.0</td>\n",
       "      <td>False</td>\n",
       "    </tr>\n",
       "    <tr>\n",
       "      <th>1</th>\n",
       "      <td>1.0</td>\n",
       "      <td>1.0</td>\n",
       "      <td>11.0</td>\n",
       "      <td>3.0</td>\n",
       "      <td>0.0</td>\n",
       "      <td>1.0</td>\n",
       "      <td>0.08</td>\n",
       "      <td>0.0</td>\n",
       "      <td>0.0</td>\n",
       "      <td>1.0</td>\n",
       "      <td>1.00</td>\n",
       "      <td>2.0</td>\n",
       "      <td>1.0</td>\n",
       "      <td>0.0</td>\n",
       "      <td>1.0</td>\n",
       "      <td>0.0</td>\n",
       "      <td>42.62</td>\n",
       "      <td>7.81</td>\n",
       "      <td>2598.31</td>\n",
       "      <td>0.11</td>\n",
       "      <td>77.0</td>\n",
       "      <td>0.13</td>\n",
       "      <td>144.35</td>\n",
       "      <td>332.79</td>\n",
       "      <td>1.0</td>\n",
       "      <td>0.0</td>\n",
       "      <td>0.0</td>\n",
       "      <td>3.0</td>\n",
       "      <td>0.06</td>\n",
       "      <td>29.0</td>\n",
       "      <td>48.0</td>\n",
       "      <td>13.0</td>\n",
       "      <td>7.0</td>\n",
       "      <td>17.0</td>\n",
       "      <td>93.33</td>\n",
       "      <td>12.0</td>\n",
       "      <td>False</td>\n",
       "    </tr>\n",
       "    <tr>\n",
       "      <th>2</th>\n",
       "      <td>5.0</td>\n",
       "      <td>1.0</td>\n",
       "      <td>9.0</td>\n",
       "      <td>10.0</td>\n",
       "      <td>6.0</td>\n",
       "      <td>3.0</td>\n",
       "      <td>0.25</td>\n",
       "      <td>2.0</td>\n",
       "      <td>3.0</td>\n",
       "      <td>2.0</td>\n",
       "      <td>0.67</td>\n",
       "      <td>9.0</td>\n",
       "      <td>3.0</td>\n",
       "      <td>1.0</td>\n",
       "      <td>3.0</td>\n",
       "      <td>3.0</td>\n",
       "      <td>15.53</td>\n",
       "      <td>18.90</td>\n",
       "      <td>5545.97</td>\n",
       "      <td>0.10</td>\n",
       "      <td>64.0</td>\n",
       "      <td>0.05</td>\n",
       "      <td>308.11</td>\n",
       "      <td>293.44</td>\n",
       "      <td>1.0</td>\n",
       "      <td>2.0</td>\n",
       "      <td>3.0</td>\n",
       "      <td>8.0</td>\n",
       "      <td>0.13</td>\n",
       "      <td>27.0</td>\n",
       "      <td>37.0</td>\n",
       "      <td>10.0</td>\n",
       "      <td>14.0</td>\n",
       "      <td>24.0</td>\n",
       "      <td>86.36</td>\n",
       "      <td>12.0</td>\n",
       "      <td>False</td>\n",
       "    </tr>\n",
       "    <tr>\n",
       "      <th>3</th>\n",
       "      <td>1.0</td>\n",
       "      <td>0.0</td>\n",
       "      <td>3.0</td>\n",
       "      <td>5.0</td>\n",
       "      <td>0.0</td>\n",
       "      <td>1.0</td>\n",
       "      <td>0.25</td>\n",
       "      <td>0.0</td>\n",
       "      <td>0.0</td>\n",
       "      <td>1.0</td>\n",
       "      <td>1.00</td>\n",
       "      <td>1.0</td>\n",
       "      <td>1.0</td>\n",
       "      <td>0.0</td>\n",
       "      <td>1.0</td>\n",
       "      <td>1.0</td>\n",
       "      <td>20.84</td>\n",
       "      <td>3.94</td>\n",
       "      <td>323.05</td>\n",
       "      <td>0.03</td>\n",
       "      <td>21.0</td>\n",
       "      <td>0.25</td>\n",
       "      <td>17.95</td>\n",
       "      <td>82.04</td>\n",
       "      <td>1.0</td>\n",
       "      <td>0.0</td>\n",
       "      <td>0.0</td>\n",
       "      <td>2.0</td>\n",
       "      <td>0.09</td>\n",
       "      <td>9.0</td>\n",
       "      <td>12.0</td>\n",
       "      <td>8.0</td>\n",
       "      <td>7.0</td>\n",
       "      <td>11.0</td>\n",
       "      <td>88.89</td>\n",
       "      <td>4.0</td>\n",
       "      <td>False</td>\n",
       "    </tr>\n",
       "    <tr>\n",
       "      <th>4</th>\n",
       "      <td>3.0</td>\n",
       "      <td>0.0</td>\n",
       "      <td>1.0</td>\n",
       "      <td>0.0</td>\n",
       "      <td>4.0</td>\n",
       "      <td>2.0</td>\n",
       "      <td>1.00</td>\n",
       "      <td>2.0</td>\n",
       "      <td>2.0</td>\n",
       "      <td>1.0</td>\n",
       "      <td>0.50</td>\n",
       "      <td>7.0</td>\n",
       "      <td>1.0</td>\n",
       "      <td>0.0</td>\n",
       "      <td>1.0</td>\n",
       "      <td>3.0</td>\n",
       "      <td>11.42</td>\n",
       "      <td>6.67</td>\n",
       "      <td>507.65</td>\n",
       "      <td>0.03</td>\n",
       "      <td>20.0</td>\n",
       "      <td>0.15</td>\n",
       "      <td>28.20</td>\n",
       "      <td>76.15</td>\n",
       "      <td>0.5</td>\n",
       "      <td>1.0</td>\n",
       "      <td>2.0</td>\n",
       "      <td>7.0</td>\n",
       "      <td>0.50</td>\n",
       "      <td>10.0</td>\n",
       "      <td>10.0</td>\n",
       "      <td>6.0</td>\n",
       "      <td>8.0</td>\n",
       "      <td>4.0</td>\n",
       "      <td>50.00</td>\n",
       "      <td>2.0</td>\n",
       "      <td>False</td>\n",
       "    </tr>\n",
       "  </tbody>\n",
       "</table>\n",
       "</div>"
      ],
      "text/plain": [
       "   BRANCH_COUNT  CALL_PAIRS  LOC_CODE_AND_COMMENT  LOC_COMMENTS  \\\n",
       "0           1.0         4.0                   7.0          24.0   \n",
       "1           1.0         1.0                  11.0           3.0   \n",
       "2           5.0         1.0                   9.0          10.0   \n",
       "3           1.0         0.0                   3.0           5.0   \n",
       "4           3.0         0.0                   1.0           0.0   \n",
       "\n",
       "   CONDITION_COUNT  CYCLOMATIC_COMPLEXITY  CYCLOMATIC_DENSITY  DECISION_COUNT  \\\n",
       "0              0.0                    1.0                0.13             0.0   \n",
       "1              0.0                    1.0                0.08             0.0   \n",
       "2              6.0                    3.0                0.25             2.0   \n",
       "3              0.0                    1.0                0.25             0.0   \n",
       "4              4.0                    2.0                1.00             2.0   \n",
       "\n",
       "   DECISION_DENSITY  DESIGN_COMPLEXITY  DESIGN_DENSITY  EDGE_COUNT  \\\n",
       "0               0.0                1.0            1.00         6.0   \n",
       "1               0.0                1.0            1.00         2.0   \n",
       "2               3.0                2.0            0.67         9.0   \n",
       "3               0.0                1.0            1.00         1.0   \n",
       "4               2.0                1.0            0.50         7.0   \n",
       "\n",
       "   ESSENTIAL_COMPLEXITY  ESSENTIAL_DENSITY  LOC_EXECUTABLE  PARAMETER_COUNT  \\\n",
       "0                   1.0                0.0             1.0              0.0   \n",
       "1                   1.0                0.0             1.0              0.0   \n",
       "2                   3.0                1.0             3.0              3.0   \n",
       "3                   1.0                0.0             1.0              1.0   \n",
       "4                   1.0                0.0             1.0              3.0   \n",
       "\n",
       "   HALSTEAD_CONTENT  HALSTEAD_DIFFICULTY  HALSTEAD_EFFORT  HALSTEAD_ERROR_EST  \\\n",
       "0             17.88                 7.43           986.77                0.04   \n",
       "1             42.62                 7.81          2598.31                0.11   \n",
       "2             15.53                18.90          5545.97                0.10   \n",
       "3             20.84                 3.94           323.05                0.03   \n",
       "4             11.42                 6.67           507.65                0.03   \n",
       "\n",
       "   HALSTEAD_LENGTH  HALSTEAD_LEVEL  HALSTEAD_PROG_TIME  HALSTEAD_VOLUME  \\\n",
       "0             34.0            0.13               54.82           132.83   \n",
       "1             77.0            0.13              144.35           332.79   \n",
       "2             64.0            0.05              308.11           293.44   \n",
       "3             21.0            0.25               17.95            82.04   \n",
       "4             20.0            0.15               28.20            76.15   \n",
       "\n",
       "   MAINTENANCE_SEVERITY  MODIFIED_CONDITION_COUNT  MULTIPLE_CONDITION_COUNT  \\\n",
       "0                   1.0                       0.0                       0.0   \n",
       "1                   1.0                       0.0                       0.0   \n",
       "2                   1.0                       2.0                       3.0   \n",
       "3                   1.0                       0.0                       0.0   \n",
       "4                   0.5                       1.0                       2.0   \n",
       "\n",
       "   NODE_COUNT  NORMALIZED_CYLOMATIC_COMPLEXITY  NUM_OPERANDS  NUM_OPERATORS  \\\n",
       "0         7.0                             0.03          13.0           21.0   \n",
       "1         3.0                             0.06          29.0           48.0   \n",
       "2         8.0                             0.13          27.0           37.0   \n",
       "3         2.0                             0.09           9.0           12.0   \n",
       "4         7.0                             0.50          10.0           10.0   \n",
       "\n",
       "   NUM_UNIQUE_OPERANDS  NUM_UNIQUE_OPERATORS  NUMBER_OF_LINES  \\\n",
       "0                  7.0                   8.0             34.0   \n",
       "1                 13.0                   7.0             17.0   \n",
       "2                 10.0                  14.0             24.0   \n",
       "3                  8.0                   7.0             11.0   \n",
       "4                  6.0                   8.0              4.0   \n",
       "\n",
       "   PERCENT_COMMENTS  LOC_TOTAL  defects  \n",
       "0             96.88        8.0    False  \n",
       "1             93.33       12.0    False  \n",
       "2             86.36       12.0    False  \n",
       "3             88.89        4.0    False  \n",
       "4             50.00        2.0    False  "
      ]
     },
     "execution_count": 3,
     "metadata": {},
     "output_type": "execute_result"
    }
   ],
   "source": [
    "df = pd.read_csv(f\"{ROOT}/data/pc2.csv\")\n",
    "print(df.shape)\n",
    "df.head(5)"
   ]
  },
  {
   "cell_type": "markdown",
   "id": "2a7e8d84-533a-4c44-b77c-a25efeda4505",
   "metadata": {},
   "source": [
    "## Target and Features"
   ]
  },
  {
   "cell_type": "code",
   "execution_count": 4,
   "id": "f6281ff3-38bc-4acd-bbc5-48d63bf0dcae",
   "metadata": {},
   "outputs": [
    {
     "name": "stdout",
     "output_type": "stream",
     "text": [
      "Traget: defects\n",
      "Features: ['BRANCH_COUNT', 'CALL_PAIRS', 'LOC_CODE_AND_COMMENT', 'LOC_COMMENTS', 'CONDITION_COUNT', 'CYCLOMATIC_COMPLEXITY', 'CYCLOMATIC_DENSITY', 'DECISION_COUNT', 'DECISION_DENSITY', 'DESIGN_COMPLEXITY', 'DESIGN_DENSITY', 'EDGE_COUNT', 'ESSENTIAL_COMPLEXITY', 'ESSENTIAL_DENSITY', 'LOC_EXECUTABLE', 'PARAMETER_COUNT', 'HALSTEAD_CONTENT', 'HALSTEAD_DIFFICULTY', 'HALSTEAD_EFFORT', 'HALSTEAD_ERROR_EST', 'HALSTEAD_LENGTH', 'HALSTEAD_LEVEL', 'HALSTEAD_PROG_TIME', 'HALSTEAD_VOLUME', 'MAINTENANCE_SEVERITY', 'MODIFIED_CONDITION_COUNT', 'MULTIPLE_CONDITION_COUNT', 'NODE_COUNT', 'NORMALIZED_CYLOMATIC_COMPLEXITY', 'NUM_OPERANDS', 'NUM_OPERATORS', 'NUM_UNIQUE_OPERANDS', 'NUM_UNIQUE_OPERATORS', 'NUMBER_OF_LINES', 'PERCENT_COMMENTS', 'LOC_TOTAL']\n"
     ]
    }
   ],
   "source": [
    "target = \"defects\"\n",
    "features = [c for c in df.columns if c not in target]\n",
    "\n",
    "num_features = len(features)\n",
    "\n",
    "print(f\"Traget: {target}\")\n",
    "print(f\"Features: {features}\")"
   ]
  },
  {
   "cell_type": "markdown",
   "id": "82750016-5ab5-4824-b4f7-50a80f8e49f6",
   "metadata": {},
   "source": [
    "### Check target values"
   ]
  },
  {
   "cell_type": "code",
   "execution_count": 5,
   "id": "dfad1e4e-cc21-4f13-bfb3-e2dedefd176e",
   "metadata": {},
   "outputs": [
    {
     "data": {
      "text/plain": [
       "False    0.975348\n",
       "True     0.024652\n",
       "Name: defects, dtype: float64"
      ]
     },
     "execution_count": 5,
     "metadata": {},
     "output_type": "execute_result"
    }
   ],
   "source": [
    "df[target].value_counts(normalize=True)"
   ]
  },
  {
   "cell_type": "markdown",
   "id": "6c468fa7-c760-432c-83b9-5c710ec517e3",
   "metadata": {},
   "source": [
    "#### Comments\n",
    "- From the relative frequencies above we can see clearly that the dataset is unbalanced.\n",
    "- We will attempt to use a Synthetic Minority Oversampling Technique (SMOTE) to balance out the dataset later on."
   ]
  },
  {
   "cell_type": "markdown",
   "id": "0e2d936f-4a40-4e16-afd3-0a20dc5b42b9",
   "metadata": {
    "tags": []
   },
   "source": [
    "## Feature Engineering"
   ]
  },
  {
   "cell_type": "markdown",
   "id": "35a72604-bc49-4d8c-a796-1f48e34cff0e",
   "metadata": {},
   "source": [
    "### Normalising Features"
   ]
  },
  {
   "cell_type": "code",
   "execution_count": 6,
   "id": "0aa62338-e91f-4c66-be70-14a72fafea24",
   "metadata": {},
   "outputs": [
    {
     "data": {
      "text/plain": [
       "(933, 37)"
      ]
     },
     "execution_count": 6,
     "metadata": {},
     "output_type": "execute_result"
    }
   ],
   "source": [
    "from sklearn.preprocessing import StandardScaler\n",
    "\n",
    "scaler = StandardScaler()\n",
    "\n",
    "X_scaled = scaler.fit_transform(df.loc[:,features].values)\n",
    "\n",
    "df_scaled = pd.DataFrame(X_scaled, columns=features)\n",
    "df_scaled[target] = df[target]\n",
    "\n",
    "df_scaled.shape"
   ]
  },
  {
   "cell_type": "markdown",
   "id": "3188a8a4-a55e-468c-8a09-463ff0af5196",
   "metadata": {
    "tags": []
   },
   "source": [
    "### Feature Selection"
   ]
  },
  {
   "cell_type": "code",
   "execution_count": 7,
   "id": "d0a59124-aa58-4820-8978-9ab3ee111d79",
   "metadata": {},
   "outputs": [
    {
     "name": "stdout",
     "output_type": "stream",
     "text": [
      "Number of features starting: 36\n"
     ]
    }
   ],
   "source": [
    "print(\"Number of features starting:\", len(features))"
   ]
  },
  {
   "cell_type": "code",
   "execution_count": 8,
   "id": "21de7740-9e77-4294-b3c5-45a67ccfae54",
   "metadata": {},
   "outputs": [
    {
     "name": "stdout",
     "output_type": "stream",
     "text": [
      "Optimal number of features : 7\n"
     ]
    },
    {
     "data": {
      "image/png": "[encoded data removed]",
      "text/plain": [
       "<Figure size 640x480 with 1 Axes>"
      ]
     },
     "metadata": {},
     "output_type": "display_data"
    }
   ],
   "source": [
    "models = {\n",
    "    \"LR\": LogisticRegression(),\n",
    "    \"DT\": DecisionTreeClassifier(),\n",
    "    \"DT(max_depth=3)\": DecisionTreeClassifier(max_depth=3),\n",
    "    \"KNN\": KNeighborsClassifier(),\n",
    "    \"SVC\": SVC(),\n",
    "    \"ADA\": AdaBoostClassifier(),\n",
    "    \"RFC\": RandomForestClassifier()\n",
    "}\n",
    "\n",
    "name = 'LR'  # use any LR, DT\n",
    "model = models[name]\n",
    "\n",
    "rfecv = RFECV(estimator=model, step=1, cv=StratifiedKFold(4), scoring=\"roc_auc\")\n",
    "rfecv.fit(df_scaled[features], df_scaled[target])\n",
    "print(\"Optimal number of features : %d\" % rfecv.n_features_)\n",
    "\n",
    "# Plot number of features VS. cross-validation scores\n",
    "plt.figure()\n",
    "plt.title(f\"{name} with RFECV\")\n",
    "plt.xlabel(\"Number of features selected\")\n",
    "plt.ylabel(\"Cross validation score\")\n",
    "results = rfecv.cv_results_\n",
    "plt.plot(range(1, len(results['mean_test_score']) + 1), results['split0_test_score'], label='split0')\n",
    "plt.plot(range(1, len(results['mean_test_score']) + 1), results['split1_test_score'], label='split1')\n",
    "plt.plot(range(1, len(results['mean_test_score']) + 1), results['mean_test_score'], label='mean')\n",
    "plt.legend()\n",
    "plt.show()"
   ]
  },
  {
   "cell_type": "code",
   "execution_count": 9,
   "id": "19c16d52-2c39-46e2-b19b-c520dbc48d89",
   "metadata": {},
   "outputs": [
    {
     "data": {
      "text/plain": [
       "['LOC_CODE_AND_COMMENT',\n",
       " 'DECISION_COUNT',\n",
       " 'DESIGN_DENSITY',\n",
       " 'ESSENTIAL_COMPLEXITY',\n",
       " 'HALSTEAD_CONTENT',\n",
       " 'MODIFIED_CONDITION_COUNT',\n",
       " 'NORMALIZED_CYLOMATIC_COMPLEXITY']"
      ]
     },
     "execution_count": 9,
     "metadata": {},
     "output_type": "execute_result"
    }
   ],
   "source": [
    "if len(rfecv.support_)<len(features):\n",
    "    print(\"It looks like you have run cells out of order. Runn cells from Pre-Processing Data (2)\")\n",
    "\n",
    "features_selected = np.array(features)[rfecv.support_].tolist()\n",
    "features_selected"
   ]
  },
  {
   "cell_type": "markdown",
   "id": "4b435daa-f77c-4d49-850c-f02a4cdafb37",
   "metadata": {
    "tags": []
   },
   "source": [
    "#### Comments\n",
    "- Using logistic regression and recursive feature elimination with cross-validation we narrow down the number of optimal features  to 7.   \n",
    "    - Increasing the StratfiedKFold would yield more definite results if the data set was larger, however since the dataset is small we will stick to a lower number ie.4 so that the data isnt split up too many times.\n",
    "- Feature importance\n",
    "    - LOC_CODE_AND_COMMENT - this feature refers to the total Lines Of Code (LOC) that contain code and comments, comments are typically used to either suggest potential problem areas in code, a significant presence or no presence could be a good indicator.\n",
    "    - DECISION_COUNT - this feature keeps track of  the number of decision points in the code (places where the code execution diverts based on conditions). These are often confusing combinations of statements that can be easilyy overlooked so a  high count could indicate a higher possibility of oversight that could in turn cause issues.\n",
    "    - DESIGN_DENSITY - this  feature measures how many design structures there are compared to how many code statements and expressions there are. A more complex design may be indicated by a larger design density, which could result in more problems.\n",
    "    - ESSENTIAL_COMPLEXITY - this feature counts the number of crucial choices that must be made in order to comprehend the code in order to calculate complexity. More essential complexity can suggest a larger chance of defects, much like the decision count can.\n",
    "    - HALSTEAD_CONTENT - tfeature that assesses the code's content by counting the number of distinct operators and operands used. More content may suggest more sophisticated code, and because complex code is more difficult to understand, it may produce more flaws.\n",
    "    - MODIFIED_CONDITION_COUNT - this feature  keeps track of the variety of distinct decision-making processes that rely on modified variables. This, like the decision count, can show contradictory logical combinations and, when combined with variables, can result in a greater overview of potential issue states.\n",
    "    - NORMALIZED_CYCLOMATIC_COMPLEXITY - this feature  counts the number of pathways through the code graph to determine how difficult the code logic is. Greater cyclomatic complexity may be a sign of convoluted or complex control flow, which can be more problematic because it can be challenging to analyse and test.\n",
    "    \n",
    "    \n",
    "- It's crucial to remember that each of these features takes into account a different component of software development, such as complexity and design, and aims to identify unique measurements that could identify more error-prone code."
   ]
  },
  {
   "cell_type": "markdown",
   "id": "1967f8cb-178f-424b-8205-e10f3e2b1d23",
   "metadata": {
    "tags": []
   },
   "source": [
    "## Showcasing SMOTE"
   ]
  },
  {
   "cell_type": "markdown",
   "id": "2b58eaf1-f2bb-4486-91e7-abdf9dc81203",
   "metadata": {},
   "source": [
    "### Imports for SMOTE"
   ]
  },
  {
   "cell_type": "code",
   "execution_count": 10,
   "id": "3a585ee1-2f5b-4cf6-8ca2-c712d9d02c3d",
   "metadata": {},
   "outputs": [],
   "source": [
    "from collections import Counter\n",
    "from sklearn.datasets import make_classification\n",
    "from imblearn.over_sampling import SMOTE\n",
    "from imblearn.under_sampling import RandomUnderSampler\n",
    "from imblearn.pipeline import Pipeline\n",
    "from matplotlib import pyplot\n",
    "from numpy import where"
   ]
  },
  {
   "cell_type": "markdown",
   "id": "4b2dd79b-4fe6-486f-a077-75b16c33e327",
   "metadata": {},
   "source": [
    "### Create a synthetic binary classification dataset"
   ]
  },
  {
   "cell_type": "code",
   "execution_count": 11,
   "id": "a7c70b25-8261-4ebd-a741-e109d430a357",
   "metadata": {},
   "outputs": [],
   "source": [
    "X, y = make_classification(n_samples=933, n_features=len(features_selected), n_redundant=0, n_clusters_per_class=1, weights=[0.975], flip_y=0, random_state=SEED)"
   ]
  },
  {
   "cell_type": "markdown",
   "id": "d7c4799d-6f0a-46c7-b23a-cd881dba5824",
   "metadata": {},
   "source": [
    "### Summarize class distribution"
   ]
  },
  {
   "cell_type": "code",
   "execution_count": 12,
   "id": "a8924f3c-b197-41e9-b5d5-48c405a79877",
   "metadata": {},
   "outputs": [
    {
     "name": "stdout",
     "output_type": "stream",
     "text": [
      "Counter({False: 910, True: 23})\n"
     ]
    }
   ],
   "source": [
    "counter = Counter(df_scaled[target])\n",
    "print(counter)"
   ]
  },
  {
   "cell_type": "code",
   "execution_count": 13,
   "id": "438a589c-638d-4006-9bda-64a0d1dcf216",
   "metadata": {},
   "outputs": [
    {
     "data": {
      "image/png": "[encoded data removed]",
      "text/plain": [
       "<Figure size 640x480 with 1 Axes>"
      ]
     },
     "metadata": {},
     "output_type": "display_data"
    }
   ],
   "source": [
    "for label, _ in counter.items():\n",
    " row_ix = where(y == label)[0]\n",
    " plt.scatter(X[row_ix, 0], X[row_ix, 1], label=str(label))\n",
    "plt.legend()\n",
    "plt.show()"
   ]
  },
  {
   "cell_type": "markdown",
   "id": "4ef5bd82-a6f8-4d0f-920c-032af7cea3bf",
   "metadata": {},
   "source": [
    "### Define pipeline"
   ]
  },
  {
   "cell_type": "code",
   "execution_count": 14,
   "id": "a4e0ea49-98dc-4280-8662-ea74dd3f9d62",
   "metadata": {},
   "outputs": [],
   "source": [
    "over = SMOTE(sampling_strategy=0.3)\n",
    "under = RandomUnderSampler(sampling_strategy=0.5)\n",
    "steps = [('o', over),('u',under)]\n",
    "pipeline = Pipeline(steps=steps)"
   ]
  },
  {
   "cell_type": "markdown",
   "id": "59af72f2-cd49-4c89-974b-38d10107fb5f",
   "metadata": {},
   "source": [
    "#### Comments\n",
    "- As seen from the plot above our target values are heavily imbalanced which in turn would provide skewed results.\n",
    "- We will attempt to balance out the dataset by oversampling the minorty class and undersampling the majority class\n",
    "- Using smote we can create synthetic instances of the minorty class to balance out the data, we use a 0.3 sampling strategy which is the desird ratio of the majority class over the minority.\n",
    "- We can also use RandomUnderSampler to under sample the majority class by randomly picking samples."
   ]
  },
  {
   "cell_type": "markdown",
   "id": "a3a8a0b1-9e3d-4c47-8e00-9a6054d79af5",
   "metadata": {},
   "source": [
    "### Transform the dataset"
   ]
  },
  {
   "cell_type": "code",
   "execution_count": 15,
   "id": "2a93fea8-6b8a-4ae9-a00d-5e79705999c4",
   "metadata": {},
   "outputs": [],
   "source": [
    "X, y = pipeline.fit_resample(X, y)"
   ]
  },
  {
   "cell_type": "markdown",
   "id": "0ca4dcfa-1774-4955-8940-196aaf4bcfc8",
   "metadata": {},
   "source": [
    "### Summarize the new class distribution"
   ]
  },
  {
   "cell_type": "code",
   "execution_count": 16,
   "id": "3ecaf0e1-5bc5-4825-bb66-c13c34091f8f",
   "metadata": {},
   "outputs": [
    {
     "name": "stdout",
     "output_type": "stream",
     "text": [
      "Counter({0: 546, 1: 273})\n"
     ]
    }
   ],
   "source": [
    "counter = Counter(y)\n",
    "print(counter)"
   ]
  },
  {
   "cell_type": "code",
   "execution_count": 17,
   "id": "1c541ab8-4827-4145-880d-5a285db29836",
   "metadata": {},
   "outputs": [],
   "source": [
    "for label, _ in counter.items():\n",
    " row_ix = where(y == label)[0]\n",
    " plt.scatter(X[row_ix, 0], X[row_ix, 1], label=str(label))\n",
    "plt.legend()\n",
    "plt.show()"
   ]
  },
  {
   "cell_type": "markdown",
   "id": "77a49272-038f-41cd-b0ab-dbbafda1ed08",
   "metadata": {},
   "source": [
    "#### Comments\n",
    "-  Using a synthetic classification dataset we can clearly see that  after refiting our model using or over and under sampling pipeline there is quite a few more plots for each class and the data seems somewhat more balanced\n",
    "\n",
    "Note: a synthetic classification was used to show the effects of SMOTE and RUS as it the graphs were more clear, although the specification for the synthetic classification was configured to match the cleaned NASA dataset."
   ]
  },
  {
   "cell_type": "markdown",
   "id": "9f5c1634-b6f9-4074-80cf-b87109d042f1",
   "metadata": {
    "tags": []
   },
   "source": [
    "## Using SMOTE and RUS to balance out our dataset"
   ]
  },
  {
   "cell_type": "code",
   "execution_count": 18,
   "id": "5304cc08-f404-42bb-91f6-d4fef06ce705",
   "metadata": {},
   "outputs": [],
   "source": [
    "X_smote, y_smote = pipeline.fit_resample(df_scaled[features_selected],df_scaled[target])"
   ]
  },
  {
   "cell_type": "code",
   "execution_count": 23,
   "id": "9487416b-a6a1-4a5a-a7a4-11e01f26b2fc",
   "metadata": {},
   "outputs": [
    {
     "name": "stderr",
     "output_type": "stream",
     "text": [
      "/home/PStefans/.local/lib/python3.10/site-packages/seaborn/_decorators.py:36: FutureWarning: Pass the following variable as a keyword arg: x. From version 0.12, the only valid positional argument will be `data`, and passing other arguments without an explicit keyword will result in an error or misinterpretation.\n",
      "  warnings.warn(\n",
      "/home/PStefans/.local/lib/python3.10/site-packages/seaborn/_decorators.py:36: FutureWarning: Pass the following variable as a keyword arg: x. From version 0.12, the only valid positional argument will be `data`, and passing other arguments without an explicit keyword will result in an error or misinterpretation.\n",
      "  warnings.warn(\n"
     ]
    },
    {
     "data": {
      "image/png": "[encoded data removed]",
      "text/plain": [
       "<Figure size 1000x800 with 2 Axes>"
      ]
     },
     "metadata": {},
     "output_type": "display_data"
    },
    {
     "data": {
      "text/plain": [
       "Counter({False: 546, True: 273})"
      ]
     },
     "execution_count": 23,
     "metadata": {},
     "output_type": "execute_result"
    }
   ],
   "source": [
    "plt.figure(figsize = (10, 8))\n",
    "plt.subplot(1, 2, 1)\n",
    "sns.countplot(df_scaled[target])\n",
    "plt.title('Ratio before SMOTE')\n",
    "plt.subplot(1, 2, 2)\n",
    "sns.countplot(y_smote)\n",
    "plt.title('Ratio after SMOTE')\n",
    "plt.show()\n",
    "Counter(y_smote)"
   ]
  },
  {
   "cell_type": "markdown",
   "id": "caece50f-5644-4be3-a32b-d975445990ad",
   "metadata": {},
   "source": [
    "#### Comments\n",
    "- We can clearly see the effect of our balancing pipeline on the graphs above.\n",
    "- Before our pipeline we had 933 cases, roughtly 910 for the false class and 23 for the true class\n",
    "- After oversampling the minority and undersampling majoruty classes we have 546 for the false class and 273 for the true class\n",
    "- Although theyre not exactly balanced 1:1 they are much closer than they were before and should give better results\n",
    "\n",
    "Note: When balancing out an imbalanced dataset, we typically aim to increase the representation of the minority class to a level that is sufficient for the model to learn the relevant patterns and make accurate predictions. However, we generally do not aim for an exact 1:1 balance between the classes, as this could potentially lead to overfitting and reduced model performance."
   ]
  },
  {
   "cell_type": "markdown",
   "id": "af851d5b-50fb-42fb-a514-c764446d18c8",
   "metadata": {
    "tags": []
   },
   "source": [
    "## Model Selection"
   ]
  },
  {
   "cell_type": "code",
   "execution_count": 26,
   "id": "a0730f9e-a766-4f54-97a8-032b69a140a5",
   "metadata": {},
   "outputs": [],
   "source": [
    "def train_models(features,target):\n",
    "    best = {'name':None, 'mean':0}\n",
    "    \n",
    "    for name,model in models.items():\n",
    "    \n",
    "        scores = cross_val_score(model, features, target, scoring='roc_auc', cv=10)\n",
    "        mean = scores.mean()\n",
    "        std = scores.std()\n",
    "        \n",
    "        print (\"\\nModel %s\" % name)\n",
    "        print (\"\\tCV scores: \" +  \", \".join([f\"{s:.2f}\" for s in scores]))\n",
    "        print (f\"\\tmean={mean:.2%} std={std:.4f}\")\n",
    "    \n",
    "        if mean>best['mean']:\n",
    "            best = {'name':name, 'mean':mean}\n",
    "\n",
    "    print (f\"\\nBest Performing Model {best['name']} with (mean CV of) PR_AUC = {best['mean']:.2%}\" )"
   ]
  },
  {
   "cell_type": "markdown",
   "id": "823a260a-ca8f-437a-b278-8fd99dff77e3",
   "metadata": {},
   "source": [
    "### Training models"
   ]
  },
  {
   "cell_type": "markdown",
   "id": "ed307232-9f0e-450b-b2b9-49487d766d56",
   "metadata": {},
   "source": [
    "#### Training on cleaned dataset"
   ]
  },
  {
   "cell_type": "code",
   "execution_count": 28,
   "id": "42f8bb53-64c0-489e-ba84-c1ff107932d9",
   "metadata": {},
   "outputs": [
    {
     "name": "stdout",
     "output_type": "stream",
     "text": [
      "\n",
      "Model LR\n",
      "\tCV scores: 0.55, 0.44, 0.53, 0.57, 0.26, 0.90, 0.36, 0.49, 0.34, 0.36\n",
      "\tmean=48.10% std=0.1706\n",
      "\n",
      "Model DT\n",
      "\tCV scores: 0.81, 0.48, 0.46, 0.48, 0.48, 0.73, 0.49, 0.48, 0.49, 0.49\n",
      "\tmean=53.91% std=0.1172\n",
      "\n",
      "Model DT(max_depth=3)\n",
      "\tCV scores: 0.65, 0.77, 0.54, 0.61, 0.48, 0.72, 0.48, 0.74, 0.63, 0.46\n",
      "\tmean=60.93% std=0.1074\n",
      "\n",
      "Model KNN\n",
      "\tCV scores: 0.96, 0.62, 0.46, 0.72, 0.47, 0.43, 0.45, 0.43, 0.45, 0.44\n",
      "\tmean=54.31% std=0.1672\n",
      "\n",
      "Model SVC\n",
      "\tCV scores: 0.74, 0.81, 0.62, 0.95, 0.50, 0.97, 0.49, 0.85, 0.75, 0.77\n",
      "\tmean=74.41% std=0.1561\n",
      "\n",
      "Model ADA\n",
      "\tCV scores: 0.87, 0.09, 0.63, 0.62, 0.43, 0.80, 0.63, 0.95, 0.43, 0.31\n",
      "\tmean=57.63% std=0.2523\n",
      "\n",
      "Model RFC\n",
      "\tCV scores: 0.83, 0.84, 0.46, 0.57, 0.26, 0.80, 0.73, 0.84, 0.58, 0.55\n",
      "\tmean=64.54% std=0.1833\n",
      "\n",
      "Best Performing Model SVC with (mean CV of) PR_AUC = 74.41%\n"
     ]
    }
   ],
   "source": [
    "train_models(df_scaled[features],df_scaled[target])"
   ]
  },
  {
   "cell_type": "markdown",
   "id": "1f727099-9768-4805-b3d7-a223de64f974",
   "metadata": {},
   "source": [
    "#### Training on cleaned and balanced dataset"
   ]
  },
  {
   "cell_type": "code",
   "execution_count": 29,
   "id": "cb7da811-e148-4dee-a73b-bb5809908e1a",
   "metadata": {},
   "outputs": [
    {
     "name": "stdout",
     "output_type": "stream",
     "text": [
      "\n",
      "Model LR\n",
      "\tCV scores: 0.77, 0.67, 0.70, 0.81, 0.67, 0.67, 0.75, 0.71, 0.80, 0.65\n",
      "\tmean=72.10% std=0.0551\n",
      "\n",
      "Model DT\n",
      "\tCV scores: 0.84, 0.86, 0.84, 0.81, 0.84, 0.92, 0.95, 0.94, 0.91, 0.93\n",
      "\tmean=88.40% std=0.0479\n",
      "\n",
      "Model DT(max_depth=3)\n",
      "\tCV scores: 0.84, 0.83, 0.85, 0.88, 0.84, 0.81, 0.89, 0.84, 0.90, 0.86\n",
      "\tmean=85.39% std=0.0272\n",
      "\n",
      "Model KNN\n",
      "\tCV scores: 0.98, 0.94, 0.91, 0.95, 0.94, 0.90, 0.96, 0.90, 0.98, 0.95\n",
      "\tmean=94.18% std=0.0266\n",
      "\n",
      "Model SVC\n",
      "\tCV scores: 0.80, 0.73, 0.86, 0.83, 0.84, 0.73, 0.83, 0.81, 0.85, 0.83\n",
      "\tmean=81.07% std=0.0425\n",
      "\n",
      "Model ADA\n",
      "\tCV scores: 0.71, 0.86, 0.90, 0.93, 0.93, 0.92, 0.92, 0.94, 0.92, 0.90\n",
      "\tmean=89.20% std=0.0655\n",
      "\n",
      "Model RFC\n",
      "\tCV scores: 0.93, 0.98, 0.98, 0.98, 0.98, 0.99, 0.99, 0.98, 1.00, 0.98\n",
      "\tmean=97.83% std=0.0188\n",
      "\n",
      "Best Performing Model RFC with (mean CV of) PR_AUC = 97.83%\n"
     ]
    }
   ],
   "source": [
    "train_models(X_smote,y_smote)"
   ]
  },
  {
   "cell_type": "markdown",
   "id": "0348190a-cd8c-4c27-9f4c-b70c520ad3e0",
   "metadata": {},
   "source": [
    "#### Comments\n",
    "- Runing the traing model function twice to compare the results achieved from a balanced and unbalanced dataset shows the effect and unbalanced dataset can have:\n",
    "    - The unbalanced dataset best performing model was Support Vector Classification (SVC) and it mean was only 74.41%\n",
    "    - The balanced dataset best performing model was Random Forest Classifier (RFC) and its mean was 97.83% .\n",
    "    - The balanced dataset bested the unbalanced dataset  "
   ]
  },
  {
   "cell_type": "code",
   "execution_count": null,
   "id": "00d6bafb-e38f-46bf-b8fc-f75a4d52586e",
   "metadata": {},
   "outputs": [],
   "source": []
  }
 ],
 "metadata": {
  "kernelspec": {
   "display_name": "Python 3 (ipykernel)",
   "language": "python",
   "name": "python3"
  },
  "language_info": {
   "codemirror_mode": {
    "name": "ipython",
    "version": 3
   },
   "file_extension": ".py",
   "mimetype": "text/x-python",
   "name": "python",
   "nbconvert_exporter": "python",
   "pygments_lexer": "ipython3",
   "version": "3.10.2"
  }
 },
 "nbformat": 4,
 "nbformat_minor": 5
}
