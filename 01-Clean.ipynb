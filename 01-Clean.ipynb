{
 "cells": [
  {
   "cell_type": "markdown",
   "id": "62650888-11d0-477b-b1ab-b5334ba8b235",
   "metadata": {},
   "source": [
    "# NASA Defects - Import & Clean"
   ]
  },
  {
   "cell_type": "markdown",
   "id": "0a2d2678-8a44-4203-a11c-80b9106c2d09",
   "metadata": {},
   "source": [
    "## Setup"
   ]
  },
  {
   "cell_type": "code",
   "execution_count": 1,
   "id": "8fbf07f6-bd74-4b22-8cc2-dbfc07169aea",
   "metadata": {},
   "outputs": [],
   "source": [
    "import pandas as pd\n",
    "import numpy as np\n",
    "import matplotlib.pyplot as plt\n",
    "import seaborn as sns\n",
    "\n",
    "from IPython.display import display, Markdown\n",
    "plt.style.use(\"seaborn-darkgrid\")\n",
    "pd.set_option('display.max_columns', None)  \n",
    "\n",
    "import sys, os, yaml\n",
    "\n",
    "DATASET = \"NASA\"\n",
    "\n",
    "COLAB = 'google.colab' in sys.modules\n",
    "if COLAB:\n",
    "    ROOT = f\"/content/gdrive/MyDrive/datasets/{DATASET.replace(' ','_')}/\"\n",
    "else:\n",
    "    ROOT = \"./\"\n",
    "\n",
    "DEBUG = False\n",
    "SEED = 1612"
   ]
  },
  {
   "cell_type": "code",
   "execution_count": 2,
   "id": "e4a7c7b4-a9bd-4d3c-9788-cbe3de20dd85",
   "metadata": {},
   "outputs": [],
   "source": [
    "if COLAB:\n",
    "    from google.colab import drive\n",
    "    if not os.path.isdir(\"/content/gdrive\"):\n",
    "        drive.mount(\"/content/gdrive\")\n",
    "        d = \"/content/gdrive/MyDrive/datasets\"\n",
    "        if not os.path.isdir(d): os.makedirs(d)\n",
    "        if not os.path.isdir(ROOT): os.makedirs(ROOT)\n",
    "\n",
    "def makedirs(d):\n",
    "    if COLAB:\n",
    "        if not os.path.isdir(ROOT+d): os.makedirs(ROOT+d)\n",
    "    else:\n",
    "        if not os.path.isdir(ROOT+d): os.makedirs(ROOT+d, mode=0o777, exist_ok=True)\n",
    "\n",
    "for d in ['orig','data','output']: makedirs(d)"
   ]
  },
  {
   "cell_type": "markdown",
   "id": "65847081-3399-4f78-b3de-0d2c0da4e8e9",
   "metadata": {},
   "source": [
    "## Dataset"
   ]
  },
  {
   "cell_type": "code",
   "execution_count": 3,
   "id": "3fe1d4cf-a381-4780-8968-ae1c06b8fb77",
   "metadata": {},
   "outputs": [
    {
     "name": "stdout",
     "output_type": "stream",
     "text": [
      "Using local copy of pc2.csv\n"
     ]
    }
   ],
   "source": [
    "filename = \"pc2.csv\"\n",
    "target = f\"{ROOT}/orig/{filename}\"\n",
    "\n",
    "if not os.path.isfile(target):\n",
    "    print (f\"Downloading remote file {filename}\", sep=\"\")\n",
    "    \n",
    "    import urllib.request\n",
    "    urllib.request.urlretrieve(\"https://setu-datamining2.github.io/live/topics/21-Assignments/01-NASA_Software_Defect_Datasets/files/pc2.csv\", target)\n",
    "    \n",
    "    #df = pd.read_csv(\"https://setu-datamining2.github.io/live/topics/21-Assignments/01-NASA_Software_Defect_Datasets/files/pc2.csv\")\n",
    "    \n",
    "else:\n",
    "    df = pd.read_csv(target)\n",
    "    print(f\"Using local copy of {filename}\")        \n"
   ]
  },
  {
   "cell_type": "code",
   "execution_count": 4,
   "id": "5d4caaa4-b33a-4dd1-bb91-ad8ddceaf971",
   "metadata": {},
   "outputs": [
    {
     "name": "stdout",
     "output_type": "stream",
     "text": [
      "(5589, 37)\n"
     ]
    },
    {
     "data": {
      "text/html": [
       "<div>\n",
       "<style scoped>\n",
       "    .dataframe tbody tr th:only-of-type {\n",
       "        vertical-align: middle;\n",
       "    }\n",
       "\n",
       "    .dataframe tbody tr th {\n",
       "        vertical-align: top;\n",
       "    }\n",
       "\n",
       "    .dataframe thead th {\n",
       "        text-align: right;\n",
       "    }\n",
       "</style>\n",
       "<table border=\"1\" class=\"dataframe\">\n",
       "  <thead>\n",
       "    <tr style=\"text-align: right;\">\n",
       "      <th></th>\n",
       "      <th>BRANCH_COUNT</th>\n",
       "      <th>CALL_PAIRS</th>\n",
       "      <th>LOC_CODE_AND_COMMENT</th>\n",
       "      <th>LOC_COMMENTS</th>\n",
       "      <th>CONDITION_COUNT</th>\n",
       "      <th>CYCLOMATIC_COMPLEXITY</th>\n",
       "      <th>CYCLOMATIC_DENSITY</th>\n",
       "      <th>DECISION_COUNT</th>\n",
       "      <th>DECISION_DENSITY</th>\n",
       "      <th>DESIGN_COMPLEXITY</th>\n",
       "      <th>DESIGN_DENSITY</th>\n",
       "      <th>EDGE_COUNT</th>\n",
       "      <th>ESSENTIAL_COMPLEXITY</th>\n",
       "      <th>ESSENTIAL_DENSITY</th>\n",
       "      <th>LOC_EXECUTABLE</th>\n",
       "      <th>PARAMETER_COUNT</th>\n",
       "      <th>HALSTEAD_CONTENT</th>\n",
       "      <th>HALSTEAD_DIFFICULTY</th>\n",
       "      <th>HALSTEAD_EFFORT</th>\n",
       "      <th>HALSTEAD_ERROR_EST</th>\n",
       "      <th>HALSTEAD_LENGTH</th>\n",
       "      <th>HALSTEAD_LEVEL</th>\n",
       "      <th>HALSTEAD_PROG_TIME</th>\n",
       "      <th>HALSTEAD_VOLUME</th>\n",
       "      <th>MAINTENANCE_SEVERITY</th>\n",
       "      <th>MODIFIED_CONDITION_COUNT</th>\n",
       "      <th>MULTIPLE_CONDITION_COUNT</th>\n",
       "      <th>NODE_COUNT</th>\n",
       "      <th>NORMALIZED_CYLOMATIC_COMPLEXITY</th>\n",
       "      <th>NUM_OPERANDS</th>\n",
       "      <th>NUM_OPERATORS</th>\n",
       "      <th>NUM_UNIQUE_OPERANDS</th>\n",
       "      <th>NUM_UNIQUE_OPERATORS</th>\n",
       "      <th>NUMBER_OF_LINES</th>\n",
       "      <th>PERCENT_COMMENTS</th>\n",
       "      <th>LOC_TOTAL</th>\n",
       "      <th>defects</th>\n",
       "    </tr>\n",
       "  </thead>\n",
       "  <tbody>\n",
       "    <tr>\n",
       "      <th>0</th>\n",
       "      <td>1.0</td>\n",
       "      <td>0.0</td>\n",
       "      <td>0.0</td>\n",
       "      <td>0.0</td>\n",
       "      <td>0.0</td>\n",
       "      <td>1.0</td>\n",
       "      <td>1.00</td>\n",
       "      <td>0.0</td>\n",
       "      <td>0.0</td>\n",
       "      <td>1.0</td>\n",
       "      <td>1.0</td>\n",
       "      <td>1.0</td>\n",
       "      <td>1.0</td>\n",
       "      <td>0.0</td>\n",
       "      <td>0.0</td>\n",
       "      <td>2.0</td>\n",
       "      <td>5.33</td>\n",
       "      <td>1.50</td>\n",
       "      <td>12.00</td>\n",
       "      <td>0.00</td>\n",
       "      <td>4.0</td>\n",
       "      <td>0.67</td>\n",
       "      <td>0.67</td>\n",
       "      <td>8.00</td>\n",
       "      <td>1.0</td>\n",
       "      <td>0.0</td>\n",
       "      <td>0.0</td>\n",
       "      <td>2.0</td>\n",
       "      <td>0.50</td>\n",
       "      <td>1.0</td>\n",
       "      <td>3.0</td>\n",
       "      <td>1.0</td>\n",
       "      <td>3.0</td>\n",
       "      <td>2.0</td>\n",
       "      <td>0.00</td>\n",
       "      <td>0.0</td>\n",
       "      <td>False</td>\n",
       "    </tr>\n",
       "    <tr>\n",
       "      <th>1</th>\n",
       "      <td>1.0</td>\n",
       "      <td>1.0</td>\n",
       "      <td>0.0</td>\n",
       "      <td>0.0</td>\n",
       "      <td>0.0</td>\n",
       "      <td>1.0</td>\n",
       "      <td>1.00</td>\n",
       "      <td>0.0</td>\n",
       "      <td>0.0</td>\n",
       "      <td>1.0</td>\n",
       "      <td>1.0</td>\n",
       "      <td>2.0</td>\n",
       "      <td>1.0</td>\n",
       "      <td>0.0</td>\n",
       "      <td>0.0</td>\n",
       "      <td>1.0</td>\n",
       "      <td>0.00</td>\n",
       "      <td>0.00</td>\n",
       "      <td>0.00</td>\n",
       "      <td>0.00</td>\n",
       "      <td>1.0</td>\n",
       "      <td>0.00</td>\n",
       "      <td>0.00</td>\n",
       "      <td>0.00</td>\n",
       "      <td>1.0</td>\n",
       "      <td>0.0</td>\n",
       "      <td>0.0</td>\n",
       "      <td>3.0</td>\n",
       "      <td>1.00</td>\n",
       "      <td>1.0</td>\n",
       "      <td>0.0</td>\n",
       "      <td>1.0</td>\n",
       "      <td>0.0</td>\n",
       "      <td>1.0</td>\n",
       "      <td>0.00</td>\n",
       "      <td>0.0</td>\n",
       "      <td>False</td>\n",
       "    </tr>\n",
       "    <tr>\n",
       "      <th>2</th>\n",
       "      <td>1.0</td>\n",
       "      <td>4.0</td>\n",
       "      <td>7.0</td>\n",
       "      <td>24.0</td>\n",
       "      <td>0.0</td>\n",
       "      <td>1.0</td>\n",
       "      <td>0.13</td>\n",
       "      <td>0.0</td>\n",
       "      <td>0.0</td>\n",
       "      <td>1.0</td>\n",
       "      <td>1.0</td>\n",
       "      <td>6.0</td>\n",
       "      <td>1.0</td>\n",
       "      <td>0.0</td>\n",
       "      <td>1.0</td>\n",
       "      <td>0.0</td>\n",
       "      <td>17.88</td>\n",
       "      <td>7.43</td>\n",
       "      <td>986.77</td>\n",
       "      <td>0.04</td>\n",
       "      <td>34.0</td>\n",
       "      <td>0.13</td>\n",
       "      <td>54.82</td>\n",
       "      <td>132.83</td>\n",
       "      <td>1.0</td>\n",
       "      <td>0.0</td>\n",
       "      <td>0.0</td>\n",
       "      <td>7.0</td>\n",
       "      <td>0.03</td>\n",
       "      <td>13.0</td>\n",
       "      <td>21.0</td>\n",
       "      <td>7.0</td>\n",
       "      <td>8.0</td>\n",
       "      <td>34.0</td>\n",
       "      <td>96.88</td>\n",
       "      <td>8.0</td>\n",
       "      <td>False</td>\n",
       "    </tr>\n",
       "    <tr>\n",
       "      <th>3</th>\n",
       "      <td>1.0</td>\n",
       "      <td>1.0</td>\n",
       "      <td>11.0</td>\n",
       "      <td>3.0</td>\n",
       "      <td>0.0</td>\n",
       "      <td>1.0</td>\n",
       "      <td>0.08</td>\n",
       "      <td>0.0</td>\n",
       "      <td>0.0</td>\n",
       "      <td>1.0</td>\n",
       "      <td>1.0</td>\n",
       "      <td>2.0</td>\n",
       "      <td>1.0</td>\n",
       "      <td>0.0</td>\n",
       "      <td>1.0</td>\n",
       "      <td>0.0</td>\n",
       "      <td>42.62</td>\n",
       "      <td>7.81</td>\n",
       "      <td>2598.31</td>\n",
       "      <td>0.11</td>\n",
       "      <td>77.0</td>\n",
       "      <td>0.13</td>\n",
       "      <td>144.35</td>\n",
       "      <td>332.79</td>\n",
       "      <td>1.0</td>\n",
       "      <td>0.0</td>\n",
       "      <td>0.0</td>\n",
       "      <td>3.0</td>\n",
       "      <td>0.06</td>\n",
       "      <td>29.0</td>\n",
       "      <td>48.0</td>\n",
       "      <td>13.0</td>\n",
       "      <td>7.0</td>\n",
       "      <td>17.0</td>\n",
       "      <td>93.33</td>\n",
       "      <td>12.0</td>\n",
       "      <td>False</td>\n",
       "    </tr>\n",
       "    <tr>\n",
       "      <th>4</th>\n",
       "      <td>1.0</td>\n",
       "      <td>1.0</td>\n",
       "      <td>0.0</td>\n",
       "      <td>0.0</td>\n",
       "      <td>0.0</td>\n",
       "      <td>1.0</td>\n",
       "      <td>1.00</td>\n",
       "      <td>0.0</td>\n",
       "      <td>0.0</td>\n",
       "      <td>1.0</td>\n",
       "      <td>1.0</td>\n",
       "      <td>2.0</td>\n",
       "      <td>1.0</td>\n",
       "      <td>0.0</td>\n",
       "      <td>1.0</td>\n",
       "      <td>3.0</td>\n",
       "      <td>33.44</td>\n",
       "      <td>0.63</td>\n",
       "      <td>13.06</td>\n",
       "      <td>0.01</td>\n",
       "      <td>9.0</td>\n",
       "      <td>1.60</td>\n",
       "      <td>0.73</td>\n",
       "      <td>20.90</td>\n",
       "      <td>1.0</td>\n",
       "      <td>0.0</td>\n",
       "      <td>0.0</td>\n",
       "      <td>3.0</td>\n",
       "      <td>0.33</td>\n",
       "      <td>5.0</td>\n",
       "      <td>4.0</td>\n",
       "      <td>4.0</td>\n",
       "      <td>1.0</td>\n",
       "      <td>3.0</td>\n",
       "      <td>0.00</td>\n",
       "      <td>1.0</td>\n",
       "      <td>False</td>\n",
       "    </tr>\n",
       "  </tbody>\n",
       "</table>\n",
       "</div>"
      ],
      "text/plain": [
       "   BRANCH_COUNT  CALL_PAIRS  LOC_CODE_AND_COMMENT  LOC_COMMENTS  \\\n",
       "0           1.0         0.0                   0.0           0.0   \n",
       "1           1.0         1.0                   0.0           0.0   \n",
       "2           1.0         4.0                   7.0          24.0   \n",
       "3           1.0         1.0                  11.0           3.0   \n",
       "4           1.0         1.0                   0.0           0.0   \n",
       "\n",
       "   CONDITION_COUNT  CYCLOMATIC_COMPLEXITY  CYCLOMATIC_DENSITY  DECISION_COUNT  \\\n",
       "0              0.0                    1.0                1.00             0.0   \n",
       "1              0.0                    1.0                1.00             0.0   \n",
       "2              0.0                    1.0                0.13             0.0   \n",
       "3              0.0                    1.0                0.08             0.0   \n",
       "4              0.0                    1.0                1.00             0.0   \n",
       "\n",
       "   DECISION_DENSITY  DESIGN_COMPLEXITY  DESIGN_DENSITY  EDGE_COUNT  \\\n",
       "0               0.0                1.0             1.0         1.0   \n",
       "1               0.0                1.0             1.0         2.0   \n",
       "2               0.0                1.0             1.0         6.0   \n",
       "3               0.0                1.0             1.0         2.0   \n",
       "4               0.0                1.0             1.0         2.0   \n",
       "\n",
       "   ESSENTIAL_COMPLEXITY  ESSENTIAL_DENSITY  LOC_EXECUTABLE  PARAMETER_COUNT  \\\n",
       "0                   1.0                0.0             0.0              2.0   \n",
       "1                   1.0                0.0             0.0              1.0   \n",
       "2                   1.0                0.0             1.0              0.0   \n",
       "3                   1.0                0.0             1.0              0.0   \n",
       "4                   1.0                0.0             1.0              3.0   \n",
       "\n",
       "   HALSTEAD_CONTENT  HALSTEAD_DIFFICULTY  HALSTEAD_EFFORT  HALSTEAD_ERROR_EST  \\\n",
       "0              5.33                 1.50            12.00                0.00   \n",
       "1              0.00                 0.00             0.00                0.00   \n",
       "2             17.88                 7.43           986.77                0.04   \n",
       "3             42.62                 7.81          2598.31                0.11   \n",
       "4             33.44                 0.63            13.06                0.01   \n",
       "\n",
       "   HALSTEAD_LENGTH  HALSTEAD_LEVEL  HALSTEAD_PROG_TIME  HALSTEAD_VOLUME  \\\n",
       "0              4.0            0.67                0.67             8.00   \n",
       "1              1.0            0.00                0.00             0.00   \n",
       "2             34.0            0.13               54.82           132.83   \n",
       "3             77.0            0.13              144.35           332.79   \n",
       "4              9.0            1.60                0.73            20.90   \n",
       "\n",
       "   MAINTENANCE_SEVERITY  MODIFIED_CONDITION_COUNT  MULTIPLE_CONDITION_COUNT  \\\n",
       "0                   1.0                       0.0                       0.0   \n",
       "1                   1.0                       0.0                       0.0   \n",
       "2                   1.0                       0.0                       0.0   \n",
       "3                   1.0                       0.0                       0.0   \n",
       "4                   1.0                       0.0                       0.0   \n",
       "\n",
       "   NODE_COUNT  NORMALIZED_CYLOMATIC_COMPLEXITY  NUM_OPERANDS  NUM_OPERATORS  \\\n",
       "0         2.0                             0.50           1.0            3.0   \n",
       "1         3.0                             1.00           1.0            0.0   \n",
       "2         7.0                             0.03          13.0           21.0   \n",
       "3         3.0                             0.06          29.0           48.0   \n",
       "4         3.0                             0.33           5.0            4.0   \n",
       "\n",
       "   NUM_UNIQUE_OPERANDS  NUM_UNIQUE_OPERATORS  NUMBER_OF_LINES  \\\n",
       "0                  1.0                   3.0              2.0   \n",
       "1                  1.0                   0.0              1.0   \n",
       "2                  7.0                   8.0             34.0   \n",
       "3                 13.0                   7.0             17.0   \n",
       "4                  4.0                   1.0              3.0   \n",
       "\n",
       "   PERCENT_COMMENTS  LOC_TOTAL  defects  \n",
       "0              0.00        0.0    False  \n",
       "1              0.00        0.0    False  \n",
       "2             96.88        8.0    False  \n",
       "3             93.33       12.0    False  \n",
       "4              0.00        1.0    False  "
      ]
     },
     "execution_count": 4,
     "metadata": {},
     "output_type": "execute_result"
    }
   ],
   "source": [
    "df = pd.read_csv(f\"orig/pc2.csv\")\n",
    "print(df.shape)\n",
    "df.head()"
   ]
  },
  {
   "cell_type": "code",
   "execution_count": 5,
   "id": "80e0a8c0-0134-4ef1-9afc-dfa3fe208aa9",
   "metadata": {},
   "outputs": [
    {
     "name": "stdout",
     "output_type": "stream",
     "text": [
      "<class 'pandas.core.frame.DataFrame'>\n",
      "RangeIndex: 5589 entries, 0 to 5588\n",
      "Data columns (total 37 columns):\n",
      " #   Column                           Non-Null Count  Dtype  \n",
      "---  ------                           --------------  -----  \n",
      " 0   BRANCH_COUNT                     5589 non-null   float64\n",
      " 1   CALL_PAIRS                       5589 non-null   float64\n",
      " 2   LOC_CODE_AND_COMMENT             5589 non-null   float64\n",
      " 3   LOC_COMMENTS                     5589 non-null   float64\n",
      " 4   CONDITION_COUNT                  5589 non-null   float64\n",
      " 5   CYCLOMATIC_COMPLEXITY            5589 non-null   float64\n",
      " 6   CYCLOMATIC_DENSITY               5589 non-null   float64\n",
      " 7   DECISION_COUNT                   5589 non-null   float64\n",
      " 8   DECISION_DENSITY                 5589 non-null   float64\n",
      " 9   DESIGN_COMPLEXITY                5589 non-null   float64\n",
      " 10  DESIGN_DENSITY                   5589 non-null   float64\n",
      " 11  EDGE_COUNT                       5589 non-null   float64\n",
      " 12  ESSENTIAL_COMPLEXITY             5589 non-null   float64\n",
      " 13  ESSENTIAL_DENSITY                5589 non-null   float64\n",
      " 14  LOC_EXECUTABLE                   5589 non-null   float64\n",
      " 15  PARAMETER_COUNT                  5589 non-null   float64\n",
      " 16  HALSTEAD_CONTENT                 5589 non-null   float64\n",
      " 17  HALSTEAD_DIFFICULTY              5589 non-null   float64\n",
      " 18  HALSTEAD_EFFORT                  5589 non-null   float64\n",
      " 19  HALSTEAD_ERROR_EST               5589 non-null   float64\n",
      " 20  HALSTEAD_LENGTH                  5589 non-null   float64\n",
      " 21  HALSTEAD_LEVEL                   5589 non-null   float64\n",
      " 22  HALSTEAD_PROG_TIME               5589 non-null   float64\n",
      " 23  HALSTEAD_VOLUME                  5589 non-null   float64\n",
      " 24  MAINTENANCE_SEVERITY             5589 non-null   float64\n",
      " 25  MODIFIED_CONDITION_COUNT         5589 non-null   float64\n",
      " 26  MULTIPLE_CONDITION_COUNT         5589 non-null   float64\n",
      " 27  NODE_COUNT                       5589 non-null   float64\n",
      " 28  NORMALIZED_CYLOMATIC_COMPLEXITY  5589 non-null   float64\n",
      " 29  NUM_OPERANDS                     5589 non-null   float64\n",
      " 30  NUM_OPERATORS                    5589 non-null   float64\n",
      " 31  NUM_UNIQUE_OPERANDS              5589 non-null   float64\n",
      " 32  NUM_UNIQUE_OPERATORS             5589 non-null   float64\n",
      " 33  NUMBER_OF_LINES                  5589 non-null   float64\n",
      " 34  PERCENT_COMMENTS                 5589 non-null   float64\n",
      " 35  LOC_TOTAL                        5589 non-null   float64\n",
      " 36  defects                          5589 non-null   bool   \n",
      "dtypes: bool(1), float64(36)\n",
      "memory usage: 1.5 MB\n"
     ]
    }
   ],
   "source": [
    "df.info()"
   ]
  },
  {
   "cell_type": "code",
   "execution_count": 6,
   "id": "a0c68011-317e-4ccf-b503-9635dc7d32f4",
   "metadata": {},
   "outputs": [
    {
     "name": "stdout",
     "output_type": "stream",
     "text": [
      "Number of cases :  5589\n",
      "Number of features :  37\n"
     ]
    }
   ],
   "source": [
    "\n",
    "print(\"Number of cases : \", df.shape[0])\n",
    "print(\"Number of features : \", df.shape[1])\n"
   ]
  },
  {
   "cell_type": "markdown",
   "id": "3c68d758-7c23-4d54-9212-bf2ab77a691e",
   "metadata": {},
   "source": [
    "## Summary statistics \n",
    " - mathcing data on table 1\n",
    " \n",
    "    -number of cases = 5589\n",
    "    -number of features = 37\n",
    "    \n",
    "- all statistics are in agree,emt with paper"
   ]
  },
  {
   "cell_type": "code",
   "execution_count": 7,
   "id": "7022c189-75bf-4929-8a8a-9a175fdfdd16",
   "metadata": {},
   "outputs": [],
   "source": [
    "#table_case_count = lambda df: df.shape[0]\n",
    "#table_feature_count = lambda df: df.shape[1]\n",
    "\n",
    "\n",
    "#messages = []\n",
    "#for m, expected, observed in [\n",
    "#    \"Number of cases:\", 5589, table_case_count,\n",
    "#    \"Number of features:\", 37, table_feature_count,\n",
    "#    ]:\n",
    "#    result = \"PASS\" if expected==observed else \"FAIL\"\n",
    "#    message.append(f\" * {m} {expected=} {observed=} {result}\")\n",
    "#    \n",
    "#display(Markdown(\"\\n\".join(messages)))"
   ]
  },
  {
   "cell_type": "markdown",
   "id": "9ae96e6d-9445-46e8-a652-f04663001711",
   "metadata": {},
   "source": [
    "## Table 1 - Comparison of versions"
   ]
  },
  {
   "cell_type": "code",
   "execution_count": 8,
   "id": "ac416e8e-5753-47d9-a000-4eb9ea2bb871",
   "metadata": {},
   "outputs": [
    {
     "data": {
      "text/html": [
       "<div>\n",
       "<style scoped>\n",
       "    .dataframe tbody tr th:only-of-type {\n",
       "        vertical-align: middle;\n",
       "    }\n",
       "\n",
       "    .dataframe tbody tr th {\n",
       "        vertical-align: top;\n",
       "    }\n",
       "\n",
       "    .dataframe thead th {\n",
       "        text-align: right;\n",
       "    }\n",
       "</style>\n",
       "<table border=\"1\" class=\"dataframe\">\n",
       "  <thead>\n",
       "    <tr style=\"text-align: right;\">\n",
       "      <th></th>\n",
       "      <th>Description</th>\n",
       "      <th>Expected</th>\n",
       "      <th>Observed</th>\n",
       "      <th>Result</th>\n",
       "    </tr>\n",
       "  </thead>\n",
       "  <tbody>\n",
       "    <tr>\n",
       "      <th>0</th>\n",
       "      <td>Number of cases:</td>\n",
       "      <td>5589</td>\n",
       "      <td>5589</td>\n",
       "      <td>PASS</td>\n",
       "    </tr>\n",
       "    <tr>\n",
       "      <th>1</th>\n",
       "      <td>Number of features:</td>\n",
       "      <td>37</td>\n",
       "      <td>37</td>\n",
       "      <td>PASS</td>\n",
       "    </tr>\n",
       "  </tbody>\n",
       "</table>\n",
       "</div>"
      ],
      "text/plain": [
       "           Description  Expected  Observed Result\n",
       "0     Number of cases:      5589      5589   PASS\n",
       "1  Number of features:        37        37   PASS"
      ]
     },
     "execution_count": 8,
     "metadata": {},
     "output_type": "execute_result"
    }
   ],
   "source": [
    "table_case_count =  df.shape[0]\n",
    "table_feature_count =  df.shape[1]\n",
    "\n",
    "messages = []\n",
    "for m, expected, observed in [\n",
    "    (\"Number of cases:\", 5589, table_case_count),\n",
    "    (\"Number of features:\", 37, table_feature_count),\n",
    "    ]:\n",
    "    result = \"PASS\" if expected==observed else \"FAIL\"\n",
    "    messages.append([m, expected , observed, result])\n",
    "                   \n",
    "df_results = pd.DataFrame(messages, columns = [\"Description\", \"Expected\", \"Observed\", \"Result\"])\n",
    "df_results"
   ]
  },
  {
   "cell_type": "markdown",
   "id": "f15171a6-6816-4d58-a9b1-b42fe20dee57",
   "metadata": {
    "tags": [],
    "toc-hr-collapsed": true
   },
   "source": [
    "## Table 2 - Issues by features"
   ]
  },
  {
   "cell_type": "markdown",
   "id": "17e784ec-09ab-4339-8662-b8d314808233",
   "metadata": {},
   "source": [
    "### Identical Features"
   ]
  },
  {
   "cell_type": "code",
   "execution_count": 9,
   "id": "63957c77-5ec3-4015-9a33-a78884de8746",
   "metadata": {},
   "outputs": [],
   "source": [
    "table_2_A = lambda df : df.T.duplicated().sum()"
   ]
  },
  {
   "cell_type": "code",
   "execution_count": 10,
   "id": "78ea57f7-b371-49f2-b6a5-7fc5c7ce9b13",
   "metadata": {},
   "outputs": [
    {
     "data": {
      "text/html": [
       "<div>\n",
       "<style scoped>\n",
       "    .dataframe tbody tr th:only-of-type {\n",
       "        vertical-align: middle;\n",
       "    }\n",
       "\n",
       "    .dataframe tbody tr th {\n",
       "        vertical-align: top;\n",
       "    }\n",
       "\n",
       "    .dataframe thead th {\n",
       "        text-align: right;\n",
       "    }\n",
       "</style>\n",
       "<table border=\"1\" class=\"dataframe\">\n",
       "  <thead>\n",
       "    <tr style=\"text-align: right;\">\n",
       "      <th></th>\n",
       "      <th>Desription</th>\n",
       "      <th>Expected</th>\n",
       "      <th>Observed</th>\n",
       "      <th>Result</th>\n",
       "    </tr>\n",
       "  </thead>\n",
       "  <tbody>\n",
       "    <tr>\n",
       "      <th>0</th>\n",
       "      <td>Identical Features:</td>\n",
       "      <td>0</td>\n",
       "      <td>0</td>\n",
       "      <td>True</td>\n",
       "    </tr>\n",
       "  </tbody>\n",
       "</table>\n",
       "</div>"
      ],
      "text/plain": [
       "            Desription  Expected  Observed  Result\n",
       "0  Identical Features:         0         0    True"
      ]
     },
     "execution_count": 10,
     "metadata": {},
     "output_type": "execute_result"
    }
   ],
   "source": [
    "messages = []\n",
    "for m, expected, observed in [\n",
    "    (\"Identical Features:\", 0, table_2_A(df)),\n",
    "]:\n",
    "    result = \"PASS\" if expected==observed else \"FAIL\"\n",
    "    messages.append([m,expected ,observed])\n",
    "    \n",
    "df_results = pd.DataFrame(messages, columns = [\"Desription\", \"Expected\", \"Observed\"])    \n",
    "df_results[\"Result\"] = df_results.Expected==df_results.Observed\n",
    "df_results   "
   ]
  },
  {
   "cell_type": "markdown",
   "id": "0034c585-dd37-43f7-be1f-d84a457c4f3e",
   "metadata": {},
   "source": [
    "### Constant Features "
   ]
  },
  {
   "cell_type": "code",
   "execution_count": 11,
   "id": "5d0467f7-1b1c-4b7c-b301-3ed3ae259cf0",
   "metadata": {},
   "outputs": [],
   "source": [
    "table_2_B = lambda df : df.nunique()[df.nunique() == 1].shape[0]"
   ]
  },
  {
   "cell_type": "code",
   "execution_count": 12,
   "id": "97567c12-9bbd-4ea7-9afe-0b3648afd9be",
   "metadata": {},
   "outputs": [
    {
     "data": {
      "text/html": [
       "<div>\n",
       "<style scoped>\n",
       "    .dataframe tbody tr th:only-of-type {\n",
       "        vertical-align: middle;\n",
       "    }\n",
       "\n",
       "    .dataframe tbody tr th {\n",
       "        vertical-align: top;\n",
       "    }\n",
       "\n",
       "    .dataframe thead th {\n",
       "        text-align: right;\n",
       "    }\n",
       "</style>\n",
       "<table border=\"1\" class=\"dataframe\">\n",
       "  <thead>\n",
       "    <tr style=\"text-align: right;\">\n",
       "      <th></th>\n",
       "      <th>Desription</th>\n",
       "      <th>Expected</th>\n",
       "      <th>Observed</th>\n",
       "      <th>Result</th>\n",
       "    </tr>\n",
       "  </thead>\n",
       "  <tbody>\n",
       "    <tr>\n",
       "      <th>0</th>\n",
       "      <td>Constant Features:</td>\n",
       "      <td>0</td>\n",
       "      <td>0</td>\n",
       "      <td>True</td>\n",
       "    </tr>\n",
       "  </tbody>\n",
       "</table>\n",
       "</div>"
      ],
      "text/plain": [
       "           Desription  Expected  Observed  Result\n",
       "0  Constant Features:         0         0    True"
      ]
     },
     "execution_count": 12,
     "metadata": {},
     "output_type": "execute_result"
    }
   ],
   "source": [
    "messages = []\n",
    "for m, expected, observed in [\n",
    "    (\"Constant Features:\", 0, table_2_B(df)),\n",
    "]:\n",
    "    result = \"PASS\" if expected==observed else \"FAIL\"\n",
    "    messages.append([m,expected ,observed])\n",
    "    \n",
    "df_results = pd.DataFrame(messages, columns = [\"Desription\", \"Expected\", \"Observed\"])    \n",
    "df_results[\"Result\"] = df_results.Expected==df_results.Observed\n",
    "df_results"
   ]
  },
  {
   "cell_type": "markdown",
   "id": "2f46ae3d-56a4-4650-b850-824e668c8867",
   "metadata": {},
   "source": [
    "### Features with missing values"
   ]
  },
  {
   "cell_type": "code",
   "execution_count": 13,
   "id": "25084ef4-ee71-4fcc-ad9c-345a2664dbb2",
   "metadata": {},
   "outputs": [],
   "source": [
    "table_2_C =  lambda df: df.isna().sum().sum()"
   ]
  },
  {
   "cell_type": "code",
   "execution_count": 14,
   "id": "62c08f94-6081-4836-85bd-a38d8b5541d3",
   "metadata": {},
   "outputs": [
    {
     "data": {
      "text/html": [
       "<div>\n",
       "<style scoped>\n",
       "    .dataframe tbody tr th:only-of-type {\n",
       "        vertical-align: middle;\n",
       "    }\n",
       "\n",
       "    .dataframe tbody tr th {\n",
       "        vertical-align: top;\n",
       "    }\n",
       "\n",
       "    .dataframe thead th {\n",
       "        text-align: right;\n",
       "    }\n",
       "</style>\n",
       "<table border=\"1\" class=\"dataframe\">\n",
       "  <thead>\n",
       "    <tr style=\"text-align: right;\">\n",
       "      <th></th>\n",
       "      <th>Desription</th>\n",
       "      <th>Expected</th>\n",
       "      <th>Observed</th>\n",
       "      <th>Result</th>\n",
       "    </tr>\n",
       "  </thead>\n",
       "  <tbody>\n",
       "    <tr>\n",
       "      <th>0</th>\n",
       "      <td>Features with missing values:</td>\n",
       "      <td>0</td>\n",
       "      <td>0</td>\n",
       "      <td>True</td>\n",
       "    </tr>\n",
       "  </tbody>\n",
       "</table>\n",
       "</div>"
      ],
      "text/plain": [
       "                      Desription  Expected  Observed  Result\n",
       "0  Features with missing values:         0         0    True"
      ]
     },
     "execution_count": 14,
     "metadata": {},
     "output_type": "execute_result"
    }
   ],
   "source": [
    "messages = []\n",
    "for m, expected, observed in [\n",
    "    (\"Features with missing values:\", 0, table_2_C(df)),\n",
    "]:\n",
    "    result = \"PASS\" if expected==observed else \"FAIL\"\n",
    "    messages.append([m,expected ,observed])\n",
    "    \n",
    "df_results = pd.DataFrame(messages, columns = [\"Desription\", \"Expected\", \"Observed\"])    \n",
    "df_results[\"Result\"] = df_results.Expected==df_results.Observed\n",
    "df_results"
   ]
  },
  {
   "cell_type": "markdown",
   "id": "2c69e664-9ff5-4e45-8669-21217a65eb7f",
   "metadata": {},
   "source": [
    "### Features with conflicting values"
   ]
  },
  {
   "cell_type": "code",
   "execution_count": 15,
   "id": "8c4e1938-6dc3-452c-95ad-947a24bdfdc0",
   "metadata": {},
   "outputs": [],
   "source": [
    "check1 = df.query('NUMBER_OF_LINES < LOC_TOTAL')\n",
    "#check2 = df.query('NUMBER_OF_LINES >= LOC_BLANK')\n",
    "check3 = df.query('NUMBER_OF_LINES < LOC_CODE_AND_COMMENT')\n",
    "check4 = df.query('NUMBER_OF_LINES < LOC_COMMENTS')\n",
    "check5 = df.query('NUMBER_OF_LINES < LOC_EXECUTABLE')\n",
    "check6 = df.query('LOC_TOTAL < LOC_EXECUTABLE')\n",
    "check7 = df.query('LOC_TOTAL < LOC_CODE_AND_COMMENT')\n",
    "check8 = df.query('NUM_OPERANDS < NUM_UNIQUE_OPERANDS')\n",
    "check9 = df.query('NUM_OPERATORS < NUM_UNIQUE_OPERATORS')\n",
    "check10 = df.query('HALSTEAD_LENGTH != NUM_OPERATORS + NUM_OPERANDS')\n",
    "check11 = df.query('CYCLOMATIC_COMPLEXITY > NUM_OPERATORS + 1')\n",
    "check12 = df.query('CALL_PAIRS > NUM_OPERATORS')\n",
    "#check13 = df.query('HALSTEAD_VOLUME != (NUM_OPERATORS + NUM_OPERANDS) * (np.log2(NUM_UNIQUE_OPERATORS + NUM_UNIQUE_OPERANDS))')\n",
    "#check14 = df.query('HALSTEAD_LEVEL != (2/NUM_UNIQUE_OPERATORS) * (NUM_UNIQUE_OPERANDS/NUM_OPERANDS)')\n",
    "#check15 = df.query('HALSTEAD_DIFFICULTY != (NUM_UNIQUE_OPERATORS/2) * (NUM_OPERANDS/NUM_UNIQUE_OPERANDS)')\n",
    "#check16 = df.query('HALSTEAD_CONTENT != HALSTEAD_VOLUME/HALSTEAD_DIFFICULTY')\n",
    "#check17 = df.query('HALSTEAD_EFFORT != HALSTEAD_VOLUME * HALSTEAD_DIFFICULTY')\n",
    "#check18 = df.query('HALSTEAD_PROG_TIME != HALSTEAD_EFFORT/18')"
   ]
  },
  {
   "cell_type": "code",
   "execution_count": 16,
   "id": "0f52b790-a5d9-465b-99d0-2c436c06898d",
   "metadata": {},
   "outputs": [
    {
     "name": "stdout",
     "output_type": "stream",
     "text": [
      "['CALL_PAIRS', 'NUM_OPERATORS']\n"
     ]
    }
   ],
   "source": [
    "columns_with_fails = []\n",
    "\n",
    "# Check condition in check1\n",
    "if check1.shape[0] > 1:\n",
    "    columns_with_fails.extend(['NUMBER_OF_LINES', 'LOC_TOTAL'])\n",
    "\n",
    "# Check condition in check3\n",
    "if check3.shape[0] > 1:\n",
    "    columns_with_fails.extend(['NUMBER_OF_LINES', 'LOC_CODE_AND_COMMENT'])\n",
    "\n",
    "# Check condition in check4\n",
    "if check4.shape[0] > 1:\n",
    "    columns_with_fails.extend(['NUMBER_OF_LINES', 'LOC_COMMENTS'])\n",
    "\n",
    "# Check condition in check5\n",
    "if check5.shape[0] > 1:\n",
    "    columns_with_fails.extend(['NUMBER_OF_LINES', 'LOC_EXECUTABLE'])\n",
    "\n",
    "# Check condition in check6\n",
    "if check6.shape[0] > 1:\n",
    "    columns_with_fails.extend(['LOC_TOTAL', 'LOC_EXECUTABLE'])\n",
    "\n",
    "# Check condition in check7\n",
    "if check7.shape[0] > 1:\n",
    "    columns_with_fails.extend(['LOC_TOTAL', 'LOC_CODE_AND_COMMENT'])\n",
    "\n",
    "# Check condition in check8\n",
    "if check8.shape[0] > 1:\n",
    "    columns_with_fails.extend(['NUM_OPERANDS', 'NUM_UNIQUE_OPERANDS'])\n",
    "\n",
    "# Check condition in check9\n",
    "if check9.shape[0] > 1:\n",
    "    columns_with_fails.extend(['NUM_OPERATORS', 'NUM_UNIQUE_OPERATORS'])\n",
    "\n",
    "# Check condition in check10\n",
    "if check10.shape[0] > 1:\n",
    "    columns_with_fails.extend(['HALSTEAD_LENGTH', 'NUM_OPERATORS', 'NUM_OPERANDS'])\n",
    "\n",
    "# Check condition in check11\n",
    "if check11.shape[0] > 1:\n",
    "    columns_with_fails.extend(['CYCLOMATIC_COMPLEXITY', 'NUM_OPERATORS'])\n",
    "\n",
    "# Check condition in check12\n",
    "if check12.shape[0] > 1:\n",
    "    columns_with_fails.extend(['CALL_PAIRS', 'NUM_OPERATORS'])\n",
    "\n",
    "columns_with_fails = list(set(columns_with_fails))\n",
    "\n",
    "print(columns_with_fails)"
   ]
  },
  {
   "cell_type": "code",
   "execution_count": 17,
   "id": "3d815ab4-ad29-4c7c-9c47-7daec3a25649",
   "metadata": {},
   "outputs": [
    {
     "data": {
      "text/html": [
       "<div>\n",
       "<style scoped>\n",
       "    .dataframe tbody tr th:only-of-type {\n",
       "        vertical-align: middle;\n",
       "    }\n",
       "\n",
       "    .dataframe tbody tr th {\n",
       "        vertical-align: top;\n",
       "    }\n",
       "\n",
       "    .dataframe thead th {\n",
       "        text-align: right;\n",
       "    }\n",
       "</style>\n",
       "<table border=\"1\" class=\"dataframe\">\n",
       "  <thead>\n",
       "    <tr style=\"text-align: right;\">\n",
       "      <th></th>\n",
       "      <th>Desription</th>\n",
       "      <th>Expected</th>\n",
       "      <th>Observed</th>\n",
       "      <th>Result</th>\n",
       "    </tr>\n",
       "  </thead>\n",
       "  <tbody>\n",
       "    <tr>\n",
       "      <th>0</th>\n",
       "      <td>Features with conflicting values:</td>\n",
       "      <td>2</td>\n",
       "      <td>2</td>\n",
       "      <td>True</td>\n",
       "    </tr>\n",
       "  </tbody>\n",
       "</table>\n",
       "</div>"
      ],
      "text/plain": [
       "                          Desription  Expected  Observed  Result\n",
       "0  Features with conflicting values:         2         2    True"
      ]
     },
     "execution_count": 17,
     "metadata": {},
     "output_type": "execute_result"
    }
   ],
   "source": [
    "table_2_D=len(columns_with_fails)\n",
    "\n",
    "messages = []\n",
    "for m, expected, observed in [\n",
    "    (\"Features with conflicting values:\", 2, table_2_D),\n",
    "]:\n",
    "    result = \"PASS\" if expected==observed else \"FAIL\"\n",
    "    messages.append([m,expected ,observed])\n",
    "    \n",
    "df_results = pd.DataFrame(messages, columns = [\"Desription\", \"Expected\", \"Observed\"])    \n",
    "df_results[\"Result\"] = df_results.Expected==df_results.Observed\n",
    "df_results"
   ]
  },
  {
   "cell_type": "markdown",
   "id": "287fd7ba-90de-465a-b013-040d495ae3ed",
   "metadata": {},
   "source": [
    "#### Comments\n",
    " - Integrity check 2 fails as dataframe doesnt have LOC_BLANK column therefore check 2 was ignored for this run\n",
    " - All checks from check12-check18 show that they have conflicticting values\n",
    " - this means that there are possibly 11 conflicting features\n",
    " - this does not match the expected value of 2\n",
    " \n",
    " Note: While progressing through the verification of the data to be cleaned it was discovered that integrity checks 13-18 were likely ommited so to relfect this the checks were commented out to compare the expected and compared values more accurately."
   ]
  },
  {
   "cell_type": "markdown",
   "id": "97b883e5-af5a-4959-bbd3-17b8b5875f89",
   "metadata": {},
   "source": [
    "### Features with implausible values"
   ]
  },
  {
   "cell_type": "code",
   "execution_count": 18,
   "id": "d320ea09-84cd-4ca8-a888-517dd105f301",
   "metadata": {},
   "outputs": [],
   "source": [
    "def count_implausible_columns(df):\n",
    "    total_implausible = 0\n",
    "    implausible_columns = []\n",
    "    \n",
    "    for col in df.columns:\n",
    "        if col not in implausible_columns:\n",
    "            if ((col =='LOC_TOTAL' and (df[col]== 0).any()) or\n",
    "                ((df[col] < 0).any()) or \n",
    "                ('count' in col and df[col].dtype != int)):\n",
    "                    implausible_columns.append(col)\n",
    "                    total_implausible += 1\n",
    "            \n",
    "    return total_implausible,implausible_columns"
   ]
  },
  {
   "cell_type": "code",
   "execution_count": 19,
   "id": "d6947cd8-096f-427e-8256-2ab2652dcc7d",
   "metadata": {},
   "outputs": [
    {
     "name": "stdout",
     "output_type": "stream",
     "text": [
      "                          Desription  Expected  Observed  Result\n",
      "0  Features with implausible values:         1         1    True\n"
     ]
    },
    {
     "data": {
      "text/plain": [
       "['LOC_TOTAL']"
      ]
     },
     "execution_count": 19,
     "metadata": {},
     "output_type": "execute_result"
    }
   ],
   "source": [
    "total_implausible,implausible_columns = count_implausible_columns(df)\n",
    "\n",
    "messages = []\n",
    "for m, expected, observed in [\n",
    "    (\"Features with implausible values:\", 1, total_implausible),\n",
    "]:\n",
    "    result = \"PASS\" if expected==observed else \"FAIL\"\n",
    "    messages.append([m,expected ,observed])\n",
    "    \n",
    "df_results = pd.DataFrame(messages, columns = [\"Desription\", \"Expected\", \"Observed\"])    \n",
    "df_results[\"Result\"] = df_results.Expected==df_results.Observed\n",
    "print(df_results)\n",
    "\n",
    "implausible_columns"
   ]
  },
  {
   "cell_type": "markdown",
   "id": "8936c7ec-c9cb-4dfe-95f7-d30bbe555622",
   "metadata": {},
   "source": [
    "### Total feature problems"
   ]
  },
  {
   "cell_type": "code",
   "execution_count": 20,
   "id": "9995432b-05a5-4be0-98c7-0c9d63d5f9ae",
   "metadata": {},
   "outputs": [
    {
     "data": {
      "text/plain": [
       "3"
      ]
     },
     "execution_count": 20,
     "metadata": {},
     "output_type": "execute_result"
    }
   ],
   "source": [
    "features_before_drop = df.shape[1] \n",
    "\n",
    "df_total_features= df.copy()\n",
    "\n",
    "\n",
    "# Drop features that fail a check\n",
    "for c in columns_with_fails:\n",
    "    df_total_features=df_total_features.drop(columns=c)\n",
    "\n",
    "# Drop features that have implausible values\n",
    "for col in implausible_columns :\n",
    "    if col not in columns_with_fails:\n",
    "        df_total_features=df_total_features.drop(columns=col)\n",
    "\n",
    "total_problem_features = features_before_drop - df_total_features.shape[1]\n",
    "total_problem_features"
   ]
  },
  {
   "cell_type": "code",
   "execution_count": 21,
   "id": "cfe1c7c9-eb69-4631-951a-e970551a0501",
   "metadata": {},
   "outputs": [
    {
     "name": "stdout",
     "output_type": "stream",
     "text": [
      "                    Desription  Expected  Observed  Result\n",
      "0  Total features with issues:         3         3    True\n"
     ]
    }
   ],
   "source": [
    "messages = []\n",
    "for m, expected, observed in [\n",
    "    (\"Total features with issues:\", 3, total_problem_features),\n",
    "]:\n",
    "    result = \"PASS\" if expected==observed else \"FAIL\"\n",
    "    messages.append([m,expected ,observed])\n",
    "    \n",
    "df_results = pd.DataFrame(messages, columns = [\"Desription\", \"Expected\", \"Observed\"])    \n",
    "df_results[\"Result\"] = df_results.Expected==df_results.Observed\n",
    "print(df_results)"
   ]
  },
  {
   "cell_type": "markdown",
   "id": "f777f626-1602-40cd-8ee6-5d83305ff836",
   "metadata": {},
   "source": [
    "#### Comment\n",
    "- The only feature issues found were with integrity checks and implausiblie values\n",
    "- Integrity checks:\n",
    "    - Since checks 12-19 all failed this left us with a list of  11 features with problems [CALL_PAIRS,NUM_OPERATORS,HALSTEAD_LEVEL,NUM_UNIQUE_OPERATORS,NUM_UNIQUE_OPERANDS,NUM_OPERANDS,HALSTEAD_DIFFICULTY,HALSTEAD_CONTENT,HALSTEAD_VOLUME,HALSTEAD_EFFORT,HALSTEAD_PROG_TIME]\n",
    "- Implausible values:\n",
    "    - The only column to fail any of the implausible value checks was LOC_TOTAL\n",
    "    - This means we have a total of 12 feautures with issues\n",
    "    \n",
    "Note: This number decreased to 3 after I decided to use the same apporoach as the tables where only hte first twelve integrity checks were ran which is described in the summmary section below."
   ]
  },
  {
   "cell_type": "markdown",
   "id": "55f34440-0cd3-469a-92f6-fc511cd1265d",
   "metadata": {
    "tags": [],
    "toc-hr-collapsed": true
   },
   "source": [
    "## Table 2 - Issues by cases"
   ]
  },
  {
   "cell_type": "markdown",
   "id": "b702247b-f2a8-4b34-bc9e-138566bdfa2d",
   "metadata": {},
   "source": [
    "### Identical cases"
   ]
  },
  {
   "cell_type": "code",
   "execution_count": 22,
   "id": "ecfd4598-3680-4f73-9ff3-78b58cb8de4f",
   "metadata": {},
   "outputs": [
    {
     "data": {
      "text/plain": [
       "4621"
      ]
     },
     "execution_count": 22,
     "metadata": {},
     "output_type": "execute_result"
    }
   ],
   "source": [
    "table_2_G = sum(df.duplicated(keep=False))\n",
    "table_2_G"
   ]
  },
  {
   "cell_type": "code",
   "execution_count": 23,
   "id": "4f1219af-b916-4547-b959-79e69e40c906",
   "metadata": {},
   "outputs": [
    {
     "data": {
      "text/html": [
       "<div>\n",
       "<style scoped>\n",
       "    .dataframe tbody tr th:only-of-type {\n",
       "        vertical-align: middle;\n",
       "    }\n",
       "\n",
       "    .dataframe tbody tr th {\n",
       "        vertical-align: top;\n",
       "    }\n",
       "\n",
       "    .dataframe thead th {\n",
       "        text-align: right;\n",
       "    }\n",
       "</style>\n",
       "<table border=\"1\" class=\"dataframe\">\n",
       "  <thead>\n",
       "    <tr style=\"text-align: right;\">\n",
       "      <th></th>\n",
       "      <th>Desription</th>\n",
       "      <th>Expected</th>\n",
       "      <th>Observed</th>\n",
       "      <th>Result</th>\n",
       "    </tr>\n",
       "  </thead>\n",
       "  <tbody>\n",
       "    <tr>\n",
       "      <th>0</th>\n",
       "      <td>Identical cases:</td>\n",
       "      <td>4621</td>\n",
       "      <td>4621</td>\n",
       "      <td>True</td>\n",
       "    </tr>\n",
       "  </tbody>\n",
       "</table>\n",
       "</div>"
      ],
      "text/plain": [
       "         Desription  Expected  Observed  Result\n",
       "0  Identical cases:      4621      4621    True"
      ]
     },
     "execution_count": 23,
     "metadata": {},
     "output_type": "execute_result"
    }
   ],
   "source": [
    "messages = []\n",
    "for m, expected, observed in [\n",
    "    (\"Identical cases:\", 4621, table_2_G),\n",
    "]:\n",
    "    result = \"PASS\" if expected==observed else \"FAIL\"\n",
    "    messages.append([m,expected ,observed])\n",
    "    \n",
    "df_results = pd.DataFrame(messages, columns = [\"Desription\", \"Expected\", \"Observed\"])    \n",
    "df_results[\"Result\"] = df_results.Expected==df_results.Observed\n",
    "df_results"
   ]
  },
  {
   "cell_type": "markdown",
   "id": "61502043-7324-4d0c-992a-0a333411456e",
   "metadata": {},
   "source": [
    "#### Comment \n",
    " - have to use following setting to get accurate count Keep=False  as it marks all duplicates as True not just the reoccuring"
   ]
  },
  {
   "cell_type": "markdown",
   "id": "d9174a49-28f2-4e78-86f3-261f9a0b6b7e",
   "metadata": {},
   "source": [
    "### Incosistent cases"
   ]
  },
  {
   "cell_type": "code",
   "execution_count": 24,
   "id": "dca437a6-7064-4f8d-9df5-12869e768a7b",
   "metadata": {},
   "outputs": [],
   "source": [
    "grouped = df.groupby(df.columns[:-1].tolist())\n",
    "table_2_H = grouped.filter(lambda x: len(x['defects'].unique()) > 1)"
   ]
  },
  {
   "cell_type": "code",
   "execution_count": 25,
   "id": "05c4c2a1-2b0d-44e1-b929-a5f469824c2b",
   "metadata": {},
   "outputs": [
    {
     "data": {
      "text/html": [
       "<div>\n",
       "<style scoped>\n",
       "    .dataframe tbody tr th:only-of-type {\n",
       "        vertical-align: middle;\n",
       "    }\n",
       "\n",
       "    .dataframe tbody tr th {\n",
       "        vertical-align: top;\n",
       "    }\n",
       "\n",
       "    .dataframe thead th {\n",
       "        text-align: right;\n",
       "    }\n",
       "</style>\n",
       "<table border=\"1\" class=\"dataframe\">\n",
       "  <thead>\n",
       "    <tr style=\"text-align: right;\">\n",
       "      <th></th>\n",
       "      <th>Desription</th>\n",
       "      <th>Expected</th>\n",
       "      <th>Observed</th>\n",
       "      <th>Result</th>\n",
       "    </tr>\n",
       "  </thead>\n",
       "  <tbody>\n",
       "    <tr>\n",
       "      <th>0</th>\n",
       "      <td>inconsistent  case values:</td>\n",
       "      <td>100</td>\n",
       "      <td>100</td>\n",
       "      <td>True</td>\n",
       "    </tr>\n",
       "  </tbody>\n",
       "</table>\n",
       "</div>"
      ],
      "text/plain": [
       "                   Desription  Expected  Observed  Result\n",
       "0  inconsistent  case values:       100       100    True"
      ]
     },
     "execution_count": 25,
     "metadata": {},
     "output_type": "execute_result"
    }
   ],
   "source": [
    "messages = []\n",
    "for m, expected, observed in [\n",
    "    (\"inconsistent  case values:\", 100, table_2_H.shape[0]),\n",
    "]:\n",
    "    result = \"PASS\" if expected==observed else \"FAIL\"\n",
    "    messages.append([m,expected ,observed])\n",
    "    \n",
    "df_results = pd.DataFrame(messages, columns = [\"Desription\", \"Expected\", \"Observed\"])    \n",
    "df_results[\"Result\"] = df_results.Expected==df_results.Observed\n",
    "df_results"
   ]
  },
  {
   "cell_type": "markdown",
   "id": "2c01b6ec-8ce1-44ea-a46f-1f0fd939719c",
   "metadata": {},
   "source": [
    "### Cases with missing values"
   ]
  },
  {
   "cell_type": "code",
   "execution_count": 26,
   "id": "250735e3-3ac0-487f-acdf-df24cd53df2e",
   "metadata": {},
   "outputs": [],
   "source": [
    "table_2_I = df.isnull().any(axis=1).sum()"
   ]
  },
  {
   "cell_type": "code",
   "execution_count": 27,
   "id": "2c1d671a-3a71-4f55-b7cd-48bff5ad284b",
   "metadata": {},
   "outputs": [
    {
     "data": {
      "text/html": [
       "<div>\n",
       "<style scoped>\n",
       "    .dataframe tbody tr th:only-of-type {\n",
       "        vertical-align: middle;\n",
       "    }\n",
       "\n",
       "    .dataframe tbody tr th {\n",
       "        vertical-align: top;\n",
       "    }\n",
       "\n",
       "    .dataframe thead th {\n",
       "        text-align: right;\n",
       "    }\n",
       "</style>\n",
       "<table border=\"1\" class=\"dataframe\">\n",
       "  <thead>\n",
       "    <tr style=\"text-align: right;\">\n",
       "      <th></th>\n",
       "      <th>Desription</th>\n",
       "      <th>Expected</th>\n",
       "      <th>Observed</th>\n",
       "      <th>Result</th>\n",
       "    </tr>\n",
       "  </thead>\n",
       "  <tbody>\n",
       "    <tr>\n",
       "      <th>0</th>\n",
       "      <td>Cases with missing values:</td>\n",
       "      <td>0</td>\n",
       "      <td>0</td>\n",
       "      <td>True</td>\n",
       "    </tr>\n",
       "  </tbody>\n",
       "</table>\n",
       "</div>"
      ],
      "text/plain": [
       "                   Desription  Expected  Observed  Result\n",
       "0  Cases with missing values:         0         0    True"
      ]
     },
     "execution_count": 27,
     "metadata": {},
     "output_type": "execute_result"
    }
   ],
   "source": [
    "messages = []\n",
    "for m, expected, observed in [\n",
    "    (\"Cases with missing values:\", 0, table_2_I),\n",
    "]:\n",
    "    result = \"PASS\" if expected==observed else \"FAIL\"\n",
    "    messages.append([m,expected ,observed])\n",
    "    \n",
    "df_results = pd.DataFrame(messages, columns = [\"Desription\", \"Expected\", \"Observed\"])    \n",
    "df_results[\"Result\"] = df_results.Expected==df_results.Observed\n",
    "df_results"
   ]
  },
  {
   "cell_type": "markdown",
   "id": "d7443660-fc74-411a-9468-022c1d44db16",
   "metadata": {},
   "source": [
    "### Cases with conflicting feature value\n",
    "  - reusing the checks from conflicting features"
   ]
  },
  {
   "cell_type": "code",
   "execution_count": 28,
   "id": "85a3d542-3e45-4529-9149-7536cc923691",
   "metadata": {},
   "outputs": [
    {
     "data": {
      "text/html": [
       "<div>\n",
       "<style scoped>\n",
       "    .dataframe tbody tr th:only-of-type {\n",
       "        vertical-align: middle;\n",
       "    }\n",
       "\n",
       "    .dataframe tbody tr th {\n",
       "        vertical-align: top;\n",
       "    }\n",
       "\n",
       "    .dataframe thead th {\n",
       "        text-align: right;\n",
       "    }\n",
       "</style>\n",
       "<table border=\"1\" class=\"dataframe\">\n",
       "  <thead>\n",
       "    <tr style=\"text-align: right;\">\n",
       "      <th></th>\n",
       "      <th>Desription</th>\n",
       "      <th>Observed</th>\n",
       "    </tr>\n",
       "  </thead>\n",
       "  <tbody>\n",
       "    <tr>\n",
       "      <th>0</th>\n",
       "      <td>Conflicting feature values in check1:</td>\n",
       "      <td>0</td>\n",
       "    </tr>\n",
       "    <tr>\n",
       "      <th>1</th>\n",
       "      <td>Conflicting feature values in check3:</td>\n",
       "      <td>0</td>\n",
       "    </tr>\n",
       "    <tr>\n",
       "      <th>2</th>\n",
       "      <td>Conflicting feature values in  check4:</td>\n",
       "      <td>0</td>\n",
       "    </tr>\n",
       "    <tr>\n",
       "      <th>3</th>\n",
       "      <td>Conflicting feature values in  check5:</td>\n",
       "      <td>0</td>\n",
       "    </tr>\n",
       "    <tr>\n",
       "      <th>4</th>\n",
       "      <td>Conflicting feature values in  check6:</td>\n",
       "      <td>0</td>\n",
       "    </tr>\n",
       "    <tr>\n",
       "      <th>5</th>\n",
       "      <td>Conflicting feature values in  check7:</td>\n",
       "      <td>0</td>\n",
       "    </tr>\n",
       "    <tr>\n",
       "      <th>6</th>\n",
       "      <td>Conflicting feature values in  check8:</td>\n",
       "      <td>0</td>\n",
       "    </tr>\n",
       "    <tr>\n",
       "      <th>7</th>\n",
       "      <td>Conflicting feature values in  check9:</td>\n",
       "      <td>0</td>\n",
       "    </tr>\n",
       "    <tr>\n",
       "      <th>8</th>\n",
       "      <td>Conflicting feature values in  check10:</td>\n",
       "      <td>0</td>\n",
       "    </tr>\n",
       "    <tr>\n",
       "      <th>9</th>\n",
       "      <td>Conflicting feature values in  check11:</td>\n",
       "      <td>0</td>\n",
       "    </tr>\n",
       "    <tr>\n",
       "      <th>10</th>\n",
       "      <td>Conflicting feature values in  check12:</td>\n",
       "      <td>129</td>\n",
       "    </tr>\n",
       "  </tbody>\n",
       "</table>\n",
       "</div>"
      ],
      "text/plain": [
       "                                 Desription  Observed\n",
       "0     Conflicting feature values in check1:         0\n",
       "1     Conflicting feature values in check3:         0\n",
       "2    Conflicting feature values in  check4:         0\n",
       "3    Conflicting feature values in  check5:         0\n",
       "4    Conflicting feature values in  check6:         0\n",
       "5    Conflicting feature values in  check7:         0\n",
       "6    Conflicting feature values in  check8:         0\n",
       "7    Conflicting feature values in  check9:         0\n",
       "8   Conflicting feature values in  check10:         0\n",
       "9   Conflicting feature values in  check11:         0\n",
       "10  Conflicting feature values in  check12:       129"
      ]
     },
     "execution_count": 28,
     "metadata": {},
     "output_type": "execute_result"
    }
   ],
   "source": [
    "messages = []\n",
    "for m, observed in [\n",
    "    (\"Conflicting feature values in check1:\", check1.shape[0]),\n",
    "     (\"Conflicting feature values in check3:\", check3.shape[0]),\n",
    "     (\"Conflicting feature values in  check4:\", check4.shape[0]),\n",
    "     (\"Conflicting feature values in  check5:\", check5.shape[0]),\n",
    "     (\"Conflicting feature values in  check6:\", check6.shape[0]),\n",
    "     (\"Conflicting feature values in  check7:\", check7.shape[0]),\n",
    "     (\"Conflicting feature values in  check8:\", check8.shape[0]),\n",
    "     (\"Conflicting feature values in  check9:\", check9.shape[0]),\n",
    "     (\"Conflicting feature values in  check10:\", check10.shape[0]),\n",
    "     (\"Conflicting feature values in  check11:\", check11.shape[0]),\n",
    "     (\"Conflicting feature values in  check12:\", check12.shape[0]),\n",
    "     #(\"Conflicting feature values in  check14:\", check14.shape[0]),\n",
    "     #(\"Conflicting feature values in  check15:\", check15.shape[0]),\n",
    "     #(\"Conflicting feature values in  check16:\", check16.shape[0]),\n",
    "     #(\"Conflicting feature values in  check17:\", check17.shape[0]),\n",
    "     #(\"Conflicting feature values in  check18:\", check18.shape[0]),\n",
    "    \n",
    "]:\n",
    "       messages.append([m ,observed])\n",
    "    \n",
    "conflict_feat_values_results = pd.DataFrame(messages, columns = [\"Desription\", \"Observed\"])    \n",
    "conflict_feat_values_results"
   ]
  },
  {
   "cell_type": "code",
   "execution_count": 29,
   "id": "d9ff05f3-5726-4567-a2fb-75a997ad95ac",
   "metadata": {},
   "outputs": [
    {
     "data": {
      "text/html": [
       "<div>\n",
       "<style scoped>\n",
       "    .dataframe tbody tr th:only-of-type {\n",
       "        vertical-align: middle;\n",
       "    }\n",
       "\n",
       "    .dataframe tbody tr th {\n",
       "        vertical-align: top;\n",
       "    }\n",
       "\n",
       "    .dataframe thead th {\n",
       "        text-align: right;\n",
       "    }\n",
       "</style>\n",
       "<table border=\"1\" class=\"dataframe\">\n",
       "  <thead>\n",
       "    <tr style=\"text-align: right;\">\n",
       "      <th></th>\n",
       "      <th>Desription</th>\n",
       "      <th>Expected</th>\n",
       "      <th>Observed</th>\n",
       "      <th>Result</th>\n",
       "    </tr>\n",
       "  </thead>\n",
       "  <tbody>\n",
       "    <tr>\n",
       "      <th>0</th>\n",
       "      <td>Cases with conflicting values:</td>\n",
       "      <td>129</td>\n",
       "      <td>129</td>\n",
       "      <td>True</td>\n",
       "    </tr>\n",
       "  </tbody>\n",
       "</table>\n",
       "</div>"
      ],
      "text/plain": [
       "                       Desription  Expected  Observed  Result\n",
       "0  Cases with conflicting values:       129       129    True"
      ]
     },
     "execution_count": 29,
     "metadata": {},
     "output_type": "execute_result"
    }
   ],
   "source": [
    "table_2_J= sum([check1.shape[0],check3.shape[0],check4.shape[0],check5.shape[0],check6.shape[0],check7.shape[0],\n",
    "                check8.shape[0],check9.shape[0],check10.shape[0],check11.shape[0],check12.shape[0]])\n",
    "\n",
    "messages = []\n",
    "for m, expected, observed in [\n",
    "    (\"Cases with conflicting values:\", 129, table_2_J),\n",
    "]:\n",
    "    result = \"PASS\" if expected==observed else \"FAIL\"\n",
    "    messages.append([m,expected ,observed])\n",
    "    \n",
    "df_results = pd.DataFrame(messages, columns = [\"Desription\", \"Expected\", \"Observed\"])    \n",
    "df_results[\"Result\"] = df_results.Expected==df_results.Observed\n",
    "df_results"
   ]
  },
  {
   "cell_type": "markdown",
   "id": "94bdf9fc-ac77-4acb-ac0f-c171373c406c",
   "metadata": {},
   "source": [
    "#### Comment\n",
    " - The number of conflicting cases is greather than expected \n",
    " - However if we just run the integrity checks from 1-12 then it gives us the expected value\n",
    " - This could mean that when the integrity checks were being checked only the first twelve were ran"
   ]
  },
  {
   "cell_type": "markdown",
   "id": "5dcf9ea8-df0d-4b68-bc01-b6fc2367de29",
   "metadata": {},
   "source": [
    "### Cases with implausible values"
   ]
  },
  {
   "cell_type": "code",
   "execution_count": 30,
   "id": "9a90203c-f19f-4bdc-a28b-788e5ddfe588",
   "metadata": {},
   "outputs": [],
   "source": [
    "def count_implausible_cases(df):\n",
    "    total_implausible_cases = 0\n",
    "    \n",
    "    for col in df.columns:\n",
    "            if (col =='LOC_TOTAL'):\n",
    "                check_loc_total =  df.query(f'{col} == 0')\n",
    "                total_implausible_cases += check_loc_total.shape[0]\n",
    "            if ('count' in col):\n",
    "                check_count = df.query(f'{col}.dtype != int')\n",
    "                total_implausible_cases += check_count.shape[0]\n",
    "            else:\n",
    "                check_negative = df.query(f'{col} < 0')\n",
    "                total_implausible_cases += check_negative.shape[0]\n",
    "\n",
    "            \n",
    "    return total_implausible_cases"
   ]
  },
  {
   "cell_type": "code",
   "execution_count": 31,
   "id": "78378361-fad5-43a7-b685-858f71a0c856",
   "metadata": {},
   "outputs": [
    {
     "data": {
      "text/html": [
       "<div>\n",
       "<style scoped>\n",
       "    .dataframe tbody tr th:only-of-type {\n",
       "        vertical-align: middle;\n",
       "    }\n",
       "\n",
       "    .dataframe tbody tr th {\n",
       "        vertical-align: top;\n",
       "    }\n",
       "\n",
       "    .dataframe thead th {\n",
       "        text-align: right;\n",
       "    }\n",
       "</style>\n",
       "<table border=\"1\" class=\"dataframe\">\n",
       "  <thead>\n",
       "    <tr style=\"text-align: right;\">\n",
       "      <th></th>\n",
       "      <th>Desription</th>\n",
       "      <th>Expected</th>\n",
       "      <th>Observed</th>\n",
       "      <th>Result</th>\n",
       "    </tr>\n",
       "  </thead>\n",
       "  <tbody>\n",
       "    <tr>\n",
       "      <th>0</th>\n",
       "      <td>Implausible cases :</td>\n",
       "      <td>1084</td>\n",
       "      <td>1084</td>\n",
       "      <td>True</td>\n",
       "    </tr>\n",
       "  </tbody>\n",
       "</table>\n",
       "</div>"
      ],
      "text/plain": [
       "            Desription  Expected  Observed  Result\n",
       "0  Implausible cases :      1084      1084    True"
      ]
     },
     "execution_count": 31,
     "metadata": {},
     "output_type": "execute_result"
    }
   ],
   "source": [
    "table_2_K= count_implausible_cases(df)\n",
    "\n",
    "messages = []\n",
    "for m, expected, observed in [\n",
    "    (\"Implausible cases :\", 1084, table_2_K),\n",
    "]:\n",
    "    result = \"PASS\" if expected==observed else \"FAIL\"\n",
    "    messages.append([m,expected ,observed])\n",
    "    \n",
    "df_results = pd.DataFrame(messages, columns = [\"Desription\", \"Expected\", \"Observed\"])    \n",
    "df_results[\"Result\"] = df_results.Expected==df_results.Observed\n",
    "df_results"
   ]
  },
  {
   "cell_type": "markdown",
   "id": "4e2b0954-e17a-4722-8df8-419f5fc1e4e0",
   "metadata": {},
   "source": [
    "### Total problem cases DS'"
   ]
  },
  {
   "cell_type": "code",
   "execution_count": 32,
   "id": "a41ca230-9a22-462f-af71-30d83efc51da",
   "metadata": {},
   "outputs": [
    {
     "data": {
      "text/plain": [
       "1163"
      ]
     },
     "execution_count": 32,
     "metadata": {},
     "output_type": "execute_result"
    }
   ],
   "source": [
    "cases_before_drop = df.shape[0] \n",
    "\n",
    "df_DS1= df.copy()\n",
    "\n",
    "# Drop rows that contain na values\n",
    "df_DS1=df_DS1.dropna()\n",
    "\n",
    "# Drop rows that fail any checks\n",
    "failed_rows = pd.concat([check1, check3, check4, check5, check6, check7, check8, check9, check10, check11, check12])\n",
    "df_DS1=df_DS1.drop(failed_rows.index)\n",
    "\n",
    "# Drop rows that contain implausible values\n",
    "df_DS1 = df_DS1.drop(df_DS1[df_DS1['LOC_TOTAL'] == 0].index)\n",
    "\n",
    "df_DS1 = df_DS1.drop(df_DS1[(df_DS1 < 0).any(axis=1)].index)\n",
    "\n",
    "count_columns = [col for col in df_DS1.columns if 'count' in col]\n",
    "df_DS1 = df_DS1.drop(df_DS1[~df_DS1[count_columns].applymap(lambda x: isinstance(x, int)).all(axis=1)].index)\n",
    "\n",
    "total_data_quality_problem_cases = cases_before_drop - df_DS1.shape[0]\n",
    "total_data_quality_problem_cases\n"
   ]
  },
  {
   "cell_type": "code",
   "execution_count": 33,
   "id": "580f038b-e05a-4ef3-b6e6-d1ea71eba11f",
   "metadata": {},
   "outputs": [
    {
     "data": {
      "text/html": [
       "<div>\n",
       "<style scoped>\n",
       "    .dataframe tbody tr th:only-of-type {\n",
       "        vertical-align: middle;\n",
       "    }\n",
       "\n",
       "    .dataframe tbody tr th {\n",
       "        vertical-align: top;\n",
       "    }\n",
       "\n",
       "    .dataframe thead th {\n",
       "        text-align: right;\n",
       "    }\n",
       "</style>\n",
       "<table border=\"1\" class=\"dataframe\">\n",
       "  <thead>\n",
       "    <tr style=\"text-align: right;\">\n",
       "      <th></th>\n",
       "      <th>Desription</th>\n",
       "      <th>Expected</th>\n",
       "      <th>Observed</th>\n",
       "      <th>Result</th>\n",
       "    </tr>\n",
       "  </thead>\n",
       "  <tbody>\n",
       "    <tr>\n",
       "      <th>0</th>\n",
       "      <td>Problem cases I-K:</td>\n",
       "      <td>1163</td>\n",
       "      <td>1163</td>\n",
       "      <td>True</td>\n",
       "    </tr>\n",
       "  </tbody>\n",
       "</table>\n",
       "</div>"
      ],
      "text/plain": [
       "           Desription  Expected  Observed  Result\n",
       "0  Problem cases I-K:      1163      1163    True"
      ]
     },
     "execution_count": 33,
     "metadata": {},
     "output_type": "execute_result"
    }
   ],
   "source": [
    "messages = []\n",
    "for m, expected, observed in [\n",
    "    (\"Problem cases I-K:\", 1163, total_data_quality_problem_cases),\n",
    "]:\n",
    "    result = \"PASS\" if expected==observed else \"FAIL\"\n",
    "    messages.append([m,expected ,observed])\n",
    "    \n",
    "df_results = pd.DataFrame(messages, columns = [\"Desription\", \"Expected\", \"Observed\"])    \n",
    "df_results[\"Result\"] = df_results.Expected==df_results.Observed\n",
    "df_results"
   ]
  },
  {
   "cell_type": "markdown",
   "id": "8d58c05f-3f79-4e52-811c-ff0dc7070200",
   "metadata": {},
   "source": [
    "### Comment\n",
    "   - the above result was obtained by only running checks1-12 as it was found earlier that likely how the results were obtained"
   ]
  },
  {
   "cell_type": "markdown",
   "id": "8bd400a3-d05d-40b9-a1ce-e81168925486",
   "metadata": {},
   "source": [
    "### Total problem DS''"
   ]
  },
  {
   "cell_type": "code",
   "execution_count": 34,
   "id": "106056c1-a5d9-4bed-991f-b5b3f434fbb4",
   "metadata": {},
   "outputs": [
    {
     "data": {
      "text/plain": [
       "4656"
      ]
     },
     "execution_count": 34,
     "metadata": {},
     "output_type": "execute_result"
    }
   ],
   "source": [
    "# Drop rows that contain duplicates\n",
    "df_DS1=df_DS1.drop_duplicates(keep = False)\n",
    "\n",
    "# Drop rows that contain Inconsitent values\n",
    "grouped = df_DS1.groupby(df_DS1.columns[:-1].tolist())\n",
    "inconsistent = grouped.filter(lambda x: len(x['defects'].unique()) > 1)\n",
    "df_DS1=df_DS1.drop(inconsistent.index)\n",
    "\n",
    "total_problem_cases = cases_before_drop - df_DS1.shape[0]\n",
    "total_problem_cases"
   ]
  },
  {
   "cell_type": "code",
   "execution_count": 35,
   "id": "5c47ce3a-be22-4d21-bb07-3db8aa04d863",
   "metadata": {},
   "outputs": [
    {
     "data": {
      "text/html": [
       "<div>\n",
       "<style scoped>\n",
       "    .dataframe tbody tr th:only-of-type {\n",
       "        vertical-align: middle;\n",
       "    }\n",
       "\n",
       "    .dataframe tbody tr th {\n",
       "        vertical-align: top;\n",
       "    }\n",
       "\n",
       "    .dataframe thead th {\n",
       "        text-align: right;\n",
       "    }\n",
       "</style>\n",
       "<table border=\"1\" class=\"dataframe\">\n",
       "  <thead>\n",
       "    <tr style=\"text-align: right;\">\n",
       "      <th></th>\n",
       "      <th>Desription</th>\n",
       "      <th>Expected</th>\n",
       "      <th>Observed</th>\n",
       "      <th>Result</th>\n",
       "    </tr>\n",
       "  </thead>\n",
       "  <tbody>\n",
       "    <tr>\n",
       "      <th>0</th>\n",
       "      <td>Problem cases G-K:</td>\n",
       "      <td>4297</td>\n",
       "      <td>4656</td>\n",
       "      <td>False</td>\n",
       "    </tr>\n",
       "  </tbody>\n",
       "</table>\n",
       "</div>"
      ],
      "text/plain": [
       "           Desription  Expected  Observed  Result\n",
       "0  Problem cases G-K:      4297      4656   False"
      ]
     },
     "execution_count": 35,
     "metadata": {},
     "output_type": "execute_result"
    }
   ],
   "source": [
    "messages = []\n",
    "for m, expected, observed in [\n",
    "    (\"Problem cases G-K:\", 4297, total_problem_cases),\n",
    "]:\n",
    "    result = \"PASS\" if expected==observed else \"FAIL\"\n",
    "    messages.append([m,expected ,observed])\n",
    "    \n",
    "df_results = pd.DataFrame(messages, columns = [\"Desription\", \"Expected\", \"Observed\"])    \n",
    "df_results[\"Result\"] = df_results.Expected==df_results.Observed\n",
    "df_results"
   ]
  },
  {
   "cell_type": "markdown",
   "id": "8cc5f324-1dd1-4087-8dfd-976ddebaf812",
   "metadata": {
    "toc-hr-collapsed": true
   },
   "source": [
    "## Summary\n",
    "\n",
    " Most of the counts for features  and cases with issues were accurate and alligned with the values from the Data Quality Comments tables. The values that didnt match were later discovered to be caused be the fact that the paper did not use all the integrity checks and that it instead likely only used the first 12 checks. Going back over the calculations and applying this knowledge led to identical results therefore when cleaning this dataset we will use the same logic and only run the first twelve integrity checks to find issues with cases and features."
   ]
  },
  {
   "cell_type": "code",
   "execution_count": 36,
   "id": "6a1531d2-002f-4f5d-8cc2-10f7b58b6122",
   "metadata": {},
   "outputs": [
    {
     "data": {
      "text/html": [
       "<div>\n",
       "<style scoped>\n",
       "    .dataframe tbody tr th:only-of-type {\n",
       "        vertical-align: middle;\n",
       "    }\n",
       "\n",
       "    .dataframe tbody tr th {\n",
       "        vertical-align: top;\n",
       "    }\n",
       "\n",
       "    .dataframe thead th {\n",
       "        text-align: right;\n",
       "    }\n",
       "</style>\n",
       "<table border=\"1\" class=\"dataframe\">\n",
       "  <thead>\n",
       "    <tr style=\"text-align: right;\">\n",
       "      <th></th>\n",
       "      <th>Desription</th>\n",
       "      <th>Expected</th>\n",
       "      <th>Observed</th>\n",
       "      <th>Result</th>\n",
       "    </tr>\n",
       "  </thead>\n",
       "  <tbody>\n",
       "    <tr>\n",
       "      <th>0</th>\n",
       "      <td>Identical Features:</td>\n",
       "      <td>0</td>\n",
       "      <td>0</td>\n",
       "      <td>True</td>\n",
       "    </tr>\n",
       "    <tr>\n",
       "      <th>1</th>\n",
       "      <td>Constant Features:</td>\n",
       "      <td>0</td>\n",
       "      <td>0</td>\n",
       "      <td>True</td>\n",
       "    </tr>\n",
       "    <tr>\n",
       "      <th>2</th>\n",
       "      <td>Features with missing values:</td>\n",
       "      <td>0</td>\n",
       "      <td>0</td>\n",
       "      <td>True</td>\n",
       "    </tr>\n",
       "    <tr>\n",
       "      <th>3</th>\n",
       "      <td>Features with conflicting values:</td>\n",
       "      <td>2</td>\n",
       "      <td>2</td>\n",
       "      <td>True</td>\n",
       "    </tr>\n",
       "    <tr>\n",
       "      <th>4</th>\n",
       "      <td>Features with implausible values:</td>\n",
       "      <td>1</td>\n",
       "      <td>1</td>\n",
       "      <td>True</td>\n",
       "    </tr>\n",
       "    <tr>\n",
       "      <th>5</th>\n",
       "      <td>Total features with issues:</td>\n",
       "      <td>3</td>\n",
       "      <td>3</td>\n",
       "      <td>True</td>\n",
       "    </tr>\n",
       "    <tr>\n",
       "      <th>6</th>\n",
       "      <td>Identical cases:</td>\n",
       "      <td>4621</td>\n",
       "      <td>4621</td>\n",
       "      <td>True</td>\n",
       "    </tr>\n",
       "    <tr>\n",
       "      <th>7</th>\n",
       "      <td>inconsistent  case values:</td>\n",
       "      <td>100</td>\n",
       "      <td>100</td>\n",
       "      <td>True</td>\n",
       "    </tr>\n",
       "    <tr>\n",
       "      <th>8</th>\n",
       "      <td>Cases with missing values:</td>\n",
       "      <td>0</td>\n",
       "      <td>0</td>\n",
       "      <td>True</td>\n",
       "    </tr>\n",
       "    <tr>\n",
       "      <th>9</th>\n",
       "      <td>Cases with conflicting values:</td>\n",
       "      <td>129</td>\n",
       "      <td>129</td>\n",
       "      <td>True</td>\n",
       "    </tr>\n",
       "    <tr>\n",
       "      <th>10</th>\n",
       "      <td>Cases with implausible values:</td>\n",
       "      <td>1084</td>\n",
       "      <td>1084</td>\n",
       "      <td>True</td>\n",
       "    </tr>\n",
       "    <tr>\n",
       "      <th>11</th>\n",
       "      <td>Implausible cases :</td>\n",
       "      <td>1084</td>\n",
       "      <td>1084</td>\n",
       "      <td>True</td>\n",
       "    </tr>\n",
       "    <tr>\n",
       "      <th>12</th>\n",
       "      <td>Problem cases I-K:</td>\n",
       "      <td>1163</td>\n",
       "      <td>1163</td>\n",
       "      <td>True</td>\n",
       "    </tr>\n",
       "    <tr>\n",
       "      <th>13</th>\n",
       "      <td>Problem cases G-K:</td>\n",
       "      <td>4297</td>\n",
       "      <td>4656</td>\n",
       "      <td>False</td>\n",
       "    </tr>\n",
       "  </tbody>\n",
       "</table>\n",
       "</div>"
      ],
      "text/plain": [
       "                           Desription  Expected  Observed  Result\n",
       "0                 Identical Features:         0         0    True\n",
       "1                  Constant Features:         0         0    True\n",
       "2       Features with missing values:         0         0    True\n",
       "3   Features with conflicting values:         2         2    True\n",
       "4   Features with implausible values:         1         1    True\n",
       "5         Total features with issues:         3         3    True\n",
       "6                    Identical cases:      4621      4621    True\n",
       "7          inconsistent  case values:       100       100    True\n",
       "8          Cases with missing values:         0         0    True\n",
       "9      Cases with conflicting values:       129       129    True\n",
       "10     Cases with implausible values:      1084      1084    True\n",
       "11                Implausible cases :      1084      1084    True\n",
       "12                 Problem cases I-K:      1163      1163    True\n",
       "13                 Problem cases G-K:      4297      4656   False"
      ]
     },
     "execution_count": 36,
     "metadata": {},
     "output_type": "execute_result"
    }
   ],
   "source": [
    "messages = []\n",
    "for m, expected, observed in [\n",
    "    (\"Identical Features:\", 0, table_2_A(df)),\n",
    "    (\"Constant Features:\", 0, table_2_B(df)),\n",
    "    (\"Features with missing values:\", 0, table_2_C(df)),\n",
    "    (\"Features with conflicting values:\", 2, table_2_D),\n",
    "    (\"Features with implausible values:\", 1, total_implausible),\n",
    "    (\"Total features with issues:\", 3, total_problem_features),\n",
    "    (\"Identical cases:\", 4621, table_2_G),\n",
    "    (\"inconsistent  case values:\", 100, table_2_H.shape[0]),\n",
    "    (\"Cases with missing values:\", 0, table_2_I),\n",
    "    (\"Cases with conflicting values:\", 129, table_2_J),\n",
    "    (\"Cases with implausible values:\", 1084, table_2_K),\n",
    "    (\"Implausible cases :\", 1084, table_2_K),\n",
    "    (\"Problem cases I-K:\", 1163, total_data_quality_problem_cases),\n",
    "    (\"Problem cases G-K:\", 4297, total_problem_cases),\n",
    "\n",
    "]:\n",
    "    result = \"PASS\" if expected==observed else \"FAIL\"\n",
    "    messages.append([m,expected ,observed])\n",
    "    \n",
    "df_results = pd.DataFrame(messages, columns = [\"Desription\", \"Expected\", \"Observed\"])    \n",
    "df_results[\"Result\"] = df_results.Expected==df_results.Observed\n",
    "df_results"
   ]
  },
  {
   "cell_type": "markdown",
   "id": "23b80336-963e-4c7e-8e2d-fff35b8bab02",
   "metadata": {},
   "source": [
    "#### Comments\n",
    " - From the table above we can see that out findings match the ones from the Nasa Doc tables\n",
    " - We will now proceed to remove all the cases and features that are causing issues from the dataset\n",
    "\n",
    "note: Our findings are matching because we used the same approach of only using specific checks"
   ]
  },
  {
   "cell_type": "markdown",
   "id": "d16daa90-7f10-4680-a00c-c1efcad51d62",
   "metadata": {
    "toc-hr-collapsed": true
   },
   "source": [
    "## Cleaning dataset by removing faulty features and cases - (NASA MDP Data Preprocessing Approach)"
   ]
  },
  {
   "cell_type": "markdown",
   "id": "09bf5ea0-0de7-4e98-92a6-a3836504dd14",
   "metadata": {
    "tags": []
   },
   "source": [
    "#### Step1: Remove cases with conflict feature values"
   ]
  },
  {
   "cell_type": "code",
   "execution_count": 37,
   "id": "691e0b36-78b3-4e12-bfc2-51e2ddfae0a4",
   "metadata": {},
   "outputs": [],
   "source": [
    "failed_rows2 = pd.concat([check1, check3, check4, check5, check6, check7, check8, check9, check10, check11, check12])\n",
    "df=df.drop(failed_rows2.index)"
   ]
  },
  {
   "cell_type": "markdown",
   "id": "97f6488c-cb28-4e35-9389-3902c3beb06a",
   "metadata": {},
   "source": [
    "#### Step2: Remove cases with implausible values"
   ]
  },
  {
   "cell_type": "code",
   "execution_count": 38,
   "id": "37a64b82-57b3-45f0-b307-6b9980ef0d6f",
   "metadata": {},
   "outputs": [],
   "source": [
    "df = df.drop(df[df['LOC_TOTAL'] == 0].index)\n",
    "\n",
    "df = df.drop(df[(df < 0).any(axis=1)].index)\n",
    "\n",
    "count_columns = [col for col in df.columns if 'count' in col]\n",
    "df = df.drop(df[~df[count_columns].applymap(lambda x: isinstance(x, int)).all(axis=1)].index)"
   ]
  },
  {
   "cell_type": "markdown",
   "id": "e158f784-82bb-4909-8bd8-67956e72b33a",
   "metadata": {},
   "source": [
    "#### Step3: Remove identical cases"
   ]
  },
  {
   "cell_type": "code",
   "execution_count": 39,
   "id": "b6ef4e36-a9c8-4129-ae32-0bd165688ca7",
   "metadata": {},
   "outputs": [],
   "source": [
    "df=df.drop_duplicates(keep = False)"
   ]
  },
  {
   "cell_type": "markdown",
   "id": "abc17667-31ee-4c74-a807-bb74673d5769",
   "metadata": {},
   "source": [
    "#### Step 4: remove inconsistent cases"
   ]
  },
  {
   "cell_type": "code",
   "execution_count": 40,
   "id": "e63aa559-a906-4c7c-af37-b9724281b390",
   "metadata": {},
   "outputs": [],
   "source": [
    "grouped = df.groupby(df.columns[:-1].tolist())\n",
    "inconsistent = grouped.filter(lambda x: len(x['defects'].unique()) > 1)\n",
    "df=df.drop(inconsistent.index)"
   ]
  },
  {
   "cell_type": "markdown",
   "id": "2889f6fd-2119-4b95-9490-e6dd889eda77",
   "metadata": {},
   "source": [
    "#### Step 5: Remove cases with missing values"
   ]
  },
  {
   "cell_type": "code",
   "execution_count": 41,
   "id": "5f4d70e8-bd53-4f52-bd4c-4ce65ab10f87",
   "metadata": {},
   "outputs": [],
   "source": [
    "df=df.dropna()"
   ]
  },
  {
   "cell_type": "markdown",
   "id": "32f772e7-e973-4a96-978f-d7742d92c218",
   "metadata": {},
   "source": [
    "#### Step 6: Remove constant features"
   ]
  },
  {
   "cell_type": "code",
   "execution_count": 42,
   "id": "7b3daee6-0b8b-4682-ab99-05e440d453af",
   "metadata": {},
   "outputs": [],
   "source": [
    "df.drop(columns=df.columns[df.apply(lambda x: x.nunique()) == 1], inplace=True)"
   ]
  },
  {
   "cell_type": "markdown",
   "id": "6355f039-dbb7-4bd1-98fd-714e5e8e3215",
   "metadata": {},
   "source": [
    "#### Step 7: Remove identical features"
   ]
  },
  {
   "cell_type": "code",
   "execution_count": 48,
   "id": "7d22682f-2d06-4673-826e-0d0b74260321",
   "metadata": {},
   "outputs": [],
   "source": [
    "df = df.loc[:, ~df.T.duplicated()]"
   ]
  },
  {
   "cell_type": "markdown",
   "id": "ad5de4bf-6ea9-4558-923c-88cd0fe6bc3a",
   "metadata": {},
   "source": [
    "##### Reseting datframe index"
   ]
  },
  {
   "cell_type": "code",
   "execution_count": 55,
   "id": "11b433e1-31b5-4600-ab6f-01d46fc08cd8",
   "metadata": {},
   "outputs": [],
   "source": [
    "df = df.reset_index(drop=True)"
   ]
  },
  {
   "cell_type": "markdown",
   "id": "2a2137eb-0bf7-4052-ab03-5d97f3cfd906",
   "metadata": {},
   "source": [
    "## Saving cleaned dataset to new CSV"
   ]
  },
  {
   "cell_type": "code",
   "execution_count": 56,
   "id": "b5d658a2-194c-448c-83ec-46d13c467323",
   "metadata": {},
   "outputs": [
    {
     "data": {
      "text/html": [
       "<div>\n",
       "<style scoped>\n",
       "    .dataframe tbody tr th:only-of-type {\n",
       "        vertical-align: middle;\n",
       "    }\n",
       "\n",
       "    .dataframe tbody tr th {\n",
       "        vertical-align: top;\n",
       "    }\n",
       "\n",
       "    .dataframe thead th {\n",
       "        text-align: right;\n",
       "    }\n",
       "</style>\n",
       "<table border=\"1\" class=\"dataframe\">\n",
       "  <thead>\n",
       "    <tr style=\"text-align: right;\">\n",
       "      <th></th>\n",
       "      <th>BRANCH_COUNT</th>\n",
       "      <th>CALL_PAIRS</th>\n",
       "      <th>LOC_CODE_AND_COMMENT</th>\n",
       "      <th>LOC_COMMENTS</th>\n",
       "      <th>CONDITION_COUNT</th>\n",
       "      <th>CYCLOMATIC_COMPLEXITY</th>\n",
       "      <th>CYCLOMATIC_DENSITY</th>\n",
       "      <th>DECISION_COUNT</th>\n",
       "      <th>DECISION_DENSITY</th>\n",
       "      <th>DESIGN_COMPLEXITY</th>\n",
       "      <th>DESIGN_DENSITY</th>\n",
       "      <th>EDGE_COUNT</th>\n",
       "      <th>ESSENTIAL_COMPLEXITY</th>\n",
       "      <th>ESSENTIAL_DENSITY</th>\n",
       "      <th>LOC_EXECUTABLE</th>\n",
       "      <th>PARAMETER_COUNT</th>\n",
       "      <th>HALSTEAD_CONTENT</th>\n",
       "      <th>HALSTEAD_DIFFICULTY</th>\n",
       "      <th>HALSTEAD_EFFORT</th>\n",
       "      <th>HALSTEAD_ERROR_EST</th>\n",
       "      <th>HALSTEAD_LENGTH</th>\n",
       "      <th>HALSTEAD_LEVEL</th>\n",
       "      <th>HALSTEAD_PROG_TIME</th>\n",
       "      <th>HALSTEAD_VOLUME</th>\n",
       "      <th>MAINTENANCE_SEVERITY</th>\n",
       "      <th>MODIFIED_CONDITION_COUNT</th>\n",
       "      <th>MULTIPLE_CONDITION_COUNT</th>\n",
       "      <th>NODE_COUNT</th>\n",
       "      <th>NORMALIZED_CYLOMATIC_COMPLEXITY</th>\n",
       "      <th>NUM_OPERANDS</th>\n",
       "      <th>NUM_OPERATORS</th>\n",
       "      <th>NUM_UNIQUE_OPERANDS</th>\n",
       "      <th>NUM_UNIQUE_OPERATORS</th>\n",
       "      <th>NUMBER_OF_LINES</th>\n",
       "      <th>PERCENT_COMMENTS</th>\n",
       "      <th>LOC_TOTAL</th>\n",
       "      <th>defects</th>\n",
       "    </tr>\n",
       "  </thead>\n",
       "  <tbody>\n",
       "    <tr>\n",
       "      <th>0</th>\n",
       "      <td>1.0</td>\n",
       "      <td>4.0</td>\n",
       "      <td>7.0</td>\n",
       "      <td>24.0</td>\n",
       "      <td>0.0</td>\n",
       "      <td>1.0</td>\n",
       "      <td>0.13</td>\n",
       "      <td>0.0</td>\n",
       "      <td>0.0</td>\n",
       "      <td>1.0</td>\n",
       "      <td>1.00</td>\n",
       "      <td>6.0</td>\n",
       "      <td>1.0</td>\n",
       "      <td>0.0</td>\n",
       "      <td>1.0</td>\n",
       "      <td>0.0</td>\n",
       "      <td>17.88</td>\n",
       "      <td>7.43</td>\n",
       "      <td>986.77</td>\n",
       "      <td>0.04</td>\n",
       "      <td>34.0</td>\n",
       "      <td>0.13</td>\n",
       "      <td>54.82</td>\n",
       "      <td>132.83</td>\n",
       "      <td>1.0</td>\n",
       "      <td>0.0</td>\n",
       "      <td>0.0</td>\n",
       "      <td>7.0</td>\n",
       "      <td>0.03</td>\n",
       "      <td>13.0</td>\n",
       "      <td>21.0</td>\n",
       "      <td>7.0</td>\n",
       "      <td>8.0</td>\n",
       "      <td>34.0</td>\n",
       "      <td>96.88</td>\n",
       "      <td>8.0</td>\n",
       "      <td>False</td>\n",
       "    </tr>\n",
       "    <tr>\n",
       "      <th>1</th>\n",
       "      <td>1.0</td>\n",
       "      <td>1.0</td>\n",
       "      <td>11.0</td>\n",
       "      <td>3.0</td>\n",
       "      <td>0.0</td>\n",
       "      <td>1.0</td>\n",
       "      <td>0.08</td>\n",
       "      <td>0.0</td>\n",
       "      <td>0.0</td>\n",
       "      <td>1.0</td>\n",
       "      <td>1.00</td>\n",
       "      <td>2.0</td>\n",
       "      <td>1.0</td>\n",
       "      <td>0.0</td>\n",
       "      <td>1.0</td>\n",
       "      <td>0.0</td>\n",
       "      <td>42.62</td>\n",
       "      <td>7.81</td>\n",
       "      <td>2598.31</td>\n",
       "      <td>0.11</td>\n",
       "      <td>77.0</td>\n",
       "      <td>0.13</td>\n",
       "      <td>144.35</td>\n",
       "      <td>332.79</td>\n",
       "      <td>1.0</td>\n",
       "      <td>0.0</td>\n",
       "      <td>0.0</td>\n",
       "      <td>3.0</td>\n",
       "      <td>0.06</td>\n",
       "      <td>29.0</td>\n",
       "      <td>48.0</td>\n",
       "      <td>13.0</td>\n",
       "      <td>7.0</td>\n",
       "      <td>17.0</td>\n",
       "      <td>93.33</td>\n",
       "      <td>12.0</td>\n",
       "      <td>False</td>\n",
       "    </tr>\n",
       "    <tr>\n",
       "      <th>2</th>\n",
       "      <td>5.0</td>\n",
       "      <td>1.0</td>\n",
       "      <td>9.0</td>\n",
       "      <td>10.0</td>\n",
       "      <td>6.0</td>\n",
       "      <td>3.0</td>\n",
       "      <td>0.25</td>\n",
       "      <td>2.0</td>\n",
       "      <td>3.0</td>\n",
       "      <td>2.0</td>\n",
       "      <td>0.67</td>\n",
       "      <td>9.0</td>\n",
       "      <td>3.0</td>\n",
       "      <td>1.0</td>\n",
       "      <td>3.0</td>\n",
       "      <td>3.0</td>\n",
       "      <td>15.53</td>\n",
       "      <td>18.90</td>\n",
       "      <td>5545.97</td>\n",
       "      <td>0.10</td>\n",
       "      <td>64.0</td>\n",
       "      <td>0.05</td>\n",
       "      <td>308.11</td>\n",
       "      <td>293.44</td>\n",
       "      <td>1.0</td>\n",
       "      <td>2.0</td>\n",
       "      <td>3.0</td>\n",
       "      <td>8.0</td>\n",
       "      <td>0.13</td>\n",
       "      <td>27.0</td>\n",
       "      <td>37.0</td>\n",
       "      <td>10.0</td>\n",
       "      <td>14.0</td>\n",
       "      <td>24.0</td>\n",
       "      <td>86.36</td>\n",
       "      <td>12.0</td>\n",
       "      <td>False</td>\n",
       "    </tr>\n",
       "    <tr>\n",
       "      <th>3</th>\n",
       "      <td>1.0</td>\n",
       "      <td>0.0</td>\n",
       "      <td>3.0</td>\n",
       "      <td>5.0</td>\n",
       "      <td>0.0</td>\n",
       "      <td>1.0</td>\n",
       "      <td>0.25</td>\n",
       "      <td>0.0</td>\n",
       "      <td>0.0</td>\n",
       "      <td>1.0</td>\n",
       "      <td>1.00</td>\n",
       "      <td>1.0</td>\n",
       "      <td>1.0</td>\n",
       "      <td>0.0</td>\n",
       "      <td>1.0</td>\n",
       "      <td>1.0</td>\n",
       "      <td>20.84</td>\n",
       "      <td>3.94</td>\n",
       "      <td>323.05</td>\n",
       "      <td>0.03</td>\n",
       "      <td>21.0</td>\n",
       "      <td>0.25</td>\n",
       "      <td>17.95</td>\n",
       "      <td>82.04</td>\n",
       "      <td>1.0</td>\n",
       "      <td>0.0</td>\n",
       "      <td>0.0</td>\n",
       "      <td>2.0</td>\n",
       "      <td>0.09</td>\n",
       "      <td>9.0</td>\n",
       "      <td>12.0</td>\n",
       "      <td>8.0</td>\n",
       "      <td>7.0</td>\n",
       "      <td>11.0</td>\n",
       "      <td>88.89</td>\n",
       "      <td>4.0</td>\n",
       "      <td>False</td>\n",
       "    </tr>\n",
       "    <tr>\n",
       "      <th>4</th>\n",
       "      <td>3.0</td>\n",
       "      <td>0.0</td>\n",
       "      <td>1.0</td>\n",
       "      <td>0.0</td>\n",
       "      <td>4.0</td>\n",
       "      <td>2.0</td>\n",
       "      <td>1.00</td>\n",
       "      <td>2.0</td>\n",
       "      <td>2.0</td>\n",
       "      <td>1.0</td>\n",
       "      <td>0.50</td>\n",
       "      <td>7.0</td>\n",
       "      <td>1.0</td>\n",
       "      <td>0.0</td>\n",
       "      <td>1.0</td>\n",
       "      <td>3.0</td>\n",
       "      <td>11.42</td>\n",
       "      <td>6.67</td>\n",
       "      <td>507.65</td>\n",
       "      <td>0.03</td>\n",
       "      <td>20.0</td>\n",
       "      <td>0.15</td>\n",
       "      <td>28.20</td>\n",
       "      <td>76.15</td>\n",
       "      <td>0.5</td>\n",
       "      <td>1.0</td>\n",
       "      <td>2.0</td>\n",
       "      <td>7.0</td>\n",
       "      <td>0.50</td>\n",
       "      <td>10.0</td>\n",
       "      <td>10.0</td>\n",
       "      <td>6.0</td>\n",
       "      <td>8.0</td>\n",
       "      <td>4.0</td>\n",
       "      <td>50.00</td>\n",
       "      <td>2.0</td>\n",
       "      <td>False</td>\n",
       "    </tr>\n",
       "  </tbody>\n",
       "</table>\n",
       "</div>"
      ],
      "text/plain": [
       "   BRANCH_COUNT  CALL_PAIRS  LOC_CODE_AND_COMMENT  LOC_COMMENTS  \\\n",
       "0           1.0         4.0                   7.0          24.0   \n",
       "1           1.0         1.0                  11.0           3.0   \n",
       "2           5.0         1.0                   9.0          10.0   \n",
       "3           1.0         0.0                   3.0           5.0   \n",
       "4           3.0         0.0                   1.0           0.0   \n",
       "\n",
       "   CONDITION_COUNT  CYCLOMATIC_COMPLEXITY  CYCLOMATIC_DENSITY  DECISION_COUNT  \\\n",
       "0              0.0                    1.0                0.13             0.0   \n",
       "1              0.0                    1.0                0.08             0.0   \n",
       "2              6.0                    3.0                0.25             2.0   \n",
       "3              0.0                    1.0                0.25             0.0   \n",
       "4              4.0                    2.0                1.00             2.0   \n",
       "\n",
       "   DECISION_DENSITY  DESIGN_COMPLEXITY  DESIGN_DENSITY  EDGE_COUNT  \\\n",
       "0               0.0                1.0            1.00         6.0   \n",
       "1               0.0                1.0            1.00         2.0   \n",
       "2               3.0                2.0            0.67         9.0   \n",
       "3               0.0                1.0            1.00         1.0   \n",
       "4               2.0                1.0            0.50         7.0   \n",
       "\n",
       "   ESSENTIAL_COMPLEXITY  ESSENTIAL_DENSITY  LOC_EXECUTABLE  PARAMETER_COUNT  \\\n",
       "0                   1.0                0.0             1.0              0.0   \n",
       "1                   1.0                0.0             1.0              0.0   \n",
       "2                   3.0                1.0             3.0              3.0   \n",
       "3                   1.0                0.0             1.0              1.0   \n",
       "4                   1.0                0.0             1.0              3.0   \n",
       "\n",
       "   HALSTEAD_CONTENT  HALSTEAD_DIFFICULTY  HALSTEAD_EFFORT  HALSTEAD_ERROR_EST  \\\n",
       "0             17.88                 7.43           986.77                0.04   \n",
       "1             42.62                 7.81          2598.31                0.11   \n",
       "2             15.53                18.90          5545.97                0.10   \n",
       "3             20.84                 3.94           323.05                0.03   \n",
       "4             11.42                 6.67           507.65                0.03   \n",
       "\n",
       "   HALSTEAD_LENGTH  HALSTEAD_LEVEL  HALSTEAD_PROG_TIME  HALSTEAD_VOLUME  \\\n",
       "0             34.0            0.13               54.82           132.83   \n",
       "1             77.0            0.13              144.35           332.79   \n",
       "2             64.0            0.05              308.11           293.44   \n",
       "3             21.0            0.25               17.95            82.04   \n",
       "4             20.0            0.15               28.20            76.15   \n",
       "\n",
       "   MAINTENANCE_SEVERITY  MODIFIED_CONDITION_COUNT  MULTIPLE_CONDITION_COUNT  \\\n",
       "0                   1.0                       0.0                       0.0   \n",
       "1                   1.0                       0.0                       0.0   \n",
       "2                   1.0                       2.0                       3.0   \n",
       "3                   1.0                       0.0                       0.0   \n",
       "4                   0.5                       1.0                       2.0   \n",
       "\n",
       "   NODE_COUNT  NORMALIZED_CYLOMATIC_COMPLEXITY  NUM_OPERANDS  NUM_OPERATORS  \\\n",
       "0         7.0                             0.03          13.0           21.0   \n",
       "1         3.0                             0.06          29.0           48.0   \n",
       "2         8.0                             0.13          27.0           37.0   \n",
       "3         2.0                             0.09           9.0           12.0   \n",
       "4         7.0                             0.50          10.0           10.0   \n",
       "\n",
       "   NUM_UNIQUE_OPERANDS  NUM_UNIQUE_OPERATORS  NUMBER_OF_LINES  \\\n",
       "0                  7.0                   8.0             34.0   \n",
       "1                 13.0                   7.0             17.0   \n",
       "2                 10.0                  14.0             24.0   \n",
       "3                  8.0                   7.0             11.0   \n",
       "4                  6.0                   8.0              4.0   \n",
       "\n",
       "   PERCENT_COMMENTS  LOC_TOTAL  defects  \n",
       "0             96.88        8.0    False  \n",
       "1             93.33       12.0    False  \n",
       "2             86.36       12.0    False  \n",
       "3             88.89        4.0    False  \n",
       "4             50.00        2.0    False  "
      ]
     },
     "execution_count": 56,
     "metadata": {},
     "output_type": "execute_result"
    }
   ],
   "source": [
    "df.to_csv(f\"{ROOT}/data/pc2.csv\", index=False)\n",
    "df.head(5)"
   ]
  },
  {
   "cell_type": "code",
   "execution_count": null,
   "id": "d31077e6-db42-4b93-ada2-3fc936881589",
   "metadata": {},
   "outputs": [],
   "source": []
  }
 ],
 "metadata": {
  "kernelspec": {
   "display_name": "Python 3 (ipykernel)",
   "language": "python",
   "name": "python3"
  },
  "language_info": {
   "codemirror_mode": {
    "name": "ipython",
    "version": 3
   },
   "file_extension": ".py",
   "mimetype": "text/x-python",
   "name": "python",
   "nbconvert_exporter": "python",
   "pygments_lexer": "ipython3",
   "version": "3.10.2"
  }
 },
 "nbformat": 4,
 "nbformat_minor": 5
}
